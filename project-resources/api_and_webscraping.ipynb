{
 "cells": [
  {
   "cell_type": "code",
   "execution_count": 1,
   "metadata": {},
   "outputs": [],
   "source": [
    "import json\n",
    "import requests\n",
    "from bs4 import BeautifulSoup"
   ]
  },
  {
   "cell_type": "code",
   "execution_count": 2,
   "metadata": {},
   "outputs": [],
   "source": [
    "page = requests.get('https://www.imdb.com/chart/toptv/?sort=rk,asc&mode=simple&page=1')"
   ]
  },
  {
   "cell_type": "code",
   "execution_count": 3,
   "metadata": {},
   "outputs": [],
   "source": [
    "soup = BeautifulSoup(page.content, 'html.parser')"
   ]
  },
  {
   "cell_type": "code",
   "execution_count": 4,
   "metadata": {},
   "outputs": [],
   "source": [
    "# CODE FOR WEBSCRAPING LIST OF TOP RATED SHOWS\n",
    "movie_titles = soup.find_all(class_='titleColumn')"
   ]
  },
  {
   "cell_type": "code",
   "execution_count": null,
   "metadata": {},
   "outputs": [],
   "source": [
    "imdb_codes = [mov.a['href'].split('/')[2] for mov in movie_titles]\n",
    "# list comprehension for idmb code per show"
   ]
  },
  {
   "cell_type": "code",
   "execution_count": null,
   "metadata": {},
   "outputs": [],
   "source": [
    "imdb_titles = [mov.a.text for mov in movie_titles]\n",
    "# list comprehension for title of shows in imdb top 250 rated shows"
   ]
  },
  {
   "cell_type": "code",
   "execution_count": 5,
   "metadata": {},
   "outputs": [],
   "source": [
    "code_title_dict = {mov.a['href'].split('/')[2]:mov.a.text for mov in movie_titles}\n",
    "# learned about dict comprehension, created dict comprehension for top 250 rated show, for codes and titles"
   ]
  },
  {
   "cell_type": "code",
   "execution_count": 6,
   "metadata": {},
   "outputs": [
    {
     "data": {
      "text/plain": [
       "250"
      ]
     },
     "execution_count": 6,
     "metadata": {},
     "output_type": "execute_result"
    }
   ],
   "source": [
    "len(code_title_dict)\n",
    "# check that len of dict is correspondent with length of imdb source"
   ]
  },
  {
   "cell_type": "code",
   "execution_count": 7,
   "metadata": {},
   "outputs": [],
   "source": [
    "idek = code_title_dict.keys()\n",
    "\n",
    "codes =[]\n",
    "for k in code_title_dict.keys():\n",
    "    codes.append(k)"
   ]
  },
  {
   "cell_type": "code",
   "execution_count": null,
   "metadata": {},
   "outputs": [],
   "source": [
    "codes[0]"
   ]
  },
  {
   "cell_type": "code",
   "execution_count": 8,
   "metadata": {},
   "outputs": [],
   "source": [
    "# CODE FOR CALLING TV API\n",
    "def tv_api_call(imdbcode):\n",
    "#     codes_list = []\n",
    "#     for value in imdbcode:\n",
    "    url =  'http://api.tvmaze.com/lookup/shows?imdb='+imdbcode\n",
    "#         response = requests.get(url)\n",
    "#         data = json.loads(response.text)\n",
    "# urlt = 'http://api.tvmaze.com/lookup/shows?imdb=tt0944947'\n",
    "#     headers = {'Authorization': 'Bearer {}'.format(api_key)}\n",
    "    \n",
    "    response = requests.get(url)\n",
    "    \n",
    "#     for value in response:\n",
    "    if response.status_code != 200:\n",
    "        data = -1# response.status_code\n",
    "    else:\n",
    "        data = json.loads(response.text)\n",
    "            \n",
    "#     data = json.loads(response.text)\n",
    "    \n",
    "# response = requests.get(urlt)\n",
    "    \n",
    "#     data = json.loads(response.text)\n",
    "#     print(response.status_code)\n",
    "    \n",
    "    return data\n",
    "\n",
    "# i need a loop to be able to continue if status code != 200. how do i include a loop inside this function\n",
    "# i believe it needs to be inside this function because this is where i get 'response' and where i can access status code"
   ]
  },
  {
   "cell_type": "code",
   "execution_count": null,
   "metadata": {},
   "outputs": [],
   "source": []
  },
  {
   "cell_type": "code",
   "execution_count": null,
   "metadata": {},
   "outputs": [],
   "source": [
    "# tv_api_call()"
   ]
  },
  {
   "cell_type": "code",
   "execution_count": 11,
   "metadata": {
    "scrolled": true
   },
   "outputs": [],
   "source": [
    "done = tv_api_call(codes[3])"
   ]
  },
  {
   "cell_type": "code",
   "execution_count": 15,
   "metadata": {},
   "outputs": [
    {
     "data": {
      "text/plain": [
       "{'id': 169,\n",
       " 'url': 'http://www.tvmaze.com/shows/169/breaking-bad',\n",
       " 'name': 'Breaking Bad',\n",
       " 'type': 'Scripted',\n",
       " 'language': 'English',\n",
       " 'genres': ['Drama', 'Crime', 'Thriller'],\n",
       " 'status': 'Ended',\n",
       " 'runtime': 60,\n",
       " 'premiered': '2008-01-20',\n",
       " 'officialSite': 'http://www.amc.com/shows/breaking-bad',\n",
       " 'schedule': {'time': '22:00', 'days': ['Sunday']},\n",
       " 'rating': {'average': 9.3},\n",
       " 'weight': 99,\n",
       " 'network': {'id': 20,\n",
       "  'name': 'AMC',\n",
       "  'country': {'name': 'United States',\n",
       "   'code': 'US',\n",
       "   'timezone': 'America/New_York'}},\n",
       " 'webChannel': {'id': 1, 'name': 'Netflix', 'country': None},\n",
       " 'externals': {'tvrage': 18164, 'thetvdb': 81189, 'imdb': 'tt0903747'},\n",
       " 'image': {'medium': 'http://static.tvmaze.com/uploads/images/medium_portrait/0/2400.jpg',\n",
       "  'original': 'http://static.tvmaze.com/uploads/images/original_untouched/0/2400.jpg'},\n",
       " 'summary': \"<p><b>Breaking Bad</b> follows protagonist Walter White, a chemistry teacher who lives in New Mexico with his wife and teenage son who has cerebral palsy. White is diagnosed with Stage III cancer and given a prognosis of two years left to live. With a new sense of fearlessness based on his medical prognosis, and a desire to secure his family's financial security, White chooses to enter a dangerous world of drugs and crime and ascends to power in this world. The series explores how a fatal diagnosis such as White's releases a typical man from the daily concerns and constraints of normal society and follows his transformation from mild family man to a kingpin of the drug trade.</p>\",\n",
       " 'updated': 1582273722,\n",
       " '_links': {'self': {'href': 'http://api.tvmaze.com/shows/169'},\n",
       "  'previousepisode': {'href': 'http://api.tvmaze.com/episodes/12253'}}}"
      ]
     },
     "execution_count": 15,
     "metadata": {},
     "output_type": "execute_result"
    }
   ],
   "source": [
    "done"
   ]
  },
  {
   "cell_type": "code",
   "execution_count": null,
   "metadata": {},
   "outputs": [],
   "source": [
    "columms = ['imdbid','name', 'type', 'genres', 'runtime', 'rating', 'network', 'webchannel']"
   ]
  },
  {
   "cell_type": "code",
   "execution_count": null,
   "metadata": {},
   "outputs": [],
   "source": [
    "# empty = []\n",
    "# # for item in done:\n",
    "# show_list = {'imdSam Raykhmanb_id':done['externals']['imdb'], 'title':done['name'], 'type':done['type'], 'genre':done['genres'],\n",
    "#              'runtime':done['runtime'], 'rating':done['rating']['average'], 'network':done['network']['name'], \n",
    "#              'web_channel':done['webChannel']['name']}\n",
    "# show_list"
   ]
  },
  {
   "cell_type": "code",
   "execution_count": 38,
   "metadata": {},
   "outputs": [],
   "source": [
    "def parse_shows(show):\n",
    "    show_dict = []\n",
    "    for result in show:\n",
    "        if 'webChannel' in result != None:\n",
    "            each_show = {'imdb_id':result['externals']['imdb'],\n",
    "                         'title':result['name'],\n",
    "                         'type':result['type'],\n",
    "                         'genre':result['genres'],\n",
    "                         'runtime':result['runtime'],\n",
    "                         'rating':result['rating']['average'],\n",
    "                         'network':result['network']['name'], \n",
    "                         'web_channel':result['webChannel']['name']}\n",
    "        else:\n",
    "            each_show = {'imdb_id':result['externals']['imdb'],\n",
    "                         'title':result['name'],\n",
    "                         'type':result['type'],\n",
    "                         'genre':result['genres'],\n",
    "                         'runtime':result['runtime'],\n",
    "                         'rating':result['rating']['average'],\n",
    "                         'network':result['network']['name'], \n",
    "                         'web_channel':result['network']['name']}\n",
    "    \n",
    "    show_dict.append(each_show)\n",
    "    return show_dict"
   ]
  },
  {
   "cell_type": "code",
   "execution_count": 39,
   "metadata": {
    "scrolled": true
   },
   "outputs": [
    {
     "ename": "TypeError",
     "evalue": "string indices must be integers",
     "output_type": "error",
     "traceback": [
      "\u001b[0;31m---------------------------------------------------------------------------\u001b[0m",
      "\u001b[0;31mTypeError\u001b[0m                                 Traceback (most recent call last)",
      "\u001b[0;32m<ipython-input-39-309199803fe7>\u001b[0m in \u001b[0;36m<module>\u001b[0;34m\u001b[0m\n\u001b[0;32m----> 1\u001b[0;31m \u001b[0mparse_shows\u001b[0m\u001b[0;34m(\u001b[0m\u001b[0mdone\u001b[0m\u001b[0;34m)\u001b[0m\u001b[0;34m\u001b[0m\u001b[0;34m\u001b[0m\u001b[0m\n\u001b[0m",
      "\u001b[0;32m<ipython-input-38-0620d8f23a8d>\u001b[0m in \u001b[0;36mparse_shows\u001b[0;34m(show)\u001b[0m\n\u001b[1;32m     12\u001b[0m                          'web_channel':result['webChannel']['name']}\n\u001b[1;32m     13\u001b[0m         \u001b[0;32melse\u001b[0m\u001b[0;34m:\u001b[0m\u001b[0;34m\u001b[0m\u001b[0;34m\u001b[0m\u001b[0m\n\u001b[0;32m---> 14\u001b[0;31m             each_show = {'imdb_id':result['externals']['imdb'],\n\u001b[0m\u001b[1;32m     15\u001b[0m                          \u001b[0;34m'title'\u001b[0m\u001b[0;34m:\u001b[0m\u001b[0mresult\u001b[0m\u001b[0;34m[\u001b[0m\u001b[0;34m'name'\u001b[0m\u001b[0;34m]\u001b[0m\u001b[0;34m,\u001b[0m\u001b[0;34m\u001b[0m\u001b[0;34m\u001b[0m\u001b[0m\n\u001b[1;32m     16\u001b[0m                          \u001b[0;34m'type'\u001b[0m\u001b[0;34m:\u001b[0m\u001b[0mresult\u001b[0m\u001b[0;34m[\u001b[0m\u001b[0;34m'type'\u001b[0m\u001b[0;34m]\u001b[0m\u001b[0;34m,\u001b[0m\u001b[0;34m\u001b[0m\u001b[0;34m\u001b[0m\u001b[0m\n",
      "\u001b[0;31mTypeError\u001b[0m: string indices must be integers"
     ]
    }
   ],
   "source": [
    "parse_shows(done)"
   ]
  },
  {
   "cell_type": "code",
   "execution_count": null,
   "metadata": {},
   "outputs": [],
   "source": [
    "# codes"
   ]
  },
  {
   "cell_type": "code",
   "execution_count": null,
   "metadata": {},
   "outputs": [],
   "source": [
    "# responses = []\n",
    "# for value in codes:\n",
    "# #     idk = tv_api_call(value)\n",
    "# # #     if idk.status_code == 200:\n",
    "# #         responses.append(idk)\n",
    "# #     second_call = parse_shows(responses)\n",
    "#     first_call = tv_api_call(value)\n",
    "# #     second_call = \n",
    "# #     append.(second_call)"
   ]
  },
  {
   "cell_type": "code",
   "execution_count": null,
   "metadata": {},
   "outputs": [],
   "source": [
    "responses = []\n",
    "for value in codes:\n",
    "    idk = tv_api_call(value)\n",
    "    if idk != -1:\n",
    "        responses.append(idk)\n",
    "\n",
    "\n",
    "# idk\n",
    "# if idk != -1\n",
    "# append to responses"
   ]
  },
  {
   "cell_type": "code",
   "execution_count": null,
   "metadata": {},
   "outputs": [],
   "source": [
    "responses"
   ]
  },
  {
   "cell_type": "code",
   "execution_count": null,
   "metadata": {},
   "outputs": [],
   "source": [
    "second_call = parse_shows(responses)"
   ]
  },
  {
   "cell_type": "code",
   "execution_count": null,
   "metadata": {},
   "outputs": [],
   "source": [
    "len(responses)"
   ]
  },
  {
   "cell_type": "code",
   "execution_count": null,
   "metadata": {},
   "outputs": [],
   "source": [
    "# print(responses) takes response of each api call and cleans it up "
   ]
  },
  {
   "cell_type": "code",
   "execution_count": null,
   "metadata": {},
   "outputs": [],
   "source": [
    "# for tat_id in tattoo_id:\n",
    "\n",
    "#     first_call = yelp_call_rev(tatRaykhman_id, api_key)\n",
    "#     second_call = parse_results_rev(first_call, tat_id)\n",
    "#     data_save_rev(second_call, 'tatrev_api.csv')"
   ]
  }
 ],
 "metadata": {
  "kernelspec": {
   "display_name": "Python 3",
   "language": "python",
   "name": "python3"
  },
  "language_info": {
   "codemirror_mode": {
    "name": "ipython",
    "version": 3
   },
   "file_extension": ".py",
   "mimetype": "text/x-python",
   "name": "python",
   "nbconvert_exporter": "python",
   "pygments_lexer": "ipython3",
   "version": "3.7.4"
  }
 },
 "nbformat": 4,
 "nbformat_minor": 2
}
