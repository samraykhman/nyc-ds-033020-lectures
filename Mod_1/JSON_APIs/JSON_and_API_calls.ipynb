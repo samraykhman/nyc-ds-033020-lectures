{
 "cells": [
  {
   "cell_type": "markdown",
   "metadata": {},
   "source": [
    "## Starting Off\n",
    "\n",
    "`"
   ]
  },
  {
   "cell_type": "code",
   "execution_count": 3,
   "metadata": {},
   "outputs": [],
   "source": [
    "data = [ {}, \n",
    "         {'class': 'DS033020',\n",
    "         'start_date': '03-30-20',\n",
    "         'instructors': [{'name':'Sean Abu Wilson',\n",
    "                     'dob' : '02-06',\n",
    "                    'preferred_name' :'SeanAbu'},\n",
    "                    {'name': 'Yish Lim',\n",
    "                     'dob' : '07-22',\n",
    "                    'preferred_name': 'Yish'},\n",
    "                    {'name': 'Matthew Wasserman',\n",
    "                    'dob' : '08-26',\n",
    "                    'preferred_name': 'Matt'}]},\n",
    "         {}\n",
    "       ]"
   ]
  },
  {
   "cell_type": "markdown",
   "metadata": {},
   "source": [
    "1. What type of data structure is `data`? list\n",
    "2. How many elements are in `data`? (i.e. what is the length of `data`) 3\n",
    "3. Write out the code to access the value `'07-22'`. data[1]['instructors'][1]['dob']\n",
    "4. Write code that will compile all of the instructors preferred name into a list."
   ]
  },
  {
   "cell_type": "code",
   "execution_count": 10,
   "metadata": {},
   "outputs": [
    {
     "data": {
      "text/plain": [
       "'07-22'"
      ]
     },
     "execution_count": 10,
     "metadata": {},
     "output_type": "execute_result"
    }
   ],
   "source": [
    "data[1]['instructors'][1]['dob']"
   ]
  },
  {
   "cell_type": "code",
   "execution_count": 18,
   "metadata": {},
   "outputs": [
    {
     "data": {
      "text/plain": [
       "['Sean Abu Wilson', 'Yish Lim', 'Matthew Wasserman']"
      ]
     },
     "execution_count": 18,
     "metadata": {},
     "output_type": "execute_result"
    }
   ],
   "source": [
    "[data[1]['instructors'][i]['name'] for i in range(len(data[1]['instructors']))]"
   ]
  },
  {
   "cell_type": "code",
   "execution_count": 22,
   "metadata": {},
   "outputs": [
    {
     "data": {
      "text/plain": [
       "['SeanAbu', 'Yish', 'Matt']"
      ]
     },
     "execution_count": 22,
     "metadata": {},
     "output_type": "execute_result"
    }
   ],
   "source": [
    "[instructor['preferred_name'] for instructor in data[1]['instructors']]"
   ]
  },
  {
   "cell_type": "markdown",
   "metadata": {},
   "source": [
    "# Using APIs and JSON Data"
   ]
  },
  {
   "cell_type": "markdown",
   "metadata": {},
   "source": [
    "## Objectives\n",
    "You will be able to:\n",
    "* Access and manipulate data inside a JSON file\n",
    "* Pull data from an API and parse/transform the data"
   ]
  },
  {
   "cell_type": "markdown",
   "metadata": {},
   "source": [
    "## Agenda\n",
    "\n",
    "* Review JSON Schemas\n",
    "* Introduce APIs.\n",
    "* Walk through how to make an API request. \n",
    "* Read the documentation of Yelp's API\n"
   ]
  },
  {
   "cell_type": "markdown",
   "metadata": {},
   "source": [
    "### What is the difference between a JSON and a python dictionary?"
   ]
  },
  {
   "cell_type": "markdown",
   "metadata": {},
   "source": [
    "## Loading the JSON file\n",
    "\n",
    "As before, we begin by importing the json package, opening a file with python's built in function, and then loading that data in."
   ]
  },
  {
   "cell_type": "code",
   "execution_count": 23,
   "metadata": {},
   "outputs": [],
   "source": [
    "import json\n",
    "f = open('data.json')\n",
    "data = json.load(f)"
   ]
  },
  {
   "cell_type": "code",
   "execution_count": 24,
   "metadata": {
    "scrolled": true
   },
   "outputs": [
    {
     "data": {
      "text/plain": [
       "{'businesses': [{'id': 'hYWsMDz0ms7TOnFTcsxYcw',\n",
       "   'alias': 'manolis-ice-cream-pastries-and-cakes-austin',\n",
       "   'name': 'Manolis Ice Cream, Pastries, & Cakes',\n",
       "   'image_url': 'https://s3-media2.fl.yelpcdn.com/bphoto/aAmOnvITNNjs04XnKFvSGw/o.jpg',\n",
       "   'is_closed': False,\n",
       "   'url': 'https://www.yelp.com/biz/manolis-ice-cream-pastries-and-cakes-austin?adjust_creative=F3qypMKtTmS20ke5XNx-Sg&utm_campaign=yelp_api_v3&utm_medium=api_v3_business_search&utm_source=F3qypMKtTmS20ke5XNx-Sg',\n",
       "   'review_count': 156,\n",
       "   'categories': [{'alias': 'desserts', 'title': 'Desserts'},\n",
       "    {'alias': 'icecream', 'title': 'Ice Cream & Frozen Yogurt'},\n",
       "    {'alias': 'bakeries', 'title': 'Bakeries'}],\n",
       "   'rating': 5.0,\n",
       "   'coordinates': {'latitude': 30.24441, 'longitude': -97.75808},\n",
       "   'transactions': ['pickup'],\n",
       "   'price': '$',\n",
       "   'location': {'address1': '603 W Live Oak St',\n",
       "    'address2': None,\n",
       "    'address3': '',\n",
       "    'city': 'Austin',\n",
       "    'zip_code': '78704',\n",
       "    'country': 'US',\n",
       "    'state': 'TX',\n",
       "    'display_address': ['603 W Live Oak St', 'Austin, TX 78704']},\n",
       "   'phone': '+15123875045',\n",
       "   'display_phone': '(512) 387-5045',\n",
       "   'distance': 6759.193628660178},\n",
       "  {'id': 'rfqq-rHTTipS5XSuOhxCXg',\n",
       "   'alias': 'dolce-neve-austin',\n",
       "   'name': 'Dolce Neve',\n",
       "   'image_url': 'https://s3-media2.fl.yelpcdn.com/bphoto/1DgEa_pgroGWjQeZasXo-Q/o.jpg',\n",
       "   'is_closed': False,\n",
       "   'url': 'https://www.yelp.com/biz/dolce-neve-austin?adjust_creative=F3qypMKtTmS20ke5XNx-Sg&utm_campaign=yelp_api_v3&utm_medium=api_v3_business_search&utm_source=F3qypMKtTmS20ke5XNx-Sg',\n",
       "   'review_count': 543,\n",
       "   'categories': [{'alias': 'gelato', 'title': 'Gelato'},\n",
       "    {'alias': 'icecream', 'title': 'Ice Cream & Frozen Yogurt'},\n",
       "    {'alias': 'coffee', 'title': 'Coffee & Tea'}],\n",
       "   'rating': 4.5,\n",
       "   'coordinates': {'latitude': 30.247625, 'longitude': -97.755404},\n",
       "   'transactions': [],\n",
       "   'price': '$',\n",
       "   'location': {'address1': '1713 S 1st St',\n",
       "    'address2': '',\n",
       "    'address3': '',\n",
       "    'city': 'Austin',\n",
       "    'zip_code': '78704',\n",
       "    'country': 'US',\n",
       "    'state': 'TX',\n",
       "    'display_address': ['1713 S 1st St', 'Austin, TX 78704']},\n",
       "   'phone': '+15128045568',\n",
       "   'display_phone': '(512) 804-5568',\n",
       "   'distance': 6401.051305407798},\n",
       "  {'id': 'TeVBtbf3Z8TC_wgddPWH7A',\n",
       "   'alias': 'scoop-and-score-cedar-park-4',\n",
       "   'name': 'Scoop & Score',\n",
       "   'image_url': 'https://s3-media1.fl.yelpcdn.com/bphoto/cbKYHyRn7FpveylAPX7VgA/o.jpg',\n",
       "   'is_closed': False,\n",
       "   'url': 'https://www.yelp.com/biz/scoop-and-score-cedar-park-4?adjust_creative=F3qypMKtTmS20ke5XNx-Sg&utm_campaign=yelp_api_v3&utm_medium=api_v3_business_search&utm_source=F3qypMKtTmS20ke5XNx-Sg',\n",
       "   'review_count': 130,\n",
       "   'categories': [{'alias': 'coffee', 'title': 'Coffee & Tea'},\n",
       "    {'alias': 'icecream', 'title': 'Ice Cream & Frozen Yogurt'}],\n",
       "   'rating': 5.0,\n",
       "   'coordinates': {'latitude': 30.5183617420555,\n",
       "    'longitude': -97.7906447595262},\n",
       "   'transactions': ['pickup', 'delivery'],\n",
       "   'price': '$',\n",
       "   'location': {'address1': '111 N Vista Ridge Blvd',\n",
       "    'address2': 'Ste 202',\n",
       "    'address3': '',\n",
       "    'city': 'Cedar Park',\n",
       "    'zip_code': '78613',\n",
       "    'country': 'US',\n",
       "    'state': 'TX',\n",
       "    'display_address': ['111 N Vista Ridge Blvd',\n",
       "     'Ste 202',\n",
       "     'Cedar Park, TX 78613']},\n",
       "   'phone': '+15123875383',\n",
       "   'display_phone': '(512) 387-5383',\n",
       "   'distance': 23916.645362565087},\n",
       "  {'id': 'YVdTl-VERcOig4MP1264Rw',\n",
       "   'alias': 'sweet-ritual-austin',\n",
       "   'name': 'Sweet Ritual',\n",
       "   'image_url': 'https://s3-media3.fl.yelpcdn.com/bphoto/6T0WLO2XvcrGkXSJgjL10Q/o.jpg',\n",
       "   'is_closed': False,\n",
       "   'url': 'https://www.yelp.com/biz/sweet-ritual-austin?adjust_creative=F3qypMKtTmS20ke5XNx-Sg&utm_campaign=yelp_api_v3&utm_medium=api_v3_business_search&utm_source=F3qypMKtTmS20ke5XNx-Sg',\n",
       "   'review_count': 509,\n",
       "   'categories': [{'alias': 'vegan', 'title': 'Vegan'},\n",
       "    {'alias': 'icecream', 'title': 'Ice Cream & Frozen Yogurt'}],\n",
       "   'rating': 4.5,\n",
       "   'coordinates': {'latitude': 30.30608, 'longitude': -97.71523},\n",
       "   'transactions': [],\n",
       "   'price': '$',\n",
       "   'location': {'address1': '4631 Airport Blvd',\n",
       "    'address2': 'Ste 114',\n",
       "    'address3': '',\n",
       "    'city': 'Austin',\n",
       "    'zip_code': '78751',\n",
       "    'country': 'US',\n",
       "    'state': 'TX',\n",
       "    'display_address': ['4631 Airport Blvd', 'Ste 114', 'Austin, TX 78751']},\n",
       "   'phone': '+15126668346',\n",
       "   'display_phone': '(512) 666-8346',\n",
       "   'distance': 4096.235786081973},\n",
       "  {'id': 'Qt92iz7b_3v_0BDGT0TLSA',\n",
       "   'alias': 'churro-co-austin-6',\n",
       "   'name': 'Churro Co',\n",
       "   'image_url': 'https://s3-media1.fl.yelpcdn.com/bphoto/vaN49zFjUuHUXd4EUbB-bA/o.jpg',\n",
       "   'is_closed': False,\n",
       "   'url': 'https://www.yelp.com/biz/churro-co-austin-6?adjust_creative=F3qypMKtTmS20ke5XNx-Sg&utm_campaign=yelp_api_v3&utm_medium=api_v3_business_search&utm_source=F3qypMKtTmS20ke5XNx-Sg',\n",
       "   'review_count': 278,\n",
       "   'categories': [{'alias': 'desserts', 'title': 'Desserts'},\n",
       "    {'alias': 'foodtrucks', 'title': 'Food Trucks'}],\n",
       "   'rating': 4.5,\n",
       "   'coordinates': {'latitude': 30.24602, 'longitude': -97.75695},\n",
       "   'transactions': [],\n",
       "   'price': '$',\n",
       "   'location': {'address1': '1906 South 1st St',\n",
       "    'address2': None,\n",
       "    'address3': '',\n",
       "    'city': 'Austin',\n",
       "    'zip_code': '78704',\n",
       "    'country': 'US',\n",
       "    'state': 'TX',\n",
       "    'display_address': ['1906 South 1st St', 'Austin, TX 78704']},\n",
       "   'phone': '+15129055267',\n",
       "   'display_phone': '(512) 905-5267',\n",
       "   'distance': 6573.989627564328}],\n",
       " 'total': 1400,\n",
       " 'region': {'center': {'longitude': -97.75772094726562,\n",
       "   'latitude': 30.305156315977833}}}"
      ]
     },
     "execution_count": 24,
     "metadata": {},
     "output_type": "execute_result"
    }
   ],
   "source": [
    "data"
   ]
  },
  {
   "cell_type": "markdown",
   "metadata": {},
   "source": [
    "## Exploring JSON Schemas  \n",
    "\n",
    "Recall that JSON files have a nested structure. The most granular level of raw data will be individual numbers (float/int) and strings. These in turn will be stored in the equivalent of python lists and dictionaries. Because these can be combined, we'll start exploring by checking the type of our root object, and start mapping out the hierarchy of the json file."
   ]
  },
  {
   "cell_type": "code",
   "execution_count": 25,
   "metadata": {},
   "outputs": [
    {
     "data": {
      "text/plain": [
       "dict"
      ]
     },
     "execution_count": 25,
     "metadata": {},
     "output_type": "execute_result"
    }
   ],
   "source": [
    "type(data)"
   ]
  },
  {
   "cell_type": "code",
   "execution_count": 29,
   "metadata": {},
   "outputs": [
    {
     "data": {
      "text/plain": [
       "{'id': 'hYWsMDz0ms7TOnFTcsxYcw',\n",
       " 'alias': 'manolis-ice-cream-pastries-and-cakes-austin',\n",
       " 'name': 'Manolis Ice Cream, Pastries, & Cakes',\n",
       " 'image_url': 'https://s3-media2.fl.yelpcdn.com/bphoto/aAmOnvITNNjs04XnKFvSGw/o.jpg',\n",
       " 'is_closed': False,\n",
       " 'url': 'https://www.yelp.com/biz/manolis-ice-cream-pastries-and-cakes-austin?adjust_creative=F3qypMKtTmS20ke5XNx-Sg&utm_campaign=yelp_api_v3&utm_medium=api_v3_business_search&utm_source=F3qypMKtTmS20ke5XNx-Sg',\n",
       " 'review_count': 156,\n",
       " 'categories': [{'alias': 'desserts', 'title': 'Desserts'},\n",
       "  {'alias': 'icecream', 'title': 'Ice Cream & Frozen Yogurt'},\n",
       "  {'alias': 'bakeries', 'title': 'Bakeries'}],\n",
       " 'rating': 5.0,\n",
       " 'coordinates': {'latitude': 30.24441, 'longitude': -97.75808},\n",
       " 'transactions': ['pickup'],\n",
       " 'price': '$',\n",
       " 'location': {'address1': '603 W Live Oak St',\n",
       "  'address2': None,\n",
       "  'address3': '',\n",
       "  'city': 'Austin',\n",
       "  'zip_code': '78704',\n",
       "  'country': 'US',\n",
       "  'state': 'TX',\n",
       "  'display_address': ['603 W Live Oak St', 'Austin, TX 78704']},\n",
       " 'phone': '+15123875045',\n",
       " 'display_phone': '(512) 387-5045',\n",
       " 'distance': 6759.193628660178}"
      ]
     },
     "execution_count": 29,
     "metadata": {},
     "output_type": "execute_result"
    }
   ],
   "source": [
    "data['businesses'][0]"
   ]
  },
  {
   "cell_type": "markdown",
   "metadata": {},
   "source": [
    "As you can see, in this case, the first level of the hierarchy is a dictionary. Let's explore what keys are within this:"
   ]
  },
  {
   "cell_type": "code",
   "execution_count": 4,
   "metadata": {},
   "outputs": [
    {
     "data": {
      "text/plain": [
       "dict_keys(['businesses', 'total', 'region'])"
      ]
     },
     "execution_count": 4,
     "metadata": {},
     "output_type": "execute_result"
    }
   ],
   "source": [
    "data.keys()"
   ]
  },
  {
   "cell_type": "markdown",
   "metadata": {},
   "source": [
    "In this case, there is only a single key, 'albums', so we'll continue on down the pathway exploring and mapping out the hierarchy. Once again, let's start by checking the type of this nested data structure."
   ]
  },
  {
   "cell_type": "code",
   "execution_count": 30,
   "metadata": {},
   "outputs": [
    {
     "data": {
      "text/plain": [
       "list"
      ]
     },
     "execution_count": 30,
     "metadata": {},
     "output_type": "execute_result"
    }
   ],
   "source": [
    "type(data['businesses'])"
   ]
  },
  {
   "cell_type": "markdown",
   "metadata": {},
   "source": [
    "Now we have a list of within a dictionary. Once again, let's investigate what's within this list (JSON calls the equivalent of Python dictionaries Objects.)"
   ]
  },
  {
   "cell_type": "code",
   "execution_count": 6,
   "metadata": {},
   "outputs": [
    {
     "data": {
      "text/plain": [
       "{'id': 'hYWsMDz0ms7TOnFTcsxYcw',\n",
       " 'alias': 'manolis-ice-cream-pastries-and-cakes-austin',\n",
       " 'name': 'Manolis Ice Cream, Pastries, & Cakes',\n",
       " 'image_url': 'https://s3-media2.fl.yelpcdn.com/bphoto/aAmOnvITNNjs04XnKFvSGw/o.jpg',\n",
       " 'is_closed': False,\n",
       " 'url': 'https://www.yelp.com/biz/manolis-ice-cream-pastries-and-cakes-austin?adjust_creative=F3qypMKtTmS20ke5XNx-Sg&utm_campaign=yelp_api_v3&utm_medium=api_v3_business_search&utm_source=F3qypMKtTmS20ke5XNx-Sg',\n",
       " 'review_count': 156,\n",
       " 'categories': [{'alias': 'desserts', 'title': 'Desserts'},\n",
       "  {'alias': 'icecream', 'title': 'Ice Cream & Frozen Yogurt'},\n",
       "  {'alias': 'bakeries', 'title': 'Bakeries'}],\n",
       " 'rating': 5.0,\n",
       " 'coordinates': {'latitude': 30.24441, 'longitude': -97.75808},\n",
       " 'transactions': ['pickup'],\n",
       " 'price': '$',\n",
       " 'location': {'address1': '603 W Live Oak St',\n",
       "  'address2': None,\n",
       "  'address3': '',\n",
       "  'city': 'Austin',\n",
       "  'zip_code': '78704',\n",
       "  'country': 'US',\n",
       "  'state': 'TX',\n",
       "  'display_address': ['603 W Live Oak St', 'Austin, TX 78704']},\n",
       " 'phone': '+15123875045',\n",
       " 'display_phone': '(512) 387-5045',\n",
       " 'distance': 6759.193628660178}"
      ]
     },
     "execution_count": 6,
     "metadata": {},
     "output_type": "execute_result"
    }
   ],
   "source": [
    "data['businesses'][0]"
   ]
  },
  {
   "cell_type": "code",
   "execution_count": 31,
   "metadata": {},
   "outputs": [
    {
     "data": {
      "text/plain": [
       "dict_keys(['id', 'alias', 'name', 'image_url', 'is_closed', 'url', 'review_count', 'categories', 'rating', 'coordinates', 'transactions', 'price', 'location', 'phone', 'display_phone', 'distance'])"
      ]
     },
     "execution_count": 31,
     "metadata": {},
     "output_type": "execute_result"
    }
   ],
   "source": [
    "data['businesses'][0].keys()"
   ]
  },
  {
   "cell_type": "markdown",
   "metadata": {},
   "source": [
    "At this point, you also probably have a good idea of the general structure of the json file. However, there is still a lot more we could investigate further:"
   ]
  },
  {
   "cell_type": "markdown",
   "metadata": {},
   "source": [
    "## What is an API?"
   ]
  },
  {
   "cell_type": "markdown",
   "metadata": {},
   "source": [
    "**Application Program Interfaces**, or APIs, are commonly used to retrieve data from remote websites. Sites like Reddit, Twitter, and Facebook all offer certain data through their APIs. \n",
    "\n",
    "To use an API, you make a request to a remote web server, and retrieve the data you need."
   ]
  },
  {
   "cell_type": "markdown",
   "metadata": {},
   "source": [
    "Python with two built-in modules, `urllib` and `urllib2` to handle these requests but these could be very confusing  and the documentation is not clear.\n",
    "\n",
    "To make these things simpler, one easy-to-use third-party library, known as` Requests`, is what most developers prefer to use it instead or urllib/urllib2. With this library, you can access content like web page headers, form data, files, and parameters via simple Python commands. It also allows you to access the response data in a simple way."
   ]
  },
  {
   "cell_type": "markdown",
   "metadata": {},
   "source": [
    "![](logo.png)"
   ]
  },
  {
   "cell_type": "markdown",
   "metadata": {},
   "source": [
    "Below is how you would install and import the requests library before making any requests. \n",
    "```python\n",
    "# Uncomment and install requests if you dont have it already\n",
    "# !pip install requests\n",
    "\n",
    "# Import requests to working environment\n",
    "import requests\n",
    "```"
   ]
  },
  {
   "cell_type": "code",
   "execution_count": 37,
   "metadata": {},
   "outputs": [
    {
     "name": "stdout",
     "output_type": "stream",
     "text": [
      "Requirement already satisfied: requests in /Users/samraykhman/opt/anaconda3/lib/python3.7/site-packages (2.22.0)\n",
      "Requirement already satisfied: chardet<3.1.0,>=3.0.2 in /Users/samraykhman/opt/anaconda3/lib/python3.7/site-packages (from requests) (3.0.4)\n",
      "Requirement already satisfied: urllib3!=1.25.0,!=1.25.1,<1.26,>=1.21.1 in /Users/samraykhman/opt/anaconda3/lib/python3.7/site-packages (from requests) (1.24.2)\n",
      "Requirement already satisfied: certifi>=2017.4.17 in /Users/samraykhman/opt/anaconda3/lib/python3.7/site-packages (from requests) (2019.9.11)\n",
      "Requirement already satisfied: idna<2.9,>=2.5 in /Users/samraykhman/opt/anaconda3/lib/python3.7/site-packages (from requests) (2.8)\n"
     ]
    }
   ],
   "source": [
    "!pip install requests"
   ]
  },
  {
   "cell_type": "code",
   "execution_count": 36,
   "metadata": {},
   "outputs": [],
   "source": [
    "import requests\n"
   ]
  },
  {
   "cell_type": "markdown",
   "metadata": {},
   "source": [
    "\n",
    "## The `.get()` Method\n",
    "\n",
    "Now we have requests library ready in our working environment, we can start making some requests using the `.get()` method as shown below:\n",
    "\n",
    "\n",
    "We can use a simple GET request to retrieve information from the OpenNotify API.\n",
    "\n",
    "\n",
    "\n",
    "\n",
    "OpenNotify has several API endpoints. An endpoint is a server route that is used to retrieve different data from the API. For example, the /comments endpoint on the Reddit API might retrieve information about comments, whereas the /users endpoint might retrieve data about users. To access them, you would add the endpoint to the base url of the API.\n",
    "\n"
   ]
  },
  {
   "cell_type": "code",
   "execution_count": 38,
   "metadata": {},
   "outputs": [
    {
     "name": "stdout",
     "output_type": "stream",
     "text": [
      "200\n"
     ]
    }
   ],
   "source": [
    "# Make a get request to get the latest position of the international space station from the opennotify api.\n",
    "response = requests.get(\"http://api.open-notify.org/iss-now.json\")\n",
    "# Print the status code of the response.\n",
    "print(response.status_code)"
   ]
  },
  {
   "cell_type": "code",
   "execution_count": 44,
   "metadata": {},
   "outputs": [
    {
     "data": {
      "text/plain": [
       "['__attrs__',\n",
       " '__bool__',\n",
       " '__class__',\n",
       " '__delattr__',\n",
       " '__dict__',\n",
       " '__dir__',\n",
       " '__doc__',\n",
       " '__enter__',\n",
       " '__eq__',\n",
       " '__exit__',\n",
       " '__format__',\n",
       " '__ge__',\n",
       " '__getattribute__',\n",
       " '__getstate__',\n",
       " '__gt__',\n",
       " '__hash__',\n",
       " '__init__',\n",
       " '__init_subclass__',\n",
       " '__iter__',\n",
       " '__le__',\n",
       " '__lt__',\n",
       " '__module__',\n",
       " '__ne__',\n",
       " '__new__',\n",
       " '__nonzero__',\n",
       " '__reduce__',\n",
       " '__reduce_ex__',\n",
       " '__repr__',\n",
       " '__setattr__',\n",
       " '__setstate__',\n",
       " '__sizeof__',\n",
       " '__str__',\n",
       " '__subclasshook__',\n",
       " '__weakref__',\n",
       " '_content',\n",
       " '_content_consumed',\n",
       " '_next',\n",
       " 'apparent_encoding',\n",
       " 'close',\n",
       " 'connection',\n",
       " 'content',\n",
       " 'cookies',\n",
       " 'elapsed',\n",
       " 'encoding',\n",
       " 'headers',\n",
       " 'history',\n",
       " 'is_permanent_redirect',\n",
       " 'is_redirect',\n",
       " 'iter_content',\n",
       " 'iter_lines',\n",
       " 'json',\n",
       " 'links',\n",
       " 'next',\n",
       " 'ok',\n",
       " 'raise_for_status',\n",
       " 'raw',\n",
       " 'reason',\n",
       " 'request',\n",
       " 'status_code',\n",
       " 'text',\n",
       " 'url']"
      ]
     },
     "execution_count": 44,
     "metadata": {},
     "output_type": "execute_result"
    }
   ],
   "source": [
    "dir(response)"
   ]
  },
  {
   "cell_type": "markdown",
   "metadata": {},
   "source": [
    "\n",
    "GET is by far the most used HTTP method. We can use GET request to retrieve data from any destination. \n",
    "GET is by far the most used HTTP method. We can use GET request to retrieve data from any destination. \n",
    "\n",
    "## Status Codes\n",
    "The request we make may not be always successful. The best way is to check the status code which gets returned with the response. Here is how you would do this. \n"
   ]
  },
  {
   "cell_type": "code",
   "execution_count": null,
   "metadata": {},
   "outputs": [],
   "source": [
    "# Code here \n",
    "response.status_code == requests.codes.ok"
   ]
  },
  {
   "cell_type": "markdown",
   "metadata": {},
   "source": [
    "So this is a good check to see if our request was successful. Depending on the status of the web server, the access rights of the clients and availibility of requested information. A web server may return a number of status codes within the response. Wikipedia has an exhaustive details on all these codes. [Check them out here](https://en.wikipedia.org/wiki/List_of_HTTP_status_codes)"
   ]
  },
  {
   "cell_type": "markdown",
   "metadata": {},
   "source": [
    "### Common status codes\n",
    "\n",
    "* 200 — everything went okay, and the result has been returned (if any)\n",
    "* 301 — the server is redirecting you to a different endpoint. This can happen when a company switches domain names, or an endpoint name is changed.\n",
    "* 401 — the server thinks you’re not authenticated. This happens when you don’t send the right credentials to access an API (we’ll talk about authentication in a later post).\n",
    "* 400 — the server thinks you made a bad request. This can happen when you don’t send along the right data, among other things.\n",
    "* 403 — the resource you’re trying to access is forbidden — you don’t have the right permissions to see it.\n",
    "* 404 — the resource you tried to access wasn’t found on the server."
   ]
  },
  {
   "cell_type": "code",
   "execution_count": 45,
   "metadata": {},
   "outputs": [
    {
     "name": "stdout",
     "output_type": "stream",
     "text": [
      "404\n"
     ]
    }
   ],
   "source": [
    "request2 = requests.get('http://api.open-notify.org/fake-endpoint')\n",
    "print(request2.status_code)"
   ]
  },
  {
   "cell_type": "markdown",
   "metadata": {},
   "source": [
    "### Hitting the right endpoint\n",
    "iss-pass wasn’t a valid endpoint, so we got a 404 status code in response. We forgot to add `.json` at the end, as the API documentation states.\n",
    "\n",
    "We’ll now make a GET request to http://api.open-notify.org/iss-pass.json."
   ]
  },
  {
   "cell_type": "markdown",
   "metadata": {},
   "source": [
    "\n",
    "## Response Contents\n",
    "Once we know that our request was successful and we have a valid response, we can check the returned information using `.text` property of the response object. \n",
    "```python\n",
    "print (resp.text)\n",
    "```"
   ]
  },
  {
   "cell_type": "code",
   "execution_count": 12,
   "metadata": {},
   "outputs": [
    {
     "name": "stdout",
     "output_type": "stream",
     "text": [
      "{\"people\": [{\"name\": \"Christina Koch\", \"craft\": \"ISS\"}, {\"name\": \"Alexander Skvortsov\", \"craft\": \"ISS\"}, {\"name\": \"Luca Parmitano\", \"craft\": \"ISS\"}, {\"name\": \"Andrew Morgan\", \"craft\": \"ISS\"}, {\"name\": \"Oleg Skripochka\", \"craft\": \"ISS\"}, {\"name\": \"Jessica Meir\", \"craft\": \"ISS\"}], \"number\": 6, \"message\": \"success\"}\n"
     ]
    }
   ],
   "source": [
    "people = requests.get('http://api.open-notify.org/astros.json')\n",
    "print(people.text)"
   ]
  },
  {
   "cell_type": "markdown",
   "metadata": {},
   "source": [
    "### Query parameters\n",
    "\n",
    "If you look at the documentation for the OpenNotify API, we see that the ISS Pass endpoint requires two parameters.\n",
    "\n",
    "We can do this by adding an optional keyword argument, params, to our request. In this case, there are two parameters we need to pass:\n",
    "\n",
    "* lat — The latitude of the location we want.\n",
    "* lon — The longitude of the location we want.\n",
    "We can make a dictionary with these parameters, and then pass them into the requests.get function.\n",
    "\n",
    "We can also do the same thing directly by adding the query parameters to the url, like this: http://api.open-notify.org/iss-pass.json?lat=40.71&lon=-74.\n",
    "\n",
    "It’s almost always preferable to setup the parameters as a dictionary, because requests takes care of some things that come up, like properly formatting the query parameters.\n",
    "\n",
    "We’ll make a request using the coordinates of New York City, and see what response we get."
   ]
  },
  {
   "cell_type": "code",
   "execution_count": 46,
   "metadata": {},
   "outputs": [
    {
     "name": "stdout",
     "output_type": "stream",
     "text": [
      "b'{\\n  \"message\": \"success\", \\n  \"request\": {\\n    \"altitude\": 100, \\n    \"datetime\": 1586466253, \\n    \"latitude\": 40.71, \\n    \"longitude\": -74.0, \\n    \"passes\": 5\\n  }, \\n  \"response\": [\\n    {\\n      \"duration\": 651, \\n      \"risetime\": 1586470083\\n    }, \\n    {\\n      \"duration\": 577, \\n      \"risetime\": 1586475912\\n    }, \\n    {\\n      \"duration\": 601, \\n      \"risetime\": 1586530301\\n    }, \\n    {\\n      \"duration\": 647, \\n      \"risetime\": 1586536076\\n    }, \\n    {\\n      \"duration\": 578, \\n      \"risetime\": 1586541959\\n    }\\n  ]\\n}\\n'\n"
     ]
    }
   ],
   "source": [
    "# Set up the parameters we want to pass to the API.\n",
    "# This is the latitude and longitude of New York City.\n",
    "parameters = {\"lat\": 40.71, \"lon\": -74}\n",
    "\n",
    "\n",
    "# Make a get request with the parameters.\n",
    "response = requests.get(\"http://api.open-notify.org/iss-pass.json\", params=parameters)\n",
    "\n",
    "\n",
    "# Print the content of the response (the data the server returned)\n",
    "print(response.content)\n"
   ]
  },
  {
   "cell_type": "code",
   "execution_count": 47,
   "metadata": {},
   "outputs": [
    {
     "data": {
      "text/plain": [
       "bytes"
      ]
     },
     "execution_count": 47,
     "metadata": {},
     "output_type": "execute_result"
    }
   ],
   "source": [
    "type(response.content)"
   ]
  },
  {
   "cell_type": "markdown",
   "metadata": {},
   "source": [
    "Now we want to convert the response into a python data structure. We do this by using the `json` package."
   ]
  },
  {
   "cell_type": "code",
   "execution_count": 48,
   "metadata": {},
   "outputs": [],
   "source": [
    "import json"
   ]
  },
  {
   "cell_type": "code",
   "execution_count": 49,
   "metadata": {},
   "outputs": [
    {
     "data": {
      "text/plain": [
       "{'message': 'success',\n",
       " 'request': {'altitude': 100,\n",
       "  'datetime': 1586466253,\n",
       "  'latitude': 40.71,\n",
       "  'longitude': -74.0,\n",
       "  'passes': 5},\n",
       " 'response': [{'duration': 651, 'risetime': 1586470083},\n",
       "  {'duration': 577, 'risetime': 1586475912},\n",
       "  {'duration': 601, 'risetime': 1586530301},\n",
       "  {'duration': 647, 'risetime': 1586536076},\n",
       "  {'duration': 578, 'risetime': 1586541959}]}"
      ]
     },
     "execution_count": 49,
     "metadata": {},
     "output_type": "execute_result"
    }
   ],
   "source": [
    "json.loads(response.content)"
   ]
  },
  {
   "cell_type": "code",
   "execution_count": 50,
   "metadata": {},
   "outputs": [],
   "source": [
    "results = json.loads(response.content)"
   ]
  },
  {
   "cell_type": "code",
   "execution_count": 51,
   "metadata": {},
   "outputs": [
    {
     "data": {
      "text/plain": [
       "{'duration': 651, 'risetime': 1586470083}"
      ]
     },
     "execution_count": 51,
     "metadata": {},
     "output_type": "execute_result"
    }
   ],
   "source": [
    "results['response'][0]"
   ]
  },
  {
   "cell_type": "markdown",
   "metadata": {},
   "source": [
    "So this returns a lot of information which by default is not really human understandable due to data encoding, HTML tags and other styling information that only a web browser can truly translate. In later lessons we shall look at how we can use ** Regular Exprerssions**  to clean this information and extract the required bits and pieces for analysis. \n",
    "\n",
    "## Response Headers\n",
    "The response of an HTTP request can contain many headers that holds different bits of information. We can use `.header` property of the response object to access the header information as shown below:\n"
   ]
  },
  {
   "cell_type": "code",
   "execution_count": 52,
   "metadata": {},
   "outputs": [
    {
     "data": {
      "text/plain": [
       "{'Server': 'nginx/1.10.3',\n",
       " 'Date': 'Thu, 09 Apr 2020 21:07:03 GMT',\n",
       " 'Content-Type': 'application/json',\n",
       " 'Content-Length': '519',\n",
       " 'Connection': 'keep-alive',\n",
       " 'Via': '1.1 vegur'}"
      ]
     },
     "execution_count": 52,
     "metadata": {},
     "output_type": "execute_result"
    }
   ],
   "source": [
    "# Code here \n",
    "dict(response.headers)"
   ]
  },
  {
   "cell_type": "markdown",
   "metadata": {},
   "source": [
    "The content of the headers is our required element. You can see the key-value pairs holding various pieces of  information about the resource and request. Let's try to parse some of these values using the requests library:\n",
    "\n",
    "```python\n",
    "print(resp.headers['Content-Length'])  # length of the response\n",
    "print(resp.headers['Date'])  # Date the response was sent\n",
    "print(resp.headers['server'])   # Server type (google web service - GWS)\n",
    "```"
   ]
  },
  {
   "cell_type": "markdown",
   "metadata": {},
   "source": [
    "\n",
    "## HTTP POST method \n",
    "\n",
    "Sometimes we need to send one or more files simultaneously to the server. For example, if a user is submitting a form and the form includes different fields for uploading files, like user profile picture, user resume, etc. Requests can handle multiple files on a single request. This can be achieved by putting the files to a list of tuples in the form (`field_name, file_info)`.\n",
    "\n",
    "\n",
    "```python\n",
    "import requests\n",
    "\n",
    "url = 'http://httpbin.org/post'  \n",
    "file_list = [  \n",
    "    ('image', ('fi.png', open('fi.png', 'rb'), 'image/png')),\n",
    "    ('image', ('fi2.jpeg', open('fi2.jpeg', 'rb'), 'image/png'))\n",
    "]\n",
    "\n",
    "r = requests.post(url, files=file_list)  \n",
    "print(r.text)  \n",
    "```"
   ]
  },
  {
   "cell_type": "markdown",
   "metadata": {},
   "source": [
    "![](quota.png)"
   ]
  },
  {
   "cell_type": "markdown",
   "metadata": {},
   "source": [
    "\n",
    "## Generating Access Tokens\n",
    "\n",
    "As discussed, in order to use many APIs, one needs to use OAuth which requires an access token. As such, our first step will be to generate this login information so that we can start making some requests.  \n",
    "\n",
    "With that, lets go grab an access token from an API site and make some API calls!\n",
    "Point your browser over to this [yelp page](https://www.yelp.com/developers/v3/manage_app) and start creating an app in order to obtain and api access token:"
   ]
  },
  {
   "cell_type": "markdown",
   "metadata": {},
   "source": [
    "\n",
    "![](./images/yelp_app.png)"
   ]
  },
  {
   "cell_type": "markdown",
   "metadata": {},
   "source": [
    "You can either sign in to an existing Yelp account, or create a new one, if needed.\n",
    "\n",
    "On the page you see above, simply fill out some sample information such as \"Flatiron Edu API Example\" for the app name, or whatever floats your boat. Afterwards, you should be presented with an API key that you can use to make requests!\n",
    "\n",
    "With that, it's time to start making some api calls!"
   ]
  },
  {
   "cell_type": "markdown",
   "metadata": {},
   "source": [
    "As a general rule of thumb, don't store passwords in a main file like this! Instead, you would normally store those passwords under a sub file like passwords.py which you would then import.\n",
    "\n",
    "Or even better, as an environment variable that could then be imported!\n"
   ]
  },
  {
   "cell_type": "code",
   "execution_count": 55,
   "metadata": {},
   "outputs": [],
   "source": [
    "\n",
    "client_id = 'bVX1Jsfp4dkIOqw5HOVplg' #Your client ID goes here (as a string)\n",
    "api_key = 'RTzp-q-TgkJW_NFQogubFvZNRDziXyoR38VbtZMWibDI-FlvB25OE7GmafFEqhTL8_Bk2HlcX24-hRWLMP7Nc6WHO_VXMXldpPBjP0LoPv5EFFELMSI2oll8njhbXHYx' #Your api key goes here (as a string)"
   ]
  },
  {
   "cell_type": "markdown",
   "metadata": {},
   "source": [
    "## An Example Request with OAuth <a id=\"oauth_request\"></a>\n",
    "https://www.yelp.com/developers/documentation/v3/get_started\n",
    "\n",
    "Look at the documentation in the link above and answer the following questions:"
   ]
  },
  {
   "cell_type": "code",
   "execution_count": 64,
   "metadata": {},
   "outputs": [],
   "source": [
    "my_list = [1,2,3,4,5]"
   ]
  },
  {
   "cell_type": "code",
   "execution_count": 71,
   "metadata": {},
   "outputs": [
    {
     "data": {
      "text/plain": [
       "range(0, 20, 4)"
      ]
     },
     "execution_count": 71,
     "metadata": {},
     "output_type": "execute_result"
    }
   ],
   "source": [
    "range(0,20, 4)"
   ]
  },
  {
   "cell_type": "markdown",
   "metadata": {},
   "source": [
    "- How many api endpoints does the API offer? 3\n",
    "- If you are searching for businesses, what are the required arguments you need to pass to the API? location, lat, lon, \n",
    "- What is limit on the number of results an API request will return to you? \n",
    "- When trying to pull reviews from the API what inromation do you need to pass in your API request? no"
   ]
  },
  {
   "cell_type": "code",
   "execution_count": 56,
   "metadata": {},
   "outputs": [],
   "source": [
    "term = 'Mexican Restaurants'\n",
    "location = 'Astoria NY'\n",
    "SEARCH_LIMIT = 10"
   ]
  },
  {
   "cell_type": "code",
   "execution_count": 58,
   "metadata": {},
   "outputs": [],
   "source": [
    "url = 'https://api.yelp.com/v3/businesses/search'\n",
    "\n",
    "headers = {\n",
    "        'Authorization': 'Bearer {}'.format(api_key),\n",
    "    }\n",
    "\n",
    "url_params = {\n",
    "                'term': term.replace(' ', '+'),\n",
    "                'location': location.replace(' ', '+'),\n",
    "                'limit': SEARCH_LIMIT\n",
    "            }\n",
    "response = requests.get(url, headers=headers, params=url_params)"
   ]
  },
  {
   "cell_type": "code",
   "execution_count": 60,
   "metadata": {},
   "outputs": [
    {
     "data": {
      "text/plain": [
       "'https://api.yelp.com/v3/businesses/search?term=Mexican%2BRestaurants&location=Astoria%2BNY&limit=10'"
      ]
     },
     "execution_count": 60,
     "metadata": {},
     "output_type": "execute_result"
    }
   ],
   "source": [
    "response.url"
   ]
  },
  {
   "cell_type": "code",
   "execution_count": 59,
   "metadata": {},
   "outputs": [
    {
     "name": "stdout",
     "output_type": "stream",
     "text": [
      "<Response [200]>\n",
      "<class 'str'>\n",
      "{\"businesses\": [{\"id\": \"6AJwsgXr7YwsqneGVAdgzw\", \"alias\": \"las-catrinas-mexican-bar-and-eatery-astoria\", \"name\": \"Las Catrinas Mexican Bar & Eatery\", \"image_url\": \"https://s3-media3.fl.yelpcdn.com/bphoto/bTI8fKYdfg6kPPIIHn4z6A/o.jpg\", \"is_closed\": false, \"url\": \"https://www.yelp.com/biz/las-catrinas-mexican-bar-and-eatery-astoria?adjust_creative=bVX1Jsfp4dkIOqw5HOVplg&utm_campaign=yelp_api_v3&utm_medium=api_v3_business_search&utm_source=bVX1Jsfp4dkIOqw5HOVplg\", \"review_count\": 319, \"categories\": [{\"alias\": \"cocktailbars\", \"title\": \"Cocktail Bars\"}, {\"alias\": \"tacos\", \"title\": \"Tacos\"}], \"rating\": 4.0, \"coordinates\": {\"latitude\": 40.7614214682633, \"longitude\": -73.9246649456171}, \"transactions\": [\"pickup\", \"delivery\"], \"price\": \"$$\", \"location\": {\"address1\": \"32-02 Broadway\", \"address2\": \"\", \"address3\": null, \"city\": \"Astoria\", \"zip_code\": \"11106\", \"country\": \"US\", \"state\": \"NY\", \"display_address\": [\"32-02 Broadway\", \"Astoria, NY 11106\"]}, \"phone\": \"+19177450969\", \"display_phone\": \"(917\n"
     ]
    }
   ],
   "source": [
    "print(response)\n",
    "print(type(response.text))\n",
    "print(response.text[:1000])"
   ]
  },
  {
   "cell_type": "markdown",
   "metadata": {},
   "source": [
    "## Breaking Down the Request\n",
    "\n",
    "As you can see, there are three main parts to our request.  \n",
    "  \n",
    "They are:\n",
    "* The url\n",
    "* The header\n",
    "* The parameters\n",
    "  \n",
    "The url is fairly straightforward and is simply the base url as described in the documentation (again more details in the upcoming lesson).\n",
    "\n",
    "The header is a dictionary of key-value pairs. In this case, we are using a fairly standard header used by many APIs. It has a strict form where 'Authorization' is the key and 'Bearer YourApiKey' is the value.\n",
    "\n",
    "The parameters are the filters which we wish to pass into the query. These will be embedded into the url when the request is made to the api. Similar to the header, they form key-value pairs. Valid key parameters by which to structure your queries, are described in the API documentation which we'll look at further shortly. A final important note however, is the need to replace spaces with \"+\". This is standard to many requests as URLs cannot contain spaces. (Note that the header itself isn't directly embedded into the url itself and as such, the space between 'Bearer' and YourApiKey is valid.)"
   ]
  },
  {
   "cell_type": "markdown",
   "metadata": {},
   "source": [
    "\n",
    "## The Response\n",
    "\n",
    "As before, our response object has both a status code, as well as the data itself. With that, let's start with a little data exploration!"
   ]
  },
  {
   "cell_type": "code",
   "execution_count": 61,
   "metadata": {},
   "outputs": [
    {
     "data": {
      "text/plain": [
       "dict_keys(['businesses', 'total', 'region'])"
      ]
     },
     "execution_count": 61,
     "metadata": {},
     "output_type": "execute_result"
    }
   ],
   "source": [
    "response.json().keys()\n"
   ]
  },
  {
   "cell_type": "markdown",
   "metadata": {},
   "source": [
    "Now let's go a bit further and start to preview what's stored in each of the values for these keys.\n"
   ]
  },
  {
   "cell_type": "code",
   "execution_count": 62,
   "metadata": {},
   "outputs": [
    {
     "name": "stdout",
     "output_type": "stream",
     "text": [
      "businesses\n",
      "<class 'list'>\n",
      "\n",
      "\n",
      "\n",
      "total\n",
      "<class 'int'>\n",
      "\n",
      "\n",
      "\n",
      "region\n",
      "<class 'dict'>\n",
      "\n",
      "\n",
      "\n"
     ]
    }
   ],
   "source": [
    "for key in response.json().keys():\n",
    "    print(key)\n",
    "    value = response.json()[key] #Use standard dictionary formatting\n",
    "    print(type(value)) #What type is it?\n",
    "    print('\\n\\n') #Seperate out data"
   ]
  },
  {
   "cell_type": "markdown",
   "metadata": {},
   "source": [
    "Let's continue to preview these further to get a little better acquainted.\n"
   ]
  },
  {
   "cell_type": "code",
   "execution_count": 63,
   "metadata": {},
   "outputs": [
    {
     "data": {
      "text/plain": [
       "[{'id': '6AJwsgXr7YwsqneGVAdgzw',\n",
       "  'alias': 'las-catrinas-mexican-bar-and-eatery-astoria',\n",
       "  'name': 'Las Catrinas Mexican Bar & Eatery',\n",
       "  'image_url': 'https://s3-media3.fl.yelpcdn.com/bphoto/bTI8fKYdfg6kPPIIHn4z6A/o.jpg',\n",
       "  'is_closed': False,\n",
       "  'url': 'https://www.yelp.com/biz/las-catrinas-mexican-bar-and-eatery-astoria?adjust_creative=bVX1Jsfp4dkIOqw5HOVplg&utm_campaign=yelp_api_v3&utm_medium=api_v3_business_search&utm_source=bVX1Jsfp4dkIOqw5HOVplg',\n",
       "  'review_count': 319,\n",
       "  'categories': [{'alias': 'cocktailbars', 'title': 'Cocktail Bars'},\n",
       "   {'alias': 'tacos', 'title': 'Tacos'}],\n",
       "  'rating': 4.0,\n",
       "  'coordinates': {'latitude': 40.7614214682633,\n",
       "   'longitude': -73.9246649456171},\n",
       "  'transactions': ['pickup', 'delivery'],\n",
       "  'price': '$$',\n",
       "  'location': {'address1': '32-02 Broadway',\n",
       "   'address2': '',\n",
       "   'address3': None,\n",
       "   'city': 'Astoria',\n",
       "   'zip_code': '11106',\n",
       "   'country': 'US',\n",
       "   'state': 'NY',\n",
       "   'display_address': ['32-02 Broadway', 'Astoria, NY 11106']},\n",
       "  'phone': '+19177450969',\n",
       "  'display_phone': '(917) 745-0969',\n",
       "  'distance': 642.5257707161409},\n",
       " {'id': 'QIsFsiOP3H_NkgeWST7GPA',\n",
       "  'alias': 'maizal-restaurant-and-tequila-bar-queens-4',\n",
       "  'name': 'Maizal Restaurant & Tequila Bar',\n",
       "  'image_url': 'https://s3-media3.fl.yelpcdn.com/bphoto/B2n1tzy4syl3ZSzADRj_dA/o.jpg',\n",
       "  'is_closed': False,\n",
       "  'url': 'https://www.yelp.com/biz/maizal-restaurant-and-tequila-bar-queens-4?adjust_creative=bVX1Jsfp4dkIOqw5HOVplg&utm_campaign=yelp_api_v3&utm_medium=api_v3_business_search&utm_source=bVX1Jsfp4dkIOqw5HOVplg',\n",
       "  'review_count': 296,\n",
       "  'categories': [{'alias': 'mexican', 'title': 'Mexican'},\n",
       "   {'alias': 'cocktailbars', 'title': 'Cocktail Bars'}],\n",
       "  'rating': 4.0,\n",
       "  'coordinates': {'latitude': 40.759356, 'longitude': -73.926016},\n",
       "  'transactions': ['pickup', 'delivery'],\n",
       "  'price': '$$',\n",
       "  'location': {'address1': '3207 34th Ave',\n",
       "   'address2': None,\n",
       "   'address3': None,\n",
       "   'city': 'Queens',\n",
       "   'zip_code': '11106',\n",
       "   'country': 'US',\n",
       "   'state': 'NY',\n",
       "   'display_address': ['3207 34th Ave', 'Queens, NY 11106']},\n",
       "  'phone': '+17184069431',\n",
       "  'display_phone': '(718) 406-9431',\n",
       "  'distance': 900.250578532802}]"
      ]
     },
     "execution_count": 63,
     "metadata": {},
     "output_type": "execute_result"
    }
   ],
   "source": [
    "yelp_data =response.json()\n",
    "yelp_data['businesses'][:2]\n",
    "\n"
   ]
  },
  {
   "cell_type": "markdown",
   "metadata": {},
   "source": [
    "As you can see, we're primarily interested in the 'bussinesses' entry. \n"
   ]
  },
  {
   "cell_type": "markdown",
   "metadata": {},
   "source": [
    "## Summary <a id=\"sum\"></a>\n",
    "\n",
    "Congratulations! We've covered a lot here! We took some of your previous knowledge with HTTP requests and OAuth in order to leverage an enterprise API! Then we made some requests to retrieve information that came back as a json format. We then transformed this data into a dataframe using the Pandas package. In the next lab, we'll break down how to read API documentation and then put it all together to make a nifty map!"
   ]
  }
 ],
 "metadata": {
  "kernelspec": {
   "display_name": "Python 3",
   "language": "python",
   "name": "python3"
  },
  "language_info": {
   "codemirror_mode": {
    "name": "ipython",
    "version": 3
   },
   "file_extension": ".py",
   "mimetype": "text/x-python",
   "name": "python",
   "nbconvert_exporter": "python",
   "pygments_lexer": "ipython3",
   "version": "3.7.4"
  }
 },
 "nbformat": 4,
 "nbformat_minor": 2
}
