{
 "cells": [
  {
   "cell_type": "markdown",
   "metadata": {},
   "source": [
    "# Yelp API - Lab\n",
    "\n",
    "\n",
    "\n",
    "## Introduction \n",
    "\n",
    "Now that we've seen how the Yelp API works, it's time to put those API and Pandas skills to work in order to do some basic business analysis! Taking things a step further, you'll also independently explore how to perform pagination in order to retrieve a full results set from the Yelp API!\n",
    "\n",
    "## Objectives\n",
    "\n",
    "You will be able to:\n",
    "* Create HTTP requests to get data from Yelp API\n",
    "* Parse HTTP responses and save the information in a csv\n",
    "* Perform pagination to retrieve troves of data!\n",
    "* Write Pandas code to answer questions about your data "
   ]
  },
  {
   "cell_type": "markdown",
   "metadata": {},
   "source": [
    "## Problem Introduction\n",
    "\n",
    "For this lab you will analyze the yelp data for a group of businesses to learn more about an industry. You will choose a type of business (Italian Restuarants, Nail Salons, Crossfit gyms) and a location to analyze. Then you will get data from the Yelp API, store that data in a SQL Database on AWS, and write queries to answer questions about the data. \n",
    "\n",
    "\n",
    "### Process:\n",
    "\n",
    "1. Read through the data questions and the API documentation to determine which pieces of information you need to pull from the Yelp API.\n",
    "\n",
    "2. Plan out what . One for the businesses and one for the reviews.\n",
    "\n",
    "3. Create code to:\n",
    "  - Perform a search of businesses using pagination\n",
    "  - Parse the API response for specific data points\n",
    "  - Save the data you pull as a csv\n",
    "\n",
    "4. Use the functions above in a loop that will paginate over the results to retrieve all of the results. \n",
    "\n",
    "5. Create functions to:\n",
    "  - Retrieve the reviews data of one business\n",
    "  - Parse the reviews response for specific review data\n",
    "  - Save the data you pull as a csv\n",
    "\n",
    "6. Take all of the business IDs from your business search, and  using the 3 Python functions you've created, run your business IDs through a loop to get the reviews for each business and save them in a csv.\n",
    "\n",
    "7. Write Pandas code to answer the following questions about your data.\n",
    "\n",
    "\n",
    "Bonus Steps:  \n",
    "- Place your helper functions in a package so that your final notebook only has the major steps listed.\n",
    "- Rewrite your business search functions to be able take an argument for the type of business you are searching for.\n",
    "- Add another group of businesses to your files.\n"
   ]
  },
  {
   "cell_type": "markdown",
   "metadata": {},
   "source": [
    " \n",
    "## Data Questions:\n",
    "\n",
    "- Which are the 5 most reviewed businesses?\n",
    "- What is the highest rating recieved in your data set and how many businesses have that rating?\n",
    "- What percentage of businesses have a rating greater than or  4.5?\n",
    "- What percentage of businesses have a rating less than 3?\n",
    "- What is the average rating of restaurants that have a price label of one dollar sign? Two dollar signs? Three dollar signs? \n",
    "- Return the text of the reviews for the most reviewed restaurant. \n",
    "- Return the name of the business with the most recent review. \n",
    "- Find the highest rated business and return text of the most recent review. If multiple business have the same rating, select the restaurant with the most reviews. \n",
    "- Find the lowest rated business and return text of the most recent review.  If multiple business have the same rating, select the restaurant with the least reviews. \n"
   ]
  },
  {
   "cell_type": "markdown",
   "metadata": {},
   "source": [
    "## Part 1 - Understanding your data and question\n",
    "\n",
    "Lok at the question and determine what data you will need to store in your database in order to answer the questions. Start to think about what tables will you want to create and what columns will you ahve for those tables. \n",
    "\n",
    "Look at the API documentation, and determine what fields of the API response you will match up with the columns you want in your Pandas Dataframes. \n",
    "\n",
    "\n",
    "https://www.yelp.com/developers/documentation/v3/get_started"
   ]
  },
  {
   "cell_type": "code",
   "execution_count": 2,
   "metadata": {},
   "outputs": [],
   "source": [
    "import requests\n",
    "import json\n",
    "import pandas as pd\n",
    "import numpy as np"
   ]
  },
  {
   "cell_type": "markdown",
   "metadata": {},
   "source": [
    "## Part 2 - Create ETL pipeline for the business data from the API\n",
    "ETL = EXTRACT TRANSFORM LOAD\n",
    "\n",
    "Now that you know what data you need from the API, you want to write code that will execute a api call, parse those results and then insert the results into the DB.  \n",
    "\n",
    "It is helpful to break this up into three different functions (*api call, parse results, and insert into DB*) and then you can write a function/script that pull the other three functions together. \n",
    "\n",
    "Let's first do this for the Business endpoint."
   ]
  },
  {
   "cell_type": "code",
   "execution_count": 3,
   "metadata": {},
   "outputs": [],
   "source": [
    "#Client_ID and API_Key\n",
    "client_id = '9oud9pgPIhoXYt0000Ulyg'\n",
    "api_key = 'LK2ZoCL5UXpQUnH6ZjkgLU8nYy0xAeIFvKqam8DfkZZK_jHIPGttsHpEXhZyqQKVGuAFkqhHdAZ7Cj7yINRVhvxu08tizaxZfR5jrnGbRTwNTE5WqQPGjifRLpmPXnYx'"
   ]
  },
  {
   "cell_type": "code",
   "execution_count": 4,
   "metadata": {},
   "outputs": [],
   "source": [
    "#Business Endpoint URL and Review Endpoint URL\n",
    "\n",
    "url =  'https://api.yelp.com/v3/businesses/search'\n",
    "rurl = 'https://api.yelp.com/v3/businesses/{id}/reviews'"
   ]
  },
  {
   "cell_type": "code",
   "execution_count": 5,
   "metadata": {},
   "outputs": [],
   "source": [
    "#Parameters of URL_Params\n",
    "\n",
    "term = 'Japanese Restaurants'\n",
    "location = 'Monroe'\n",
    "categories = ['susi', 'japanese']"
   ]
  },
  {
   "cell_type": "code",
   "execution_count": 6,
   "metadata": {},
   "outputs": [],
   "source": [
    "url_params = {  'term' : term.replace(' ', '+'),\n",
    "                'location': location.replace(' ', '+'),\n",
    "                'categories' : categories,\n",
    "                'limit' : 50}"
   ]
  },
  {
   "cell_type": "code",
   "execution_count": 165,
   "metadata": {
    "collapsed": true
   },
   "outputs": [],
   "source": [
    "# Write a function to make a call to the yelp API"
   ]
  },
  {
   "cell_type": "code",
   "execution_count": 7,
   "metadata": {},
   "outputs": [],
   "source": [
    "def yelp_call(url_params, api_key):\n",
    "    url =  'https://api.yelp.com/v3/businesses/search'\n",
    "    \n",
    "    headers = {'Authorization': 'Bearer {}'.format(api_key)}\n",
    "    \n",
    "    response = requests.get(url, headers=headers, params=url_params)\n",
    "    \n",
    "    data = response.json()\n",
    "#     print(response.status_code)\n",
    "    return data"
   ]
  },
  {
   "cell_type": "code",
   "execution_count": 10,
   "metadata": {},
   "outputs": [],
   "source": [
    "called_data = yelp_call(url_params, api_key)"
   ]
  },
  {
   "cell_type": "code",
   "execution_count": 11,
   "metadata": {},
   "outputs": [
    {
     "data": {
      "text/plain": [
       "dict_keys(['businesses', 'total', 'region'])"
      ]
     },
     "execution_count": 11,
     "metadata": {},
     "output_type": "execute_result"
    }
   ],
   "source": [
    "called_data.keys()"
   ]
  },
  {
   "cell_type": "code",
   "execution_count": 12,
   "metadata": {},
   "outputs": [
    {
     "data": {
      "text/plain": [
       "{'id': '5haC5qvmyOzMDo2x9CVw2Q',\n",
       " 'alias': 'akane-woodinville',\n",
       " 'name': 'Akane',\n",
       " 'image_url': 'https://s3-media1.fl.yelpcdn.com/bphoto/zKMUXCcKSj_BEDSyyJ51cw/o.jpg',\n",
       " 'is_closed': False,\n",
       " 'url': 'https://www.yelp.com/biz/akane-woodinville?adjust_creative=9oud9pgPIhoXYt0000Ulyg&utm_campaign=yelp_api_v3&utm_medium=api_v3_business_search&utm_source=9oud9pgPIhoXYt0000Ulyg',\n",
       " 'review_count': 245,\n",
       " 'categories': [{'alias': 'ramen', 'title': 'Ramen'},\n",
       "  {'alias': 'noodles', 'title': 'Noodles'}],\n",
       " 'rating': 4.0,\n",
       " 'coordinates': {'latitude': 47.75561, 'longitude': -122.15139},\n",
       " 'transactions': ['delivery', 'pickup'],\n",
       " 'price': '$$',\n",
       " 'location': {'address1': '14136 NE Woodinville Duvall Rd',\n",
       "  'address2': '',\n",
       "  'address3': None,\n",
       "  'city': 'Woodinville',\n",
       "  'zip_code': '98072',\n",
       "  'country': 'US',\n",
       "  'state': 'WA',\n",
       "  'display_address': ['14136 NE Woodinville Duvall Rd',\n",
       "   'Woodinville, WA 98072']},\n",
       " 'phone': '+14252862243',\n",
       " 'display_phone': '(425) 286-2243',\n",
       " 'distance': 17230.898259053487}"
      ]
     },
     "execution_count": 12,
     "metadata": {},
     "output_type": "execute_result"
    }
   ],
   "source": [
    "called_data['businesses'][0]"
   ]
  },
  {
   "cell_type": "code",
   "execution_count": 13,
   "metadata": {},
   "outputs": [
    {
     "data": {
      "text/plain": [
       "38"
      ]
     },
     "execution_count": 13,
     "metadata": {},
     "output_type": "execute_result"
    }
   ],
   "source": [
    "called_data['total']"
   ]
  },
  {
   "cell_type": "code",
   "execution_count": 171,
   "metadata": {
    "collapsed": true
   },
   "outputs": [],
   "source": [
    "# write a function to parse the API response \n",
    "# so that you can easily insert the data in to the DB"
   ]
  },
  {
   "cell_type": "code",
   "execution_count": 172,
   "metadata": {},
   "outputs": [
    {
     "data": {
      "text/plain": [
       "dict_keys"
      ]
     },
     "execution_count": 172,
     "metadata": {},
     "output_type": "execute_result"
    }
   ],
   "source": [
    "type(called_data.keys())"
   ]
  },
  {
   "cell_type": "code",
   "execution_count": 16,
   "metadata": {},
   "outputs": [],
   "source": [
    "def parse_results(results):\n",
    "    parsed_data = []\n",
    "    \n",
    "    for item in results:\n",
    "        if 'price' in item.keys():\n",
    "            biz_list = [item['id'],\n",
    "                        item['name'],\n",
    "                        item['review_count'],\n",
    "                        item['rating'],\n",
    "                        item['price']]\n",
    "        else:\n",
    "            biz_list = [item['id'],\n",
    "                        item['name'],\n",
    "                        item['review_count'],\n",
    "                        item['rating'],\n",
    "                        np.nan]\n",
    "            \n",
    "        parsed_data.append(biz_list)\n",
    "   \n",
    "    return parsed_data"
   ]
  },
  {
   "cell_type": "code",
   "execution_count": 222,
   "metadata": {},
   "outputs": [],
   "source": [
    "# first = parse_results(called_data['businesses'])\n",
    "#first"
   ]
  },
  {
   "cell_type": "code",
   "execution_count": 175,
   "metadata": {
    "collapsed": true
   },
   "outputs": [],
   "source": [
    "#function to save parsed results into a df and overwrite it to a csv file"
   ]
  },
  {
   "cell_type": "code",
   "execution_count": 17,
   "metadata": {},
   "outputs": [],
   "source": [
    "columns = ['ID', 'Name', 'Review_Count', 'Rating', 'Price_Rank']\n",
    "nothing = pd.DataFrame(columns=columns)\n",
    "nothing.to_csv('tattoo_api.csv')"
   ]
  },
  {
   "cell_type": "code",
   "execution_count": 18,
   "metadata": {},
   "outputs": [
    {
     "data": {
      "text/html": [
       "<div>\n",
       "<style scoped>\n",
       "    .dataframe tbody tr th:only-of-type {\n",
       "        vertical-align: middle;\n",
       "    }\n",
       "\n",
       "    .dataframe tbody tr th {\n",
       "        vertical-align: top;\n",
       "    }\n",
       "\n",
       "    .dataframe thead th {\n",
       "        text-align: right;\n",
       "    }\n",
       "</style>\n",
       "<table border=\"1\" class=\"dataframe\">\n",
       "  <thead>\n",
       "    <tr style=\"text-align: right;\">\n",
       "      <th></th>\n",
       "      <th>ID</th>\n",
       "      <th>Name</th>\n",
       "      <th>Review_Count</th>\n",
       "      <th>Rating</th>\n",
       "      <th>Price_Rank</th>\n",
       "    </tr>\n",
       "  </thead>\n",
       "  <tbody>\n",
       "  </tbody>\n",
       "</table>\n",
       "</div>"
      ],
      "text/plain": [
       "Empty DataFrame\n",
       "Columns: [ID, Name, Review_Count, Rating, Price_Rank]\n",
       "Index: []"
      ]
     },
     "execution_count": 18,
     "metadata": {},
     "output_type": "execute_result"
    }
   ],
   "source": [
    "nothing"
   ]
  },
  {
   "cell_type": "code",
   "execution_count": 19,
   "metadata": {},
   "outputs": [],
   "source": [
    "def data_save(parsed_results, csv_filename):\n",
    "    \n",
    "    columns = ['ID', 'Name', 'Review_Count', 'Rating', 'Price_Rank']\n",
    "    \n",
    "    update = pd.read_csv(csv_filename, index_col=0)\n",
    "    \n",
    "    df1 = pd.DataFrame(parsed_results, columns=columns)\n",
    "    \n",
    "    df_list = [update, df1]\n",
    "    \n",
    "    ultra = pd.concat(df_list)\n",
    "    \n",
    "    return ultra.to_csv(csv_filename) \n"
   ]
  },
  {
   "cell_type": "code",
   "execution_count": 20,
   "metadata": {},
   "outputs": [],
   "source": [
    "# Write a script that combines the three functions above into a single process.\n",
    "\n",
    "# create a variable  to keep track of which result you are in. \n",
    "cur = 0\n",
    "\n",
    "#set up a while loop to go through and grab the result \n",
    "while cur < 477:\n",
    "    #set the offset parameter to be where you currently are in the results \n",
    "    url_params['offset'] = cur\n",
    "    #make your API call with the new offset number\n",
    "    results = yelp_call(url_params, api_key)\n",
    "    \n",
    "    #after you get your results you can now use your function to parse those results\n",
    "    parsed_results = parse_results(results['businesses'])\n",
    "    \n",
    "    # use your function to insert your parsed results into the db\n",
    "    data_save(parsed_results, 'tattoo_api.csv')\n",
    "    #increment the counter by 50 to move on to the next results\n",
    "    cur += 50"
   ]
  },
  {
   "cell_type": "code",
   "execution_count": 21,
   "metadata": {},
   "outputs": [],
   "source": [
    "tattoo_df = pd.read_csv('tattoo_api.csv', index_col=0)"
   ]
  },
  {
   "cell_type": "code",
   "execution_count": 181,
   "metadata": {},
   "outputs": [],
   "source": [
    "#tattoo_df.set_index('ID', inplace=True)"
   ]
  },
  {
   "cell_type": "code",
   "execution_count": 29,
   "metadata": {},
   "outputs": [
    {
     "data": {
      "text/html": [
       "<div>\n",
       "<style scoped>\n",
       "    .dataframe tbody tr th:only-of-type {\n",
       "        vertical-align: middle;\n",
       "    }\n",
       "\n",
       "    .dataframe tbody tr th {\n",
       "        vertical-align: top;\n",
       "    }\n",
       "\n",
       "    .dataframe thead th {\n",
       "        text-align: right;\n",
       "    }\n",
       "</style>\n",
       "<table border=\"1\" class=\"dataframe\">\n",
       "  <thead>\n",
       "    <tr style=\"text-align: right;\">\n",
       "      <th></th>\n",
       "      <th>ID</th>\n",
       "      <th>Name</th>\n",
       "      <th>Review_Count</th>\n",
       "      <th>Rating</th>\n",
       "      <th>Price_Rank</th>\n",
       "    </tr>\n",
       "  </thead>\n",
       "  <tbody>\n",
       "    <tr>\n",
       "      <td>0</td>\n",
       "      <td>5haC5qvmyOzMDo2x9CVw2Q</td>\n",
       "      <td>Akane</td>\n",
       "      <td>245</td>\n",
       "      <td>4.0</td>\n",
       "      <td>$$</td>\n",
       "    </tr>\n",
       "    <tr>\n",
       "      <td>1</td>\n",
       "      <td>zSndGritrDoms1Mr5a4YcQ</td>\n",
       "      <td>Sora Sushi Restaurant</td>\n",
       "      <td>150</td>\n",
       "      <td>4.0</td>\n",
       "      <td>$$</td>\n",
       "    </tr>\n",
       "    <tr>\n",
       "      <td>2</td>\n",
       "      <td>KeSd1T3rPx0C4ZJ5aXLskQ</td>\n",
       "      <td>Tokyo Japanese Steak House</td>\n",
       "      <td>142</td>\n",
       "      <td>3.5</td>\n",
       "      <td>$$</td>\n",
       "    </tr>\n",
       "    <tr>\n",
       "      <td>3</td>\n",
       "      <td>7MJz76IFbCLfWDixFb6BmQ</td>\n",
       "      <td>Manse Teriyaki</td>\n",
       "      <td>49</td>\n",
       "      <td>4.0</td>\n",
       "      <td>$</td>\n",
       "    </tr>\n",
       "    <tr>\n",
       "      <td>4</td>\n",
       "      <td>8ikFTiDK-gHvjl2qroQJPw</td>\n",
       "      <td>Kami Teriyaki</td>\n",
       "      <td>25</td>\n",
       "      <td>3.0</td>\n",
       "      <td>$</td>\n",
       "    </tr>\n",
       "    <tr>\n",
       "      <td>5</td>\n",
       "      <td>LbtPLHnzPrHrBz1SMrjSuQ</td>\n",
       "      <td>Best Teriyaki &amp; Sushi</td>\n",
       "      <td>84</td>\n",
       "      <td>4.0</td>\n",
       "      <td>$$</td>\n",
       "    </tr>\n",
       "    <tr>\n",
       "      <td>6</td>\n",
       "      <td>jEO9UIK46D-YAtSDY-1J8w</td>\n",
       "      <td>China 1</td>\n",
       "      <td>27</td>\n",
       "      <td>2.5</td>\n",
       "      <td>$$</td>\n",
       "    </tr>\n",
       "    <tr>\n",
       "      <td>7</td>\n",
       "      <td>BUQQF2QUuZXa6E3q3KzBxw</td>\n",
       "      <td>Twins Asian Bistro</td>\n",
       "      <td>31</td>\n",
       "      <td>4.5</td>\n",
       "      <td>NaN</td>\n",
       "    </tr>\n",
       "    <tr>\n",
       "      <td>8</td>\n",
       "      <td>fyYtjBwks_Ts27ZUWrzczw</td>\n",
       "      <td>Sushi Connections</td>\n",
       "      <td>237</td>\n",
       "      <td>3.0</td>\n",
       "      <td>$$</td>\n",
       "    </tr>\n",
       "    <tr>\n",
       "      <td>9</td>\n",
       "      <td>qn_xkreIKL5RrdypG1yArg</td>\n",
       "      <td>Teriyaki Bowl</td>\n",
       "      <td>97</td>\n",
       "      <td>4.5</td>\n",
       "      <td>$</td>\n",
       "    </tr>\n",
       "    <tr>\n",
       "      <td>10</td>\n",
       "      <td>-HpcYThxN03R4uiejeYMgw</td>\n",
       "      <td>Japan Teriyaki</td>\n",
       "      <td>73</td>\n",
       "      <td>3.5</td>\n",
       "      <td>$</td>\n",
       "    </tr>\n",
       "    <tr>\n",
       "      <td>11</td>\n",
       "      <td>-YOfGgFzn3WVX6GFSxbD3Q</td>\n",
       "      <td>Miyako's Teriyaki &amp; Wok</td>\n",
       "      <td>54</td>\n",
       "      <td>3.5</td>\n",
       "      <td>$</td>\n",
       "    </tr>\n",
       "    <tr>\n",
       "      <td>12</td>\n",
       "      <td>HWEsdJNaDxTQzzpVWuA6Ng</td>\n",
       "      <td>Minami Teriyaki</td>\n",
       "      <td>53</td>\n",
       "      <td>4.0</td>\n",
       "      <td>$</td>\n",
       "    </tr>\n",
       "    <tr>\n",
       "      <td>13</td>\n",
       "      <td>6AB55kxgUJTsURDezq3zCw</td>\n",
       "      <td>Best Teriyaki</td>\n",
       "      <td>141</td>\n",
       "      <td>4.5</td>\n",
       "      <td>$</td>\n",
       "    </tr>\n",
       "    <tr>\n",
       "      <td>14</td>\n",
       "      <td>mrSjVsBZ4fPiP4YRGX5JFA</td>\n",
       "      <td>Snohomish Teriyaki</td>\n",
       "      <td>26</td>\n",
       "      <td>3.0</td>\n",
       "      <td>$</td>\n",
       "    </tr>\n",
       "    <tr>\n",
       "      <td>15</td>\n",
       "      <td>OaKdbL6GTtXfXjDMmPFIyw</td>\n",
       "      <td>King's Teriyaki</td>\n",
       "      <td>107</td>\n",
       "      <td>4.0</td>\n",
       "      <td>$</td>\n",
       "    </tr>\n",
       "    <tr>\n",
       "      <td>16</td>\n",
       "      <td>-hicyjczZQAwwanVgmpEvw</td>\n",
       "      <td>U-Kawa Teriyaki</td>\n",
       "      <td>64</td>\n",
       "      <td>4.0</td>\n",
       "      <td>$</td>\n",
       "    </tr>\n",
       "  </tbody>\n",
       "</table>\n",
       "</div>"
      ],
      "text/plain": [
       "                        ID                        Name  Review_Count  Rating  \\\n",
       "0   5haC5qvmyOzMDo2x9CVw2Q                       Akane           245     4.0   \n",
       "1   zSndGritrDoms1Mr5a4YcQ       Sora Sushi Restaurant           150     4.0   \n",
       "2   KeSd1T3rPx0C4ZJ5aXLskQ  Tokyo Japanese Steak House           142     3.5   \n",
       "3   7MJz76IFbCLfWDixFb6BmQ              Manse Teriyaki            49     4.0   \n",
       "4   8ikFTiDK-gHvjl2qroQJPw               Kami Teriyaki            25     3.0   \n",
       "5   LbtPLHnzPrHrBz1SMrjSuQ       Best Teriyaki & Sushi            84     4.0   \n",
       "6   jEO9UIK46D-YAtSDY-1J8w                     China 1            27     2.5   \n",
       "7   BUQQF2QUuZXa6E3q3KzBxw          Twins Asian Bistro            31     4.5   \n",
       "8   fyYtjBwks_Ts27ZUWrzczw           Sushi Connections           237     3.0   \n",
       "9   qn_xkreIKL5RrdypG1yArg               Teriyaki Bowl            97     4.5   \n",
       "10  -HpcYThxN03R4uiejeYMgw              Japan Teriyaki            73     3.5   \n",
       "11  -YOfGgFzn3WVX6GFSxbD3Q     Miyako's Teriyaki & Wok            54     3.5   \n",
       "12  HWEsdJNaDxTQzzpVWuA6Ng             Minami Teriyaki            53     4.0   \n",
       "13  6AB55kxgUJTsURDezq3zCw               Best Teriyaki           141     4.5   \n",
       "14  mrSjVsBZ4fPiP4YRGX5JFA          Snohomish Teriyaki            26     3.0   \n",
       "15  OaKdbL6GTtXfXjDMmPFIyw             King's Teriyaki           107     4.0   \n",
       "16  -hicyjczZQAwwanVgmpEvw             U-Kawa Teriyaki            64     4.0   \n",
       "\n",
       "   Price_Rank  \n",
       "0          $$  \n",
       "1          $$  \n",
       "2          $$  \n",
       "3           $  \n",
       "4           $  \n",
       "5          $$  \n",
       "6          $$  \n",
       "7         NaN  \n",
       "8          $$  \n",
       "9           $  \n",
       "10          $  \n",
       "11          $  \n",
       "12          $  \n",
       "13          $  \n",
       "14          $  \n",
       "15          $  \n",
       "16          $  "
      ]
     },
     "execution_count": 29,
     "metadata": {},
     "output_type": "execute_result"
    }
   ],
   "source": [
    "tattoo_df"
   ]
  },
  {
   "cell_type": "code",
   "execution_count": 27,
   "metadata": {},
   "outputs": [],
   "source": [
    "condition = tattoo_df['Rating'] >= 4.5"
   ]
  },
  {
   "cell_type": "code",
   "execution_count": 28,
   "metadata": {
    "scrolled": true
   },
   "outputs": [
    {
     "data": {
      "text/html": [
       "<div>\n",
       "<style scoped>\n",
       "    .dataframe tbody tr th:only-of-type {\n",
       "        vertical-align: middle;\n",
       "    }\n",
       "\n",
       "    .dataframe tbody tr th {\n",
       "        vertical-align: top;\n",
       "    }\n",
       "\n",
       "    .dataframe thead th {\n",
       "        text-align: right;\n",
       "    }\n",
       "</style>\n",
       "<table border=\"1\" class=\"dataframe\">\n",
       "  <thead>\n",
       "    <tr style=\"text-align: right;\">\n",
       "      <th></th>\n",
       "      <th>ID</th>\n",
       "      <th>Name</th>\n",
       "      <th>Review_Count</th>\n",
       "      <th>Rating</th>\n",
       "      <th>Price_Rank</th>\n",
       "    </tr>\n",
       "  </thead>\n",
       "  <tbody>\n",
       "    <tr>\n",
       "      <td>7</td>\n",
       "      <td>BUQQF2QUuZXa6E3q3KzBxw</td>\n",
       "      <td>Twins Asian Bistro</td>\n",
       "      <td>31</td>\n",
       "      <td>4.5</td>\n",
       "      <td>NaN</td>\n",
       "    </tr>\n",
       "    <tr>\n",
       "      <td>9</td>\n",
       "      <td>qn_xkreIKL5RrdypG1yArg</td>\n",
       "      <td>Teriyaki Bowl</td>\n",
       "      <td>97</td>\n",
       "      <td>4.5</td>\n",
       "      <td>$</td>\n",
       "    </tr>\n",
       "    <tr>\n",
       "      <td>13</td>\n",
       "      <td>6AB55kxgUJTsURDezq3zCw</td>\n",
       "      <td>Best Teriyaki</td>\n",
       "      <td>141</td>\n",
       "      <td>4.5</td>\n",
       "      <td>$</td>\n",
       "    </tr>\n",
       "  </tbody>\n",
       "</table>\n",
       "</div>"
      ],
      "text/plain": [
       "                        ID                Name  Review_Count  Rating  \\\n",
       "7   BUQQF2QUuZXa6E3q3KzBxw  Twins Asian Bistro            31     4.5   \n",
       "9   qn_xkreIKL5RrdypG1yArg       Teriyaki Bowl            97     4.5   \n",
       "13  6AB55kxgUJTsURDezq3zCw       Best Teriyaki           141     4.5   \n",
       "\n",
       "   Price_Rank  \n",
       "7         NaN  \n",
       "9           $  \n",
       "13          $  "
      ]
     },
     "execution_count": 28,
     "metadata": {},
     "output_type": "execute_result"
    }
   ],
   "source": [
    "tattoo_df[condition]"
   ]
  },
  {
   "cell_type": "code",
   "execution_count": 183,
   "metadata": {
    "collapsed": true
   },
   "outputs": [],
   "source": [
    "tattoo_df.drop_duplicates(subset='Name', inplace=True)"
   ]
  },
  {
   "cell_type": "code",
   "execution_count": 184,
   "metadata": {
    "scrolled": false
   },
   "outputs": [
    {
     "name": "stdout",
     "output_type": "stream",
     "text": [
      "466\n",
      "(466, 5)\n"
     ]
    }
   ],
   "source": [
    "print(tattoo_df['Name'].nunique())\n",
    "print(tattoo_df.shape)"
   ]
  },
  {
   "cell_type": "markdown",
   "metadata": {},
   "source": [
    "## Part 4 -  Create ETL pipeline for the restaurant review data from the API\n",
    "\n",
    "You've done this for the Businesses, now you need to do this for reviews. You will follow the same process, but your functions will be specific to reviews."
   ]
  },
  {
   "cell_type": "code",
   "execution_count": 185,
   "metadata": {},
   "outputs": [],
   "source": [
    "# write Pandas code to pull back all of the business ids \n",
    "# you will need these ids to pull back the reviews for each restaurant\n",
    "\n",
    "tattoo_id = tattoo_df['ID'].values"
   ]
  },
  {
   "cell_type": "code",
   "execution_count": 273,
   "metadata": {},
   "outputs": [],
   "source": [
    "#tattoo_id"
   ]
  },
  {
   "cell_type": "code",
   "execution_count": 204,
   "metadata": {},
   "outputs": [],
   "source": [
    "test_id = tattoo_id[0]\n",
    "test_url =  'https://api.yelp.com/v3/businesses/{}/reviews'.format(test_id)\n",
    "headers = {'Authorization': 'Bearer {}'.format(api_key)}"
   ]
  },
  {
   "cell_type": "code",
   "execution_count": 205,
   "metadata": {},
   "outputs": [],
   "source": [
    "response = requests.get(test_url, headers=headers)"
   ]
  },
  {
   "cell_type": "code",
   "execution_count": 231,
   "metadata": {},
   "outputs": [
    {
     "data": {
      "text/plain": [
       "200"
      ]
     },
     "execution_count": 231,
     "metadata": {},
     "output_type": "execute_result"
    }
   ],
   "source": [
    "response.status_code"
   ]
  },
  {
   "cell_type": "code",
   "execution_count": 218,
   "metadata": {},
   "outputs": [
    {
     "data": {
      "text/plain": [
       "{'possible_languages': ['en'],\n",
       " 'reviews': [{'id': 'LULwvPoO2ljY9fXQYjB1Pg',\n",
       "   'rating': 5,\n",
       "   'text': \"I've been wanting to get a tattoo for the longest time, and after doing some research, I came across Jing on Instagram and just knew I had to get my first...\",\n",
       "   'time_created': '2019-12-30 08:56:38',\n",
       "   'url': 'https://www.yelp.com/biz/jings-tattoo-flushing?adjust_creative=9oud9pgPIhoXYt0000Ulyg&hrid=LULwvPoO2ljY9fXQYjB1Pg&utm_campaign=yelp_api_v3&utm_medium=api_v3_business_reviews&utm_source=9oud9pgPIhoXYt0000Ulyg',\n",
       "   'user': {'id': 'psSh0DDsrRfQWNL7eGHQMQ',\n",
       "    'image_url': 'https://s3-media1.fl.yelpcdn.com/photo/7UjJMP5gWMooKLAlr75mAg/o.jpg',\n",
       "    'name': 'Monicka C.',\n",
       "    'profile_url': 'https://www.yelp.com/user_details?userid=psSh0DDsrRfQWNL7eGHQMQ'}},\n",
       "  {'id': 'VMKfqRBsJwQY93sTe3jcFg',\n",
       "   'rating': 5,\n",
       "   'text': \"I came across a flash tattoo on Instagram and I instantly fell in love with Joseph's design. I loved the minimalistic and fine line style of his work and...\",\n",
       "   'time_created': '2019-10-03 15:28:40',\n",
       "   'url': 'https://www.yelp.com/biz/jings-tattoo-flushing?adjust_creative=9oud9pgPIhoXYt0000Ulyg&hrid=VMKfqRBsJwQY93sTe3jcFg&utm_campaign=yelp_api_v3&utm_medium=api_v3_business_reviews&utm_source=9oud9pgPIhoXYt0000Ulyg',\n",
       "   'user': {'id': 'StlAD_X6nWGxEfqWQz3GuA',\n",
       "    'image_url': 'https://s3-media4.fl.yelpcdn.com/photo/5F2Wt8R_Td7pKd4w6V3lxQ/o.jpg',\n",
       "    'name': 'Michael Z.',\n",
       "    'profile_url': 'https://www.yelp.com/user_details?userid=StlAD_X6nWGxEfqWQz3GuA'}},\n",
       "  {'id': 'IrQ3IogIcrp7lYL5RnOoUg',\n",
       "   'rating': 5,\n",
       "   'text': 'I reached out to Jing months in advance to book an appointment for this past weekend. I wanted a geometric design of a Chihuahua in memory of my first dog....',\n",
       "   'time_created': '2019-09-16 18:47:54',\n",
       "   'url': 'https://www.yelp.com/biz/jings-tattoo-flushing?adjust_creative=9oud9pgPIhoXYt0000Ulyg&hrid=IrQ3IogIcrp7lYL5RnOoUg&utm_campaign=yelp_api_v3&utm_medium=api_v3_business_reviews&utm_source=9oud9pgPIhoXYt0000Ulyg',\n",
       "   'user': {'id': 'X-vcl3qEX-2TyXeQIVCGaA',\n",
       "    'image_url': 'https://s3-media1.fl.yelpcdn.com/photo/LhvHpbA9RQ-ZONKW6NBzHg/o.jpg',\n",
       "    'name': 'Lina T.',\n",
       "    'profile_url': 'https://www.yelp.com/user_details?userid=X-vcl3qEX-2TyXeQIVCGaA'}}],\n",
       " 'total': 80}"
      ]
     },
     "execution_count": 218,
     "metadata": {},
     "output_type": "execute_result"
    }
   ],
   "source": [
    "response.json() #['reviews'][0]['text']"
   ]
  },
  {
   "cell_type": "code",
   "execution_count": 229,
   "metadata": {},
   "outputs": [],
   "source": [
    "#yelp_call_rev(tattoo_id[4], api_key)"
   ]
  },
  {
   "cell_type": "code",
   "execution_count": 291,
   "metadata": {
    "collapsed": true
   },
   "outputs": [],
   "source": [
    "# write a function that takes a business id \n",
    "# and makes a call to the API for reivews\n",
    "\n",
    "#tat_id is essentially tattoo_id[index number]\n",
    "\n",
    "def yelp_call_rev(tat_id, api_key):\n",
    "    url =  'https://api.yelp.com/v3/businesses/{}/reviews'.format(tat_id)\n",
    "    \n",
    "    headers = {'Authorization': 'Bearer {}'.format(api_key)}\n",
    "    \n",
    "    data = requests.get(url, headers=headers)\n",
    "    \n",
    "    response = data.json()\n",
    "#     print(response.status_code)\n",
    "    return response"
   ]
  },
  {
   "cell_type": "code",
   "execution_count": 294,
   "metadata": {
    "collapsed": true
   },
   "outputs": [],
   "source": [
    "dummy = yelp_call_rev(tattoo_id[4], api_key)"
   ]
  },
  {
   "cell_type": "code",
   "execution_count": 290,
   "metadata": {},
   "outputs": [
    {
     "data": {
      "text/plain": [
       "dict_keys(['reviews', 'total', 'possible_languages'])"
      ]
     },
     "execution_count": 290,
     "metadata": {},
     "output_type": "execute_result"
    }
   ],
   "source": [
    "dummy.keys()"
   ]
  },
  {
   "cell_type": "code",
   "execution_count": 279,
   "metadata": {},
   "outputs": [
    {
     "data": {
      "text/plain": [
       "[{'id': 'B5fc58JbHI4L3wncC7Dzhg',\n",
       "  'rating': 5,\n",
       "  'text': 'Reached out last minute for a semi-impromptu tattoo. \\n\\nSu was amazing and discussed his worries about the placement and size I was thinking. \\n\\nTattoo itself...',\n",
       "  'time_created': '2019-01-07 21:00:42',\n",
       "  'url': 'https://www.yelp.com/biz/soma-art-tattoo-astoria?adjust_creative=9oud9pgPIhoXYt0000Ulyg&hrid=B5fc58JbHI4L3wncC7Dzhg&utm_campaign=yelp_api_v3&utm_medium=api_v3_business_reviews&utm_source=9oud9pgPIhoXYt0000Ulyg',\n",
       "  'user': {'id': 'SD9SQdL2xaheIE4y_F9fAA',\n",
       "   'image_url': 'https://s3-media1.fl.yelpcdn.com/photo/PaiQhEwx8I0ekWnq6CzAUw/o.jpg',\n",
       "   'name': 'Lauren F.',\n",
       "   'profile_url': 'https://www.yelp.com/user_details?userid=SD9SQdL2xaheIE4y_F9fAA'}},\n",
       " {'id': 'R8OE2rwvGmuncqcxZdRHTA',\n",
       "  'rating': 5,\n",
       "  'text': \"Su is AMAZING!!!!! The art, the price, everything is awesome! I highly recommend this artist for everybody who wants to add artistry on their bodies. can't...\",\n",
       "  'time_created': '2019-07-04 15:51:30',\n",
       "  'url': 'https://www.yelp.com/biz/soma-art-tattoo-astoria?adjust_creative=9oud9pgPIhoXYt0000Ulyg&hrid=R8OE2rwvGmuncqcxZdRHTA&utm_campaign=yelp_api_v3&utm_medium=api_v3_business_reviews&utm_source=9oud9pgPIhoXYt0000Ulyg',\n",
       "  'user': {'id': 'dRx2reGH48N93C0SvQLePA',\n",
       "   'image_url': 'https://s3-media2.fl.yelpcdn.com/photo/-b86i37KJ1A_rjv3lDUh6w/o.jpg',\n",
       "   'name': 'Epirose B.',\n",
       "   'profile_url': 'https://www.yelp.com/user_details?userid=dRx2reGH48N93C0SvQLePA'}},\n",
       " {'id': 'nSNtxuGwo6qczsXu5mD2uw',\n",
       "  'rating': 5,\n",
       "  'text': 'Su tattoed both my friend and me for our matching tattoos. From when we first came in, he was very kind to both of us and made us feel very comfortable. He...',\n",
       "  'time_created': '2019-04-29 12:26:52',\n",
       "  'url': 'https://www.yelp.com/biz/soma-art-tattoo-astoria?adjust_creative=9oud9pgPIhoXYt0000Ulyg&hrid=nSNtxuGwo6qczsXu5mD2uw&utm_campaign=yelp_api_v3&utm_medium=api_v3_business_reviews&utm_source=9oud9pgPIhoXYt0000Ulyg',\n",
       "  'user': {'id': 'mY3AggAQyyABtHanBvtHfQ',\n",
       "   'image_url': 'https://s3-media3.fl.yelpcdn.com/photo/BvBBT6GzTfyaKG-cM5bqUA/o.jpg',\n",
       "   'name': 'Evelyn F.',\n",
       "   'profile_url': 'https://www.yelp.com/user_details?userid=mY3AggAQyyABtHanBvtHfQ'}}]"
      ]
     },
     "execution_count": 279,
     "metadata": {},
     "output_type": "execute_result"
    }
   ],
   "source": [
    "dummy['reviews']"
   ]
  },
  {
   "cell_type": "code",
   "execution_count": 280,
   "metadata": {},
   "outputs": [
    {
     "data": {
      "text/plain": [
       "\"I've been wanting to get a tattoo for the longest time, and after doing some research, I came across Jing on Instagram and just knew I had to get my first...\""
      ]
     },
     "execution_count": 280,
     "metadata": {},
     "output_type": "execute_result"
    }
   ],
   "source": [
    "response.json()['reviews'][0]['text']"
   ]
  },
  {
   "cell_type": "code",
   "execution_count": 260,
   "metadata": {},
   "outputs": [
    {
     "data": {
      "text/plain": [
       "dict_keys(['reviews', 'total', 'possible_languages'])"
      ]
     },
     "execution_count": 260,
     "metadata": {},
     "output_type": "execute_result"
    }
   ],
   "source": [
    "response.json().keys()"
   ]
  },
  {
   "cell_type": "code",
   "execution_count": 292,
   "metadata": {},
   "outputs": [],
   "source": [
    "# Write a function to parse out the relevant information from the reviews\n",
    "\n",
    "def parse_results_rev(results, tat_id):\n",
    "    parsed_data = []\n",
    "    \n",
    "    for review in results:\n",
    "        if 'reviews' in results.keys():\n",
    "            for item in results['reviews']:\n",
    "                rev_list = [\n",
    "                            item['user']['name'],\n",
    "                            item['text'],\n",
    "                            item['rating'],\n",
    "                            item['time_created'],\n",
    "                            str(tat_id)\n",
    "                            ]\n",
    "\n",
    "                parsed_data.append(rev_list)\n",
    "   \n",
    "    return parsed_data"
   ]
  },
  {
   "cell_type": "code",
   "execution_count": 296,
   "metadata": {},
   "outputs": [
    {
     "data": {
      "text/plain": [
       "[['Lauren F.',\n",
       "  'Reached out last minute for a semi-impromptu tattoo. \\n\\nSu was amazing and discussed his worries about the placement and size I was thinking. \\n\\nTattoo itself...',\n",
       "  5,\n",
       "  '2019-01-07 21:00:42',\n",
       "  'K_EujGkKg0Pcv9lyKxVG0A'],\n",
       " ['Epirose B.',\n",
       "  \"Su is AMAZING!!!!! The art, the price, everything is awesome! I highly recommend this artist for everybody who wants to add artistry on their bodies. can't...\",\n",
       "  5,\n",
       "  '2019-07-04 15:51:30',\n",
       "  'K_EujGkKg0Pcv9lyKxVG0A'],\n",
       " ['Evelyn F.',\n",
       "  'Su tattoed both my friend and me for our matching tattoos. From when we first came in, he was very kind to both of us and made us feel very comfortable. He...',\n",
       "  5,\n",
       "  '2019-04-29 12:26:52',\n",
       "  'K_EujGkKg0Pcv9lyKxVG0A'],\n",
       " ['Lauren F.',\n",
       "  'Reached out last minute for a semi-impromptu tattoo. \\n\\nSu was amazing and discussed his worries about the placement and size I was thinking. \\n\\nTattoo itself...',\n",
       "  5,\n",
       "  '2019-01-07 21:00:42',\n",
       "  'K_EujGkKg0Pcv9lyKxVG0A'],\n",
       " ['Epirose B.',\n",
       "  \"Su is AMAZING!!!!! The art, the price, everything is awesome! I highly recommend this artist for everybody who wants to add artistry on their bodies. can't...\",\n",
       "  5,\n",
       "  '2019-07-04 15:51:30',\n",
       "  'K_EujGkKg0Pcv9lyKxVG0A'],\n",
       " ['Evelyn F.',\n",
       "  'Su tattoed both my friend and me for our matching tattoos. From when we first came in, he was very kind to both of us and made us feel very comfortable. He...',\n",
       "  5,\n",
       "  '2019-04-29 12:26:52',\n",
       "  'K_EujGkKg0Pcv9lyKxVG0A'],\n",
       " ['Lauren F.',\n",
       "  'Reached out last minute for a semi-impromptu tattoo. \\n\\nSu was amazing and discussed his worries about the placement and size I was thinking. \\n\\nTattoo itself...',\n",
       "  5,\n",
       "  '2019-01-07 21:00:42',\n",
       "  'K_EujGkKg0Pcv9lyKxVG0A'],\n",
       " ['Epirose B.',\n",
       "  \"Su is AMAZING!!!!! The art, the price, everything is awesome! I highly recommend this artist for everybody who wants to add artistry on their bodies. can't...\",\n",
       "  5,\n",
       "  '2019-07-04 15:51:30',\n",
       "  'K_EujGkKg0Pcv9lyKxVG0A'],\n",
       " ['Evelyn F.',\n",
       "  'Su tattoed both my friend and me for our matching tattoos. From when we first came in, he was very kind to both of us and made us feel very comfortable. He...',\n",
       "  5,\n",
       "  '2019-04-29 12:26:52',\n",
       "  'K_EujGkKg0Pcv9lyKxVG0A']]"
      ]
     },
     "execution_count": 296,
     "metadata": {},
     "output_type": "execute_result"
    }
   ],
   "source": [
    "test_parse = parse_results_rev(dummy, tattoo_id[4])\n",
    "test_parse"
   ]
  },
  {
   "cell_type": "code",
   "execution_count": 311,
   "metadata": {
    "collapsed": true
   },
   "outputs": [],
   "source": [
    "columns_rev = ['Reviewer_Name', 'Review', 'Rating', 'Time','Tat_ID']\n",
    "nothing_rev = pd.DataFrame(columns=columns_rev)\n",
    "nothing_rev.to_csv('tatrev_api.csv')"
   ]
  },
  {
   "cell_type": "code",
   "execution_count": 293,
   "metadata": {
    "collapsed": true
   },
   "outputs": [],
   "source": [
    "# write a function to insert the parsed data into the reviews table\n",
    "\n",
    "def data_save_rev(parsed_results_rev, csv_filename):\n",
    "    \n",
    "    columns_rev = ['Reviewer_Name', 'Review', 'Rating', 'Time', 'Tat_ID']\n",
    "    \n",
    "    update = pd.read_csv(csv_filename, index_col=0)\n",
    "    \n",
    "    former = pd.DataFrame(parsed_results_rev, columns=columns_rev)\n",
    "    \n",
    "    df_list_rev = [update, former]\n",
    "    \n",
    "    mega = pd.concat(df_list_rev)\n",
    "    \n",
    "    return mega.to_csv(csv_filename) \n"
   ]
  },
  {
   "cell_type": "code",
   "execution_count": 304,
   "metadata": {},
   "outputs": [],
   "source": [
    "data_save_rev(test_parse, 'rav_api.csv')"
   ]
  },
  {
   "cell_type": "code",
   "execution_count": 305,
   "metadata": {},
   "outputs": [],
   "source": [
    "go = pd.read_csv('rav_api.csv', index_col=0)\n",
    "\n",
    "go.drop_duplicates(subset='Review', inplace=True)\n",
    "#go['Review'].nunique()"
   ]
  },
  {
   "cell_type": "code",
   "execution_count": 306,
   "metadata": {},
   "outputs": [
    {
     "data": {
      "text/html": [
       "<div>\n",
       "<table border=\"1\" class=\"dataframe\">\n",
       "  <thead>\n",
       "    <tr style=\"text-align: right;\">\n",
       "      <th></th>\n",
       "      <th>Rating</th>\n",
       "      <th>Review</th>\n",
       "      <th>Reviewer Name</th>\n",
       "      <th>Reviewer_Name</th>\n",
       "      <th>Tat_ID</th>\n",
       "      <th>Time</th>\n",
       "    </tr>\n",
       "  </thead>\n",
       "  <tbody>\n",
       "    <tr>\n",
       "      <th>0</th>\n",
       "      <td>5.0</td>\n",
       "      <td>Reached out last minute for a semi-impromptu t...</td>\n",
       "      <td>NaN</td>\n",
       "      <td>Lauren F.</td>\n",
       "      <td>K_EujGkKg0Pcv9lyKxVG0A</td>\n",
       "      <td>2019-01-07 21:00:42</td>\n",
       "    </tr>\n",
       "    <tr>\n",
       "      <th>1</th>\n",
       "      <td>5.0</td>\n",
       "      <td>Su is AMAZING!!!!! The art, the price, everyth...</td>\n",
       "      <td>NaN</td>\n",
       "      <td>Epirose B.</td>\n",
       "      <td>K_EujGkKg0Pcv9lyKxVG0A</td>\n",
       "      <td>2019-07-04 15:51:30</td>\n",
       "    </tr>\n",
       "    <tr>\n",
       "      <th>2</th>\n",
       "      <td>5.0</td>\n",
       "      <td>Su tattoed both my friend and me for our match...</td>\n",
       "      <td>NaN</td>\n",
       "      <td>Evelyn F.</td>\n",
       "      <td>K_EujGkKg0Pcv9lyKxVG0A</td>\n",
       "      <td>2019-04-29 12:26:52</td>\n",
       "    </tr>\n",
       "  </tbody>\n",
       "</table>\n",
       "</div>"
      ],
      "text/plain": [
       "   Rating                                             Review  Reviewer Name  \\\n",
       "0     5.0  Reached out last minute for a semi-impromptu t...            NaN   \n",
       "1     5.0  Su is AMAZING!!!!! The art, the price, everyth...            NaN   \n",
       "2     5.0  Su tattoed both my friend and me for our match...            NaN   \n",
       "\n",
       "  Reviewer_Name                  Tat_ID                 Time  \n",
       "0     Lauren F.  K_EujGkKg0Pcv9lyKxVG0A  2019-01-07 21:00:42  \n",
       "1    Epirose B.  K_EujGkKg0Pcv9lyKxVG0A  2019-07-04 15:51:30  \n",
       "2     Evelyn F.  K_EujGkKg0Pcv9lyKxVG0A  2019-04-29 12:26:52  "
      ]
     },
     "execution_count": 306,
     "metadata": {},
     "output_type": "execute_result"
    }
   ],
   "source": [
    "go"
   ]
  },
  {
   "cell_type": "code",
   "execution_count": 265,
   "metadata": {},
   "outputs": [
    {
     "data": {
      "text/plain": [
       "466"
      ]
     },
     "execution_count": 265,
     "metadata": {},
     "output_type": "execute_result"
    }
   ],
   "source": [
    "len(tattoo_id)"
   ]
  },
  {
   "cell_type": "code",
   "execution_count": 312,
   "metadata": {},
   "outputs": [],
   "source": [
    "# combine the functions above into a single script\n",
    "\n",
    "\n",
    "\n",
    "\n",
    "for tat_id in tattoo_id:\n",
    "\n",
    "    first_call = yelp_call_rev(tat_id, api_key)\n",
    "    second_call = parse_results_rev(first_call, tat_id)\n",
    "    data_save_rev(second_call, 'tatrev_api.csv')\n",
    "\n",
    "      \n",
    "    \n"
   ]
  },
  {
   "cell_type": "code",
   "execution_count": 313,
   "metadata": {},
   "outputs": [],
   "source": [
    "review_df = pd.read_csv('tatrev_api.csv', index_col=0)"
   ]
  },
  {
   "cell_type": "code",
   "execution_count": 316,
   "metadata": {
    "collapsed": true
   },
   "outputs": [],
   "source": [
    "review_df.drop_duplicates(subset='Review', inplace=True)"
   ]
  },
  {
   "cell_type": "code",
   "execution_count": 319,
   "metadata": {},
   "outputs": [],
   "source": [
    "review_df.rename(columns={'Tat_ID':'ID'}, inplace=True)"
   ]
  },
  {
   "cell_type": "code",
   "execution_count": 321,
   "metadata": {},
   "outputs": [
    {
     "data": {
      "text/html": [
       "<div>\n",
       "<table border=\"1\" class=\"dataframe\">\n",
       "  <thead>\n",
       "    <tr style=\"text-align: right;\">\n",
       "      <th></th>\n",
       "      <th>Reviewer_Name</th>\n",
       "      <th>Review</th>\n",
       "      <th>Rating</th>\n",
       "      <th>Time</th>\n",
       "      <th>ID</th>\n",
       "    </tr>\n",
       "  </thead>\n",
       "  <tbody>\n",
       "    <tr>\n",
       "      <th>0</th>\n",
       "      <td>Monicka C.</td>\n",
       "      <td>I've been wanting to get a tattoo for the long...</td>\n",
       "      <td>5.0</td>\n",
       "      <td>2019-12-30 08:56:38</td>\n",
       "      <td>2krcy6ooduY4QCHnRAzM-w</td>\n",
       "    </tr>\n",
       "    <tr>\n",
       "      <th>1</th>\n",
       "      <td>Michael Z.</td>\n",
       "      <td>I came across a flash tattoo on Instagram and ...</td>\n",
       "      <td>5.0</td>\n",
       "      <td>2019-10-03 15:28:40</td>\n",
       "      <td>2krcy6ooduY4QCHnRAzM-w</td>\n",
       "    </tr>\n",
       "    <tr>\n",
       "      <th>2</th>\n",
       "      <td>Lina T.</td>\n",
       "      <td>I reached out to Jing months in advance to boo...</td>\n",
       "      <td>5.0</td>\n",
       "      <td>2019-09-16 18:47:54</td>\n",
       "      <td>2krcy6ooduY4QCHnRAzM-w</td>\n",
       "    </tr>\n",
       "    <tr>\n",
       "      <th>0</th>\n",
       "      <td>Jamal K.</td>\n",
       "      <td>Took my girlfriend to get two pieces during th...</td>\n",
       "      <td>5.0</td>\n",
       "      <td>2020-02-26 15:59:24</td>\n",
       "      <td>amEkAWWagKNlkFuXIcOH5A</td>\n",
       "    </tr>\n",
       "    <tr>\n",
       "      <th>1</th>\n",
       "      <td>Andrea G.</td>\n",
       "      <td>Came here a couple weeks ago for a consultatio...</td>\n",
       "      <td>5.0</td>\n",
       "      <td>2019-12-03 03:29:40</td>\n",
       "      <td>amEkAWWagKNlkFuXIcOH5A</td>\n",
       "    </tr>\n",
       "  </tbody>\n",
       "</table>\n",
       "</div>"
      ],
      "text/plain": [
       "  Reviewer_Name                                             Review  Rating  \\\n",
       "0    Monicka C.  I've been wanting to get a tattoo for the long...     5.0   \n",
       "1    Michael Z.  I came across a flash tattoo on Instagram and ...     5.0   \n",
       "2       Lina T.  I reached out to Jing months in advance to boo...     5.0   \n",
       "0      Jamal K.  Took my girlfriend to get two pieces during th...     5.0   \n",
       "1     Andrea G.  Came here a couple weeks ago for a consultatio...     5.0   \n",
       "\n",
       "                  Time                      ID  \n",
       "0  2019-12-30 08:56:38  2krcy6ooduY4QCHnRAzM-w  \n",
       "1  2019-10-03 15:28:40  2krcy6ooduY4QCHnRAzM-w  \n",
       "2  2019-09-16 18:47:54  2krcy6ooduY4QCHnRAzM-w  \n",
       "0  2020-02-26 15:59:24  amEkAWWagKNlkFuXIcOH5A  \n",
       "1  2019-12-03 03:29:40  amEkAWWagKNlkFuXIcOH5A  "
      ]
     },
     "execution_count": 321,
     "metadata": {},
     "output_type": "execute_result"
    }
   ],
   "source": [
    "review_df.head()"
   ]
  },
  {
   "cell_type": "code",
   "execution_count": 322,
   "metadata": {
    "scrolled": true
   },
   "outputs": [
    {
     "data": {
      "text/html": [
       "<div>\n",
       "<table border=\"1\" class=\"dataframe\">\n",
       "  <thead>\n",
       "    <tr style=\"text-align: right;\">\n",
       "      <th></th>\n",
       "      <th>ID</th>\n",
       "      <th>Name</th>\n",
       "      <th>Review_Count</th>\n",
       "      <th>Rating</th>\n",
       "      <th>Price_Rank</th>\n",
       "    </tr>\n",
       "  </thead>\n",
       "  <tbody>\n",
       "    <tr>\n",
       "      <th>0</th>\n",
       "      <td>2krcy6ooduY4QCHnRAzM-w</td>\n",
       "      <td>Jing's Tattoo</td>\n",
       "      <td>80.0</td>\n",
       "      <td>4.5</td>\n",
       "      <td>$$</td>\n",
       "    </tr>\n",
       "    <tr>\n",
       "      <th>1</th>\n",
       "      <td>amEkAWWagKNlkFuXIcOH5A</td>\n",
       "      <td>Crush Ink</td>\n",
       "      <td>66.0</td>\n",
       "      <td>5.0</td>\n",
       "      <td>$$</td>\n",
       "    </tr>\n",
       "    <tr>\n",
       "      <th>2</th>\n",
       "      <td>HRI3N2_3Jy4YxO3fJ64OXA</td>\n",
       "      <td>Ching Tattoo</td>\n",
       "      <td>28.0</td>\n",
       "      <td>4.5</td>\n",
       "      <td>$$</td>\n",
       "    </tr>\n",
       "    <tr>\n",
       "      <th>3</th>\n",
       "      <td>At4uTuPCpZdB7J1u5N5LfQ</td>\n",
       "      <td>10 Thousand Foxes Tattoo</td>\n",
       "      <td>71.0</td>\n",
       "      <td>5.0</td>\n",
       "      <td>$$</td>\n",
       "    </tr>\n",
       "    <tr>\n",
       "      <th>4</th>\n",
       "      <td>K_EujGkKg0Pcv9lyKxVG0A</td>\n",
       "      <td>Soma Art Tattoo</td>\n",
       "      <td>34.0</td>\n",
       "      <td>4.5</td>\n",
       "      <td>$</td>\n",
       "    </tr>\n",
       "  </tbody>\n",
       "</table>\n",
       "</div>"
      ],
      "text/plain": [
       "                       ID                      Name  Review_Count  Rating  \\\n",
       "0  2krcy6ooduY4QCHnRAzM-w             Jing's Tattoo          80.0     4.5   \n",
       "1  amEkAWWagKNlkFuXIcOH5A                 Crush Ink          66.0     5.0   \n",
       "2  HRI3N2_3Jy4YxO3fJ64OXA              Ching Tattoo          28.0     4.5   \n",
       "3  At4uTuPCpZdB7J1u5N5LfQ  10 Thousand Foxes Tattoo          71.0     5.0   \n",
       "4  K_EujGkKg0Pcv9lyKxVG0A           Soma Art Tattoo          34.0     4.5   \n",
       "\n",
       "  Price_Rank  \n",
       "0         $$  \n",
       "1         $$  \n",
       "2         $$  \n",
       "3         $$  \n",
       "4          $  "
      ]
     },
     "execution_count": 322,
     "metadata": {},
     "output_type": "execute_result"
    }
   ],
   "source": [
    "tattoo_df.head()"
   ]
  },
  {
   "cell_type": "code",
   "execution_count": 345,
   "metadata": {
    "collapsed": true
   },
   "outputs": [],
   "source": [
    "#join business and review dataframes\n",
    "\n",
    "df_ultra = pd.merge(tattoo_df, review_df, on='ID')"
   ]
  },
  {
   "cell_type": "code",
   "execution_count": 346,
   "metadata": {},
   "outputs": [],
   "source": [
    "df_ultra.reset_index(inplace=True)\n",
    "df_ultra.drop(labels='index', axis=1, inplace=True)"
   ]
  },
  {
   "cell_type": "code",
   "execution_count": 362,
   "metadata": {},
   "outputs": [],
   "source": [
    "df_ultra.rename(columns={'Rating_x': 'Overall_Rating', 'Rating_y':'User_Rating'}, inplace=True)"
   ]
  },
  {
   "cell_type": "code",
   "execution_count": 363,
   "metadata": {},
   "outputs": [
    {
     "data": {
      "text/html": [
       "<div>\n",
       "<table border=\"1\" class=\"dataframe\">\n",
       "  <thead>\n",
       "    <tr style=\"text-align: right;\">\n",
       "      <th></th>\n",
       "      <th>ID</th>\n",
       "      <th>Name</th>\n",
       "      <th>Review_Count</th>\n",
       "      <th>Overall_Rating</th>\n",
       "      <th>Price_Rank</th>\n",
       "      <th>Reviewer_Name</th>\n",
       "      <th>Review</th>\n",
       "      <th>User_Rating</th>\n",
       "      <th>Time</th>\n",
       "    </tr>\n",
       "  </thead>\n",
       "  <tbody>\n",
       "    <tr>\n",
       "      <th>0</th>\n",
       "      <td>2krcy6ooduY4QCHnRAzM-w</td>\n",
       "      <td>Jing's Tattoo</td>\n",
       "      <td>80.0</td>\n",
       "      <td>4.5</td>\n",
       "      <td>$$</td>\n",
       "      <td>Monicka C.</td>\n",
       "      <td>I've been wanting to get a tattoo for the longest time, and after doing some research, I came across Jing on Instagram and just knew I had to get my first...</td>\n",
       "      <td>5.0</td>\n",
       "      <td>2019-12-30 08:56:38</td>\n",
       "    </tr>\n",
       "    <tr>\n",
       "      <th>1</th>\n",
       "      <td>2krcy6ooduY4QCHnRAzM-w</td>\n",
       "      <td>Jing's Tattoo</td>\n",
       "      <td>80.0</td>\n",
       "      <td>4.5</td>\n",
       "      <td>$$</td>\n",
       "      <td>Michael Z.</td>\n",
       "      <td>I came across a flash tattoo on Instagram and I instantly fell in love with Joseph's design. I loved the minimalistic and fine line style of his work and...</td>\n",
       "      <td>5.0</td>\n",
       "      <td>2019-10-03 15:28:40</td>\n",
       "    </tr>\n",
       "    <tr>\n",
       "      <th>2</th>\n",
       "      <td>2krcy6ooduY4QCHnRAzM-w</td>\n",
       "      <td>Jing's Tattoo</td>\n",
       "      <td>80.0</td>\n",
       "      <td>4.5</td>\n",
       "      <td>$$</td>\n",
       "      <td>Lina T.</td>\n",
       "      <td>I reached out to Jing months in advance to book an appointment for this past weekend. I wanted a geometric design of a Chihuahua in memory of my first dog....</td>\n",
       "      <td>5.0</td>\n",
       "      <td>2019-09-16 18:47:54</td>\n",
       "    </tr>\n",
       "    <tr>\n",
       "      <th>3</th>\n",
       "      <td>amEkAWWagKNlkFuXIcOH5A</td>\n",
       "      <td>Crush Ink</td>\n",
       "      <td>66.0</td>\n",
       "      <td>5.0</td>\n",
       "      <td>$$</td>\n",
       "      <td>Jamal K.</td>\n",
       "      <td>Took my girlfriend to get two pieces during their flash sale. I inquired with them two days ago, not only did Shane make it super easy and was able to get...</td>\n",
       "      <td>5.0</td>\n",
       "      <td>2020-02-26 15:59:24</td>\n",
       "    </tr>\n",
       "    <tr>\n",
       "      <th>4</th>\n",
       "      <td>amEkAWWagKNlkFuXIcOH5A</td>\n",
       "      <td>Crush Ink</td>\n",
       "      <td>66.0</td>\n",
       "      <td>5.0</td>\n",
       "      <td>$$</td>\n",
       "      <td>Andrea G.</td>\n",
       "      <td>Came here a couple weeks ago for a consultation on getting a cover up. The two girls were very helpful with suggestions on the placement of the new tattoo I...</td>\n",
       "      <td>5.0</td>\n",
       "      <td>2019-12-03 03:29:40</td>\n",
       "    </tr>\n",
       "  </tbody>\n",
       "</table>\n",
       "</div>"
      ],
      "text/plain": [
       "                       ID           Name  Review_Count  Overall_Rating  \\\n",
       "0  2krcy6ooduY4QCHnRAzM-w  Jing's Tattoo  80.0          4.5              \n",
       "1  2krcy6ooduY4QCHnRAzM-w  Jing's Tattoo  80.0          4.5              \n",
       "2  2krcy6ooduY4QCHnRAzM-w  Jing's Tattoo  80.0          4.5              \n",
       "3  amEkAWWagKNlkFuXIcOH5A  Crush Ink      66.0          5.0              \n",
       "4  amEkAWWagKNlkFuXIcOH5A  Crush Ink      66.0          5.0              \n",
       "\n",
       "  Price_Rank Reviewer_Name  \\\n",
       "0  $$         Monicka C.     \n",
       "1  $$         Michael Z.     \n",
       "2  $$         Lina T.        \n",
       "3  $$         Jamal K.       \n",
       "4  $$         Andrea G.      \n",
       "\n",
       "                                                                                                                                                            Review  \\\n",
       "0  I've been wanting to get a tattoo for the longest time, and after doing some research, I came across Jing on Instagram and just knew I had to get my first...     \n",
       "1  I came across a flash tattoo on Instagram and I instantly fell in love with Joseph's design. I loved the minimalistic and fine line style of his work and...      \n",
       "2  I reached out to Jing months in advance to book an appointment for this past weekend. I wanted a geometric design of a Chihuahua in memory of my first dog....    \n",
       "3  Took my girlfriend to get two pieces during their flash sale. I inquired with them two days ago, not only did Shane make it super easy and was able to get...     \n",
       "4  Came here a couple weeks ago for a consultation on getting a cover up. The two girls were very helpful with suggestions on the placement of the new tattoo I...   \n",
       "\n",
       "   User_Rating                 Time  \n",
       "0  5.0          2019-12-30 08:56:38  \n",
       "1  5.0          2019-10-03 15:28:40  \n",
       "2  5.0          2019-09-16 18:47:54  \n",
       "3  5.0          2020-02-26 15:59:24  \n",
       "4  5.0          2019-12-03 03:29:40  "
      ]
     },
     "execution_count": 363,
     "metadata": {},
     "output_type": "execute_result"
    }
   ],
   "source": [
    "df_ultra.head()"
   ]
  },
  {
   "cell_type": "markdown",
   "metadata": {},
   "source": [
    "## Part 5 -  Write Pandas code that will answer the questions posed. \n",
    "\n",
    "Now that your data is saved in CSVs, you can answer the questions. "
   ]
  },
  {
   "cell_type": "markdown",
   "metadata": {},
   "source": [
    " \n",
    "## Data Questions:\n",
    "\n",
    "- Which are the 5 most reviewed businesses?\n",
    "- What is the highest rating recieved in your data set and how many businesses have that rating?\n",
    "- What percentage of businesses have a rating greater than or  4.5?\n",
    "- What percentage of businesses have a rating less than 3?\n",
    "- What is the average rating of restaurants that have a price label of one dollar sign? Two dollar signs? Three dollar signs? \n",
    "- Return the text of the reviews for the most reviewed restaurant. \n",
    "- Return the name of the business with the most recent review. \n",
    "- Find the highest rated business and return text of the most recent review. If multiple business have the same rating, select the restaurant with the most reviews. \n",
    "- Find the lowest rated business and return text of the most recent review.  If multiple business have the same rating, select the restaurant with the least reviews. \n"
   ]
  },
  {
   "cell_type": "code",
   "execution_count": 191,
   "metadata": {},
   "outputs": [
    {
     "data": {
      "text/html": [
       "<div>\n",
       "<table border=\"1\" class=\"dataframe\">\n",
       "  <thead>\n",
       "    <tr style=\"text-align: right;\">\n",
       "      <th></th>\n",
       "      <th>ID</th>\n",
       "      <th>Name</th>\n",
       "      <th>Review_Count</th>\n",
       "      <th>Rating</th>\n",
       "      <th>Price_Rank</th>\n",
       "    </tr>\n",
       "  </thead>\n",
       "  <tbody>\n",
       "    <tr>\n",
       "      <th>41</th>\n",
       "      <td>rvNq0cz8zqAmCj3UZHyiQA</td>\n",
       "      <td>New York Adorned</td>\n",
       "      <td>465.0</td>\n",
       "      <td>4.5</td>\n",
       "      <td>$$$</td>\n",
       "    </tr>\n",
       "    <tr>\n",
       "      <th>34</th>\n",
       "      <td>NR24uDrPm7EsEHBtHT-F_Q</td>\n",
       "      <td>Village Tattoo NYC</td>\n",
       "      <td>406.0</td>\n",
       "      <td>4.5</td>\n",
       "      <td>$$</td>\n",
       "    </tr>\n",
       "    <tr>\n",
       "      <th>27</th>\n",
       "      <td>ztP04Diw9WQz_vDv52QLAg</td>\n",
       "      <td>Three Kings Tattoo</td>\n",
       "      <td>399.0</td>\n",
       "      <td>4.5</td>\n",
       "      <td>$$</td>\n",
       "    </tr>\n",
       "    <tr>\n",
       "      <th>22</th>\n",
       "      <td>1gZNMIAhd3qXMVGzkX5kuA</td>\n",
       "      <td>The End Is Near</td>\n",
       "      <td>354.0</td>\n",
       "      <td>4.5</td>\n",
       "      <td>$$</td>\n",
       "    </tr>\n",
       "    <tr>\n",
       "      <th>30</th>\n",
       "      <td>1472QFxEHKrkhDUfHYod6Q</td>\n",
       "      <td>Maria Tash</td>\n",
       "      <td>352.0</td>\n",
       "      <td>4.0</td>\n",
       "      <td>$$$</td>\n",
       "    </tr>\n",
       "  </tbody>\n",
       "</table>\n",
       "</div>"
      ],
      "text/plain": [
       "                        ID                Name  Review_Count  Rating  \\\n",
       "41  rvNq0cz8zqAmCj3UZHyiQA    New York Adorned         465.0     4.5   \n",
       "34  NR24uDrPm7EsEHBtHT-F_Q  Village Tattoo NYC         406.0     4.5   \n",
       "27  ztP04Diw9WQz_vDv52QLAg  Three Kings Tattoo         399.0     4.5   \n",
       "22  1gZNMIAhd3qXMVGzkX5kuA     The End Is Near         354.0     4.5   \n",
       "30  1472QFxEHKrkhDUfHYod6Q          Maria Tash         352.0     4.0   \n",
       "\n",
       "   Price_Rank  \n",
       "41        $$$  \n",
       "34         $$  \n",
       "27         $$  \n",
       "22         $$  \n",
       "30        $$$  "
      ]
     },
     "execution_count": 191,
     "metadata": {},
     "output_type": "execute_result"
    }
   ],
   "source": [
    "#Which are the 5 most reviewed businesses?\n",
    "most_rev = tattoo_df.sort_values('Review_Count', ascending=False).head(5)\n",
    "most_rev"
   ]
  },
  {
   "cell_type": "code",
   "execution_count": 192,
   "metadata": {},
   "outputs": [
    {
     "data": {
      "text/html": [
       "<div>\n",
       "<table border=\"1\" class=\"dataframe\">\n",
       "  <thead>\n",
       "    <tr style=\"text-align: right;\">\n",
       "      <th></th>\n",
       "      <th>ID</th>\n",
       "      <th>Name</th>\n",
       "      <th>Review_Count</th>\n",
       "      <th>Price_Rank</th>\n",
       "    </tr>\n",
       "    <tr>\n",
       "      <th>Rating</th>\n",
       "      <th></th>\n",
       "      <th></th>\n",
       "      <th></th>\n",
       "      <th></th>\n",
       "    </tr>\n",
       "  </thead>\n",
       "  <tbody>\n",
       "    <tr>\n",
       "      <th>5.0</th>\n",
       "      <td>161</td>\n",
       "      <td>161</td>\n",
       "      <td>161</td>\n",
       "      <td>79</td>\n",
       "    </tr>\n",
       "  </tbody>\n",
       "</table>\n",
       "</div>"
      ],
      "text/plain": [
       "         ID  Name  Review_Count  Price_Rank\n",
       "Rating                                     \n",
       "5.0     161   161           161          79"
      ]
     },
     "execution_count": 192,
     "metadata": {},
     "output_type": "execute_result"
    }
   ],
   "source": [
    "#What is the highest rating recieved in your data set and how many businesses have that rating?\n",
    "tattoo_df.groupby('Rating').count().sort_values('Review_Count', ascending=False).head(1)"
   ]
  },
  {
   "cell_type": "code",
   "execution_count": 193,
   "metadata": {},
   "outputs": [
    {
     "name": "stdout",
     "output_type": "stream",
     "text": [
      "62.0 %\n"
     ]
    }
   ],
   "source": [
    "#What percentage of businesses have a rating greater than or 4.5?\n",
    "print(round(tattoo_df[tattoo_df['Rating'] >= 4.5]['Name'].count()/len(tattoo_df) * 100), '%')"
   ]
  },
  {
   "cell_type": "code",
   "execution_count": 194,
   "metadata": {},
   "outputs": [
    {
     "name": "stdout",
     "output_type": "stream",
     "text": [
      "9.0 %\n"
     ]
    }
   ],
   "source": [
    "#What percentage of businesses have a rating less than 3?\n",
    "print(round(tattoo_df[tattoo_df['Rating'] < 3]['Name'].count()/len(tattoo_df) * 100), '%')"
   ]
  },
  {
   "cell_type": "code",
   "execution_count": 195,
   "metadata": {},
   "outputs": [
    {
     "data": {
      "text/plain": [
       "Price_Rank\n",
       "$       4.156250\n",
       "$$      4.270833\n",
       "$$$     3.928571\n",
       "$$$$    3.142857\n",
       "Name: Rating, dtype: float64"
      ]
     },
     "execution_count": 195,
     "metadata": {},
     "output_type": "execute_result"
    }
   ],
   "source": [
    "#What is the average rating of restaurants that have a price label of one dollar sign? \n",
    "#Two dollar signs? Three dollar signs? \n",
    "tatoo_df.groupby('Price_Rank')['Rating'].mean()"
   ]
  },
  {
   "cell_type": "code",
   "execution_count": 353,
   "metadata": {},
   "outputs": [],
   "source": [
    "pd.set_option('display.max_colwidth', -1)"
   ]
  },
  {
   "cell_type": "code",
   "execution_count": 350,
   "metadata": {},
   "outputs": [
    {
     "data": {
      "text/plain": [
       "118    I visited this location because the window full of dried flowers to be sold which I still have not found anywhere else in NY by the way. But to my surprise...\n",
       "Name: Review, dtype: object"
      ]
     },
     "execution_count": 350,
     "metadata": {},
     "output_type": "execute_result"
    }
   ],
   "source": [
    "#Return the text of the reviews for the most reviewed restaurant.\n",
    "df_ultra.sort_values(by='Review_Count', ascending=False).head(1)['Review']"
   ]
  },
  {
   "cell_type": "code",
   "execution_count": 356,
   "metadata": {},
   "outputs": [
    {
     "data": {
      "text/plain": [
       "77    Three Kings Tattoo\n",
       "Name: Name, dtype: object"
      ]
     },
     "execution_count": 356,
     "metadata": {},
     "output_type": "execute_result"
    }
   ],
   "source": [
    "#Return the name of the business with the most recent review. \n",
    "df_ultra.sort_values(by='Time', ascending=False).head(1)['Name']"
   ]
  },
  {
   "cell_type": "code",
   "execution_count": 364,
   "metadata": {},
   "outputs": [],
   "source": [
    "conditions = df_ultra['Overall_Rating'] >= 5.0"
   ]
  },
  {
   "cell_type": "code",
   "execution_count": 365,
   "metadata": {},
   "outputs": [
    {
     "data": {
      "text/plain": [
       "278    I got a tattoo from Hannah a few weeks ago and I am sooo happy with it. I had an idea of what I wanted and did my best to describe it, and her drawing was...\n",
       "Name: Review, dtype: object"
      ]
     },
     "execution_count": 365,
     "metadata": {},
     "output_type": "execute_result"
    }
   ],
   "source": [
    "#Find the highest rated business and return text of the most recent review. \n",
    "#If multiple business have the same rating, select the restaurant with the most reviews.\n",
    "\n",
    "df_ultra[conditions].sort_values(by='Time', ascending=False).head(1)['Review']"
   ]
  },
  {
   "cell_type": "code",
   "execution_count": 367,
   "metadata": {},
   "outputs": [],
   "source": [
    "#df_ultra['Overall_Rating'].unique()"
   ]
  },
  {
   "cell_type": "code",
   "execution_count": 368,
   "metadata": {
    "collapsed": true
   },
   "outputs": [],
   "source": [
    "second = df_ultra['Overall_Rating'] == 1 "
   ]
  },
  {
   "cell_type": "code",
   "execution_count": 369,
   "metadata": {},
   "outputs": [
    {
     "data": {
      "text/plain": [
       "1084    Artwork is dope ... can't say the same for his personality . Thinks he's a \"funny guy\". Doesn't work with his customers on their preference. Wouldn't recommend.\n",
       "Name: Review, dtype: object"
      ]
     },
     "execution_count": 369,
     "metadata": {},
     "output_type": "execute_result"
    }
   ],
   "source": [
    "#Find the lowest rated business and return text of the most recent review. \n",
    "#If multiple business have the same rating, select the restaurant with the least reviews. \n",
    "df_ultra[second].sort_values(by='Time', ascending=False).head(1)['Review']"
   ]
  },
  {
   "cell_type": "markdown",
   "metadata": {},
   "source": [
    "# Extra Reference help"
   ]
  },
  {
   "cell_type": "markdown",
   "metadata": {},
   "source": [
    "###  Pagination\n",
    "\n",
    "Returning to the Yelp API, the [documentation](https://www.yelp.com/developers/documentation/v3/business_search) also provides us details regarding the API limits. These often include details about the number of requests a user is allowed to make within a specified time limit and the maximum number of results to be returned. In this case, we are told that any request has a maximum of 50 results per request and defaults to 20. Furthermore, any search will be limited to a total of 1000 results. To retrieve all 1000 of these results, we would have to page through the results piece by piece, retriving 50 at a time. Processes such as these are often refered to as pagination.\n",
    "\n",
    "Now that you have an initial response, you can examine the contents of the json container. For example, you might start with ```response.json().keys()```. Here, you'll see a key for `'total'`, which tells you the full number of matching results given your query parameters. Write a loop (or ideally a function) which then makes successive API calls using the offset parameter to retrieve all of the results (or 5000 for a particularly large result set) for the original query. As you do this, be mindful of how you store the data. \n",
    "\n",
    "**Note: be mindful of the API rate limits. You can only make 5000 requests per day, and APIs can make requests too fast. Start prototyping small before running a loop that could be faulty. You can also use time.sleep(n) to add delays. For more details see https://www.yelp.com/developers/documentation/v3/rate_limiting.**"
   ]
  },
  {
   "cell_type": "markdown",
   "metadata": {},
   "source": [
    "***Below is sample code that you can use to help you deal with the pagination parameter and bring all of the functions together.***\n",
    "\n",
    "\n",
    "***Also, something might cause your code to break while it is running. You don't want to constantly repull the same data when this happens, so you should insert the data into the database as you call and parse it, not after you have all of the data***\n"
   ]
  },
  {
   "cell_type": "code",
   "execution_count": null,
   "metadata": {
    "collapsed": true
   },
   "outputs": [],
   "source": [
    "# create a variable  to keep track of which result you are in. \n",
    "cur = 0\n",
    "\n",
    "#set up a while loop to go through and grab the result \n",
    "while cur < num and cur < 1000:\n",
    "    #set the offset parameter to be where you currently are in the results \n",
    "    url_params['offset'] = cur\n",
    "    #make your API call with the new offset number\n",
    "    results = yelp_call(url_params, api_key)\n",
    "    \n",
    "    #after you get your results you can now use your function to parse those results\n",
    "    parsed_results = parse_results(results)\n",
    "    \n",
    "    # use your function to insert your parsed results into the db\n",
    "    data_save(parsed_results)\n",
    "    #increment the counter by 50 to move on to the next results\n",
    "    cur += 50"
   ]
  },
  {
   "cell_type": "code",
   "execution_count": null,
   "metadata": {
    "collapsed": true
   },
   "outputs": [],
   "source": []
  }
 ],
 "metadata": {
  "kernelspec": {
   "display_name": "Python 3",
   "language": "python",
   "name": "python3"
  },
  "language_info": {
   "codemirror_mode": {
    "name": "ipython",
    "version": 3
   },
   "file_extension": ".py",
   "mimetype": "text/x-python",
   "name": "python",
   "nbconvert_exporter": "python",
   "pygments_lexer": "ipython3",
   "version": "3.7.4"
  },
  "toc": {
   "base_numbering": 1,
   "nav_menu": {},
   "number_sections": false,
   "sideBar": true,
   "skip_h1_title": false,
   "title_cell": "Table of Contents",
   "title_sidebar": "Contents",
   "toc_cell": false,
   "toc_position": {},
   "toc_section_display": true,
   "toc_window_display": false
  }
 },
 "nbformat": 4,
 "nbformat_minor": 2
}
