{
 "cells": [
  {
   "cell_type": "markdown",
   "metadata": {},
   "source": [
    "# Starting Off:\n",
    "\n",
    "Imagine we have conducted a survey of all students and we asked them the following 4 questions:\n",
    "\n",
    "- What is your name?\n",
    "- What is your DOB?\n",
    "- What are some of the nicknames you've had in the past?\n",
    "- What are some of your interest?\n",
    "\n",
    "Which data collection would be best to use to save these responses?\n",
    "\n",
    "Below create an instance of this data structure with your personal responses to the question."
   ]
  },
  {
   "cell_type": "code",
   "execution_count": 1,
   "metadata": {},
   "outputs": [
    {
     "data": {
      "text/plain": [
       "{'name': 'Raphael',\n",
       " 'dob': '03-21',\n",
       " 'nicknames': ['Rafa'],\n",
       " 'interests': ['philosophy', 'music', 'things that start with the letter A']}"
      ]
     },
     "execution_count": 1,
     "metadata": {},
     "output_type": "execute_result"
    }
   ],
   "source": [
    "{'name': 'Raphael',\n",
    " 'dob': '03-21',\n",
    " 'nicknames': ['Rafa'],\n",
    " 'interests': ['philosophy', 'music', 'things that start with the letter A']\n",
    "}"
   ]
  },
  {
   "cell_type": "markdown",
   "metadata": {},
   "source": [
    "# Loops, Conditionals, and Functions"
   ]
  },
  {
   "cell_type": "markdown",
   "metadata": {},
   "source": [
    "**Goals**: SWBAT write a function that parses a list of lists into a dictionary, utilizing loops and conditionals\n",
    "    "
   ]
  },
  {
   "cell_type": "markdown",
   "metadata": {},
   "source": [
    "Imagine there is a jar of M&M's and you are given the mundane task of separating them into two piles, ones for primary colors and one for secondary colors.\n",
    "\n",
    "Write down the process you would go through to complete this task. \n",
    "\n",
    "Write pseudo-code below:"
   ]
  },
  {
   "cell_type": "markdown",
   "metadata": {},
   "source": [
    "create lists of primary and secondary colors\n",
    "create two empty containers\n",
    "pick one M&M \n",
    "evaluate against colors list\n",
    "put into appropriate pile\n",
    "repeat process until classified all  M&Ms"
   ]
  },
  {
   "cell_type": "markdown",
   "metadata": {},
   "source": [
    "create two groups, primary and secondary\n",
    "\n",
    "take m&m and jar\n",
    "\n",
    "determine color and if primary\n",
    "\n",
    "place in correct group\n"
   ]
  },
  {
   "cell_type": "code",
   "execution_count": null,
   "metadata": {},
   "outputs": [],
   "source": [
    "primary = []\n",
    "secondary = []"
   ]
  },
  {
   "cell_type": "markdown",
   "metadata": {},
   "source": [
    "## Conditionals\n",
    "\n",
    "In programming, conditionals give us the ability to check conditions of a variable and then change the behavior of the program accordingly. \n",
    "\n"
   ]
  },
  {
   "cell_type": "markdown",
   "metadata": {},
   "source": [
    "<img src='http://www.openbookproject.net/books/bpp4awd/_images/flowchart_if_only.png'/>"
   ]
  },
  {
   "cell_type": "markdown",
   "metadata": {},
   "source": [
    "We are able to do this by combining 'if' statements and comparison operators."
   ]
  },
  {
   "cell_type": "markdown",
   "metadata": {},
   "source": [
    "### Comparison operators\n",
    "```\n",
    "==\n",
    "!=\n",
    ">\n",
    "<\n",
    "<=\n",
    ">=\n",
    "```"
   ]
  },
  {
   "cell_type": "markdown",
   "metadata": {},
   "source": [
    "### If Statements\n",
    "The general form of an 'if' statement is :\n",
    "    \n",
    "```if Boolean Expression:\n",
    "        Statments\n",
    "        ```"
   ]
  },
  {
   "cell_type": "markdown",
   "metadata": {},
   "source": [
    "A few important things to note about if statements:\n",
    "\n",
    "1. The colon (:) is significant and required. It separates the header of the compound statement from the body.\n",
    "2. The line after the colon must be indented. It is standard in Python to use four spaces for indenting.\n",
    "3. All lines indented the same amount after the colon will be executed whenever the BOOLEAN_EXPRESSION is true.\n",
    "\n",
    "Here is an example:\n"
   ]
  },
  {
   "cell_type": "code",
   "execution_count": 8,
   "metadata": {},
   "outputs": [],
   "source": [
    "food = 'ham'"
   ]
  },
  {
   "cell_type": "code",
   "execution_count": 9,
   "metadata": {},
   "outputs": [
    {
     "name": "stdout",
     "output_type": "stream",
     "text": [
      "Ummmm, my favorite!\n",
      "I feel like saying it 100 times...\n",
      "ham! ham! ham! ham! ham! ham! ham! ham! ham! ham! ham! ham! ham! ham! ham! ham! ham! ham! ham! ham! ham! ham! ham! ham! ham! ham! ham! ham! ham! ham! ham! ham! ham! ham! ham! ham! ham! ham! ham! ham! ham! ham! ham! ham! ham! ham! ham! ham! ham! ham! ham! ham! ham! ham! ham! ham! ham! ham! ham! ham! ham! ham! ham! ham! ham! ham! ham! ham! ham! ham! ham! ham! ham! ham! ham! ham! ham! ham! ham! ham! ham! ham! ham! ham! ham! ham! ham! ham! ham! ham! ham! ham! ham! ham! ham! ham! ham! ham! ham! ham! \n"
     ]
    }
   ],
   "source": [
    "\n",
    "\n",
    "if food == 'ham':\n",
    "    print('Ummmm, my favorite!')\n",
    "    print('I feel like saying it 100 times...')\n",
    "    print(100 * (food + '! '))"
   ]
  },
  {
   "cell_type": "markdown",
   "metadata": {},
   "source": [
    "### if else Statement\n",
    "\n",
    "It is frequently the case that you want one thing to happen when a condition it true, and something else to happen when it is false. For that we have the `if else` statement.\n",
    "\n"
   ]
  },
  {
   "cell_type": "markdown",
   "metadata": {},
   "source": [
    "<img src='http://www.openbookproject.net/books/bpp4awd/_images/flowchart_if_else.png'/>"
   ]
  },
  {
   "cell_type": "code",
   "execution_count": 10,
   "metadata": {},
   "outputs": [],
   "source": [
    "food = 'asldkfjjasld'"
   ]
  },
  {
   "cell_type": "code",
   "execution_count": 11,
   "metadata": {},
   "outputs": [
    {
     "name": "stdout",
     "output_type": "stream",
     "text": [
      "No, I won't have it. I want spam!\n"
     ]
    }
   ],
   "source": [
    "if food == 'ham':\n",
    "    print('Ummmm, my favorite!')\n",
    "else:\n",
    "    print(\"No, I won't have it. I want spam!\")"
   ]
  },
  {
   "cell_type": "markdown",
   "metadata": {},
   "source": [
    "### Chained Conditionals\n",
    "\n",
    "Sometimes there are more than two possibilities and we need more than two branches. One way to express a computation like that is a chained conditional:\n"
   ]
  },
  {
   "cell_type": "markdown",
   "metadata": {},
   "source": [
    "<img src='http://www.openbookproject.net/books/bpp4awd/_images/flowchart_chained_conditional.png' />"
   ]
  },
  {
   "cell_type": "code",
   "execution_count": 6,
   "metadata": {},
   "outputs": [
    {
     "name": "stdout",
     "output_type": "stream",
     "text": [
      "Invalid choice.\n"
     ]
    }
   ],
   "source": [
    "choice= 'kdlfjalsk'\n",
    "\n",
    "if choice == 'a':\n",
    "    print(\"You chose 'a'.\")\n",
    "elif choice == 'b':\n",
    "    print(\"You chose 'b'.\")\n",
    "elif choice == 'c':\n",
    "    print(\"You chose 'c'.\")\n",
    "else:\n",
    "    print(\"Invalid choice.\")"
   ]
  },
  {
   "cell_type": "code",
   "execution_count": null,
   "metadata": {},
   "outputs": [],
   "source": []
  },
  {
   "cell_type": "markdown",
   "metadata": {},
   "source": [
    "### Nested conditionals\n",
    "One conditional can also be nested within another.\n",
    "\n",
    "<img src='http://www.openbookproject.net/books/bpp4awd/_images/flowchart_nested_conditional.png'/>\n",
    "\n",
    "\n",
    "We could have written the previous example as follows:"
   ]
  },
  {
   "cell_type": "code",
   "execution_count": 7,
   "metadata": {},
   "outputs": [
    {
     "name": "stdout",
     "output_type": "stream",
     "text": [
      "Invalid choice.\n"
     ]
    }
   ],
   "source": [
    "if choice == 'a':\n",
    "    print(\"You chose 'a'.\")\n",
    "else:\n",
    "    if choice == 'b':\n",
    "        print(\"You chose 'b'.\")\n",
    "    elif choice == 'c':\n",
    "        print(\"You chose 'c'.\")\n",
    "    else:\n",
    "        print(\"Invalid choice.\")"
   ]
  },
  {
   "cell_type": "markdown",
   "metadata": {},
   "source": [
    "## ***Practice: Write a conditional statement to help us to deermine how to sort the M&M's***\n",
    "\n",
    "We want to check the if the color of an M&M is a primary color. If so, place it in basket one, else place it in basket 2. \n"
   ]
  },
  {
   "cell_type": "code",
   "execution_count": 19,
   "metadata": {},
   "outputs": [],
   "source": [
    "primary_colors = ['red', 'yellow', 'blue']\n",
    "m_m = ['blue']"
   ]
  },
  {
   "cell_type": "code",
   "execution_count": 20,
   "metadata": {},
   "outputs": [
    {
     "name": "stdout",
     "output_type": "stream",
     "text": [
      "[] [['blue']]\n"
     ]
    }
   ],
   "source": [
    "basket_1 =[]\n",
    "basket_2 = []\n",
    "\n",
    "#your code here:\n",
    "if m_m in primary_colors:\n",
    "    basket_1.append(m_m)\n",
    "else:\n",
    "    basket_2.append(m_m)\n",
    "\n",
    "\n",
    "    \n",
    "print(basket_1, basket_2)\n"
   ]
  },
  {
   "cell_type": "markdown",
   "metadata": {},
   "source": [
    "## Iterations\n",
    "\n",
    "Computers are often used to automate repetitive tasks. Repeating identical or similar tasks without making errors is something that computers do well and people do poorly.\n",
    "\n",
    "Repeated execution of a set of statements is called iteration. Python has two statements for iteration – the **for** statement and the **while** statement."
   ]
  },
  {
   "cell_type": "markdown",
   "metadata": {},
   "source": [
    "### For loop\n",
    "\n",
    "The for loop processes each item in a sequence, so it is used with Python’s sequence data types - strings, lists, and tuples.\n",
    "\n",
    "Each item in turn is (re-)assigned to the loop variable, and the body of the loop is executed.\n",
    "\n",
    "The general form of a for loop is:\n",
    "```\n",
    "for LOOP_VARIABLE in SEQUENCE:\n",
    "    STATEMENTS\n",
    "```\n",
    "    \n",
    "This is another example of a compound statement in Python, and like the branching statements, it has a header terminated by a colon (:) and a body consisting of a sequence of one or more statements indented the same amount from the header."
   ]
  },
  {
   "cell_type": "code",
   "execution_count": 9,
   "metadata": {},
   "outputs": [
    {
     "name": "stdout",
     "output_type": "stream",
     "text": [
      "e\n",
      "x\n",
      "a\n",
      "m\n",
      " \n",
      " \n",
      " \n",
      " \n",
      " \n",
      " \n",
      "p\n",
      "l\n",
      "e\n"
     ]
    }
   ],
   "source": [
    "example = 'exam      ple'\n",
    "\n",
    "for x in example:\n",
    "    print(x)"
   ]
  },
  {
   "cell_type": "code",
   "execution_count": 10,
   "metadata": {},
   "outputs": [
    {
     "name": "stdout",
     "output_type": "stream",
     "text": [
      "Hi Margot.  Please come to my party on Saturday!\n",
      "Hi Kathryn.  Please come to my party on Saturday!\n",
      "Hi Prisila.  Please come to my party on Saturday!\n"
     ]
    }
   ],
   "source": [
    "friends = ['Margot', 'Kathryn', 'Prisila']\n",
    "for friend in friends:\n",
    "    invitation = \"Hi \" + friend + \".  Please come to my party on Saturday!\"\n",
    "    print(invitation)"
   ]
  },
  {
   "cell_type": "code",
   "execution_count": 11,
   "metadata": {},
   "outputs": [
    {
     "data": {
      "text/plain": [
       "[0, 1, 2]"
      ]
     },
     "execution_count": 11,
     "metadata": {},
     "output_type": "execute_result"
    }
   ],
   "source": [
    "list(range(len(friends)))"
   ]
  },
  {
   "cell_type": "code",
   "execution_count": 12,
   "metadata": {},
   "outputs": [
    {
     "data": {
      "text/plain": [
       "1"
      ]
     },
     "execution_count": 12,
     "metadata": {},
     "output_type": "execute_result"
    }
   ],
   "source": [
    "3%2"
   ]
  },
  {
   "cell_type": "code",
   "execution_count": 13,
   "metadata": {},
   "outputs": [
    {
     "name": "stdout",
     "output_type": "stream",
     "text": [
      "i is now: 0\n",
      "i is now: 1\n",
      "Kathryn\n",
      "i is now: 2\n"
     ]
    }
   ],
   "source": [
    "for i in range(len(friends)):\n",
    "    print('i is now:', i)\n",
    "    if i%2: \n",
    "        print(friends[i])"
   ]
  },
  {
   "cell_type": "markdown",
   "metadata": {},
   "source": [
    "### While Loop\n",
    "\n",
    "A while loop executes an unknown number of times, as long at the BOOLEAN EXPRESSION is true.\n",
    "\n",
    "\n"
   ]
  },
  {
   "cell_type": "code",
   "execution_count": null,
   "metadata": {},
   "outputs": [],
   "source": [
    "number = 0\n",
    "prompt = \"What is the meaning of life, the universe, and everything? \"\n",
    "\n",
    "while number != \"42\":\n",
    "    number =  input(prompt)"
   ]
  },
  {
   "cell_type": "markdown",
   "metadata": {},
   "source": [
    "The flow of execution for a while statement works like this:\n",
    "\n",
    "1. Evaluate the condition (BOOLEAN EXPRESSION), yielding False or True.\n",
    "2. If the condition is false, exit the while statement and continue execution at the next statement.\n",
    "3. If the condition is true, execute each of the STATEMENTS in the body and then go back to step 1."
   ]
  },
  {
   "cell_type": "code",
   "execution_count": null,
   "metadata": {},
   "outputs": [],
   "source": [
    "import numpy as np"
   ]
  },
  {
   "cell_type": "code",
   "execution_count": null,
   "metadata": {},
   "outputs": [],
   "source": [
    "x = np.random.randint(0,11,1)[0]"
   ]
  },
  {
   "cell_type": "code",
   "execution_count": null,
   "metadata": {},
   "outputs": [],
   "source": [
    "x"
   ]
  },
  {
   "cell_type": "code",
   "execution_count": null,
   "metadata": {},
   "outputs": [],
   "source": [
    "\n",
    "guess = input(\"Guess a number 0 throught 10 \")\n",
    "tot_guesses = 0\n",
    "\n",
    "while int(guess) != x and tot_guesses <= 5:\n",
    "    print(\"Nope, that's not it!\" )\n",
    "#     print('Guess Count:',tot_guesses + 1)\n",
    "    guess = input(\"Guess again: \")\n",
    "    tot_guesses +=  1\n",
    "if int(guess) == x:\n",
    "    print('you got it right')"
   ]
  },
  {
   "cell_type": "markdown",
   "metadata": {},
   "source": [
    "### Choosing between for and while\n",
    "\n",
    "Use a for loop if you know, before you start looping, the maximum number of times that you’ll need to execute the body. For example, if you’re traversing a list of elements, you know that the maximum number of loop iterations you can possibly need is “all the elements in the list”. Or if you need to print the 12 times table, we know right away how many times the loop will need to run.\n",
    "\n",
    "\n",
    "By contrast, if you are required to repeat some computation until some condition is met, and you cannot calculate in advance when this will happen, you’ll need a while loop.\n",
    "\n",
    "We call the first case definite iteration — we have some definite bounds for what is needed. The latter case is called indefinite iteration — we’re not sure how many iterations we’ll need — we cannot even establish an upper bound!"
   ]
  },
  {
   "cell_type": "markdown",
   "metadata": {},
   "source": [
    "### Practice:  Take your conditional statement about M&Ms above and put it within a loop so that you can evaluate a list of M&Ms"
   ]
  },
  {
   "cell_type": "code",
   "execution_count": 22,
   "metadata": {},
   "outputs": [],
   "source": [
    "basket_of_mms = ['brown', 'yellow', 'green', 'red', 'orange', 'blue']\n",
    "primary_colors = ['red', 'yellow', 'blue']"
   ]
  },
  {
   "cell_type": "code",
   "execution_count": 23,
   "metadata": {},
   "outputs": [
    {
     "name": "stdout",
     "output_type": "stream",
     "text": [
      "['yellow', 'red', 'blue']\n",
      "['brown', 'green', 'orange']\n"
     ]
    }
   ],
   "source": [
    "\n",
    "basket_1 =[]\n",
    "basket_2 = []\n",
    "\n",
    "#your code here:\n",
    "\n",
    "for m_m in basket_of_mms:\n",
    "    \n",
    "    if m_m in primary_colors:\n",
    "        basket_1.append(m_m)\n",
    "    else:\n",
    "        basket_2.append(m_m)\n",
    "    \n",
    "print(basket_1)\n",
    "print(basket_2)"
   ]
  },
  {
   "cell_type": "markdown",
   "metadata": {},
   "source": [
    "## Looping through Dictionaries\n",
    "\n"
   ]
  },
  {
   "cell_type": "code",
   "execution_count": 2,
   "metadata": {},
   "outputs": [],
   "source": [
    "questions =  {'A': {'question': 'How many people can fit in a Corvette?',\n",
    "                          'response_choices': [1,2,3,4],\n",
    "                            'answer': 2},\n",
    "             'B': {'question': 'What is the MPG of a Corvette?',\n",
    "                  'response_choices': [15,20, 25, 30],\n",
    "                    'answer': 15},\n",
    "             'C': {'question': 'How much horsepower does a Corvette have?',\n",
    "                  'response_choices': [200,300, 400, 500],\n",
    "                    'answer': 400}}"
   ]
  },
  {
   "cell_type": "code",
   "execution_count": 8,
   "metadata": {},
   "outputs": [
    {
     "name": "stdout",
     "output_type": "stream",
     "text": [
      "2\n",
      "15\n",
      "400\n"
     ]
    }
   ],
   "source": [
    "for k in questions.keys():\n",
    "    print(questions[k]['answer'])"
   ]
  },
  {
   "cell_type": "code",
   "execution_count": 9,
   "metadata": {},
   "outputs": [
    {
     "name": "stdout",
     "output_type": "stream",
     "text": [
      "dict_values([{'question': 'How many people can fit in a Corvette?', 'response_choices': [1, 2, 3, 4], 'answer': 2}, {'question': 'What is the MPG of a Corvette?', 'response_choices': [15, 20, 25, 30], 'answer': 15}, {'question': 'How much horsepower does a Corvette have?', 'response_choices': [200, 300, 400, 500], 'answer': 400}])\n"
     ]
    }
   ],
   "source": [
    "print(questions.values())"
   ]
  },
  {
   "cell_type": "code",
   "execution_count": 12,
   "metadata": {},
   "outputs": [],
   "source": [
    "# for i in my_list[:10]:"
   ]
  },
  {
   "cell_type": "code",
   "execution_count": 13,
   "metadata": {},
   "outputs": [
    {
     "name": "stdout",
     "output_type": "stream",
     "text": [
      "{'question': 'How many people can fit in a Corvette?', 'response_choices': [1, 2, 3, 4], 'answer': 2} \n",
      "\n",
      "{'question': 'What is the MPG of a Corvette?', 'response_choices': [15, 20, 25, 30], 'answer': 15} \n",
      "\n",
      "{'question': 'How much horsepower does a Corvette have?', 'response_choices': [200, 300, 400, 500], 'answer': 400} \n",
      "\n",
      "['How many people can fit in a Corvette?', 'What is the MPG of a Corvette?', 'How much horsepower does a Corvette have?']\n"
     ]
    }
   ],
   "source": [
    "#create a container to hold my list of questions\n",
    "list_of_questions = []\n",
    "#create a loop that goes through the dictionary\n",
    "for v in questions.values():\n",
    "    print(v, '\\n')\n",
    "    question = v['question']\n",
    "    list_of_questions.append(question)\n",
    "\n",
    "\n",
    "print(list_of_questions)"
   ]
  },
  {
   "cell_type": "code",
   "execution_count": 14,
   "metadata": {},
   "outputs": [
    {
     "name": "stdout",
     "output_type": "stream",
     "text": [
      "[2, 15, 400]\n"
     ]
    }
   ],
   "source": [
    "#create a container to hold my list of questions\n",
    "list_of_answers = []\n",
    "\n",
    "#create a loop that goes through the dictionary\n",
    "for v in questions.values():\n",
    "    list_of_answers.append(v['answer'])\n",
    "\n",
    "print(list_of_answers)"
   ]
  },
  {
   "cell_type": "code",
   "execution_count": 15,
   "metadata": {},
   "outputs": [
    {
     "name": "stdout",
     "output_type": "stream",
     "text": [
      "key =  A\n",
      "value= {'question': 'How many people can fit in a Corvette?', 'response_choices': [1, 2, 3, 4], 'answer': 2}\n",
      "key =  B\n",
      "value= {'question': 'What is the MPG of a Corvette?', 'response_choices': [15, 20, 25, 30], 'answer': 15}\n",
      "key =  C\n",
      "value= {'question': 'How much horsepower does a Corvette have?', 'response_choices': [200, 300, 400, 500], 'answer': 400}\n"
     ]
    }
   ],
   "source": [
    "for k,v in questions.items():\n",
    "    print('key = ',k)\n",
    "    print(\"value=\",v)\n"
   ]
  },
  {
   "cell_type": "markdown",
   "metadata": {},
   "source": [
    "### The break statement\n",
    "The break statement is used to immediately leave the body of its loop. The next statement to be executed is the first one after the body:\n",
    "\n"
   ]
  },
  {
   "cell_type": "code",
   "execution_count": 28,
   "metadata": {},
   "outputs": [
    {
     "name": "stdout",
     "output_type": "stream",
     "text": [
      "12\n",
      "16\n",
      "done\n"
     ]
    }
   ],
   "source": [
    "for i in [12, 16, 17, 24, 29]:\n",
    "    if i % 2 == 1:  # if the number is odd\n",
    "        break        # immediately exit the loop\n",
    "    print(i)\n",
    "print(\"done\")"
   ]
  },
  {
   "cell_type": "markdown",
   "metadata": {},
   "source": [
    "### The continue statement\n",
    "\n",
    "This is a control flow statement that causes the program to immediately skip the processing of the rest of the body of the loop, for the current iteration. But the loop still carries on running for its remaining iterations:"
   ]
  },
  {
   "cell_type": "code",
   "execution_count": 29,
   "metadata": {},
   "outputs": [
    {
     "name": "stdout",
     "output_type": "stream",
     "text": [
      "12\n",
      "16\n",
      "24\n",
      "30\n",
      "done\n"
     ]
    }
   ],
   "source": [
    "for i in [12, 16, 17, 24, 29, 30]:\n",
    "    if i % 2 == 1:      # if the number is odd\n",
    "        continue        # don't process it\n",
    "    print(i)\n",
    "print(\"done\")"
   ]
  },
  {
   "cell_type": "markdown",
   "metadata": {},
   "source": [
    "## Functions"
   ]
  },
  {
   "cell_type": "markdown",
   "metadata": {},
   "source": [
    "A function is a block of organized, reusable code that is used to perform a single, related action. Functions provide better modularity for your application and a high degree of code reusing."
   ]
  },
  {
   "cell_type": "markdown",
   "metadata": {},
   "source": [
    "#### Defining a Function\n",
    "You can define functions to provide the required functionality. Here are simple rules to define a function in Python.\n",
    "\n",
    "- Function blocks begin with the keyword def followed by the function name and parentheses ( ( ) ).\n",
    "\n",
    "- Any input parameters or arguments should be placed within these parentheses. You can also define parameters inside these parentheses.\n",
    "\n",
    "- The first statement of a function can be an optional statement - the documentation string of the function or docstring.\n",
    "\n",
    "- The code block within every function starts with a colon (:) and is indented.\n",
    "\n",
    "- The statement return [expression] exits a function, optionally passing back an expression to the caller. A return statement with no arguments is the same as return None."
   ]
  },
  {
   "cell_type": "markdown",
   "metadata": {},
   "source": [
    "```\n",
    "def printme(str):\n",
    "   \"This prints a passed string into this function\"\n",
    "   print str\n",
    "   return\n",
    "```"
   ]
  },
  {
   "cell_type": "markdown",
   "metadata": {},
   "source": [
    "#### Calling a Function\n",
    "Defining a function only gives it a name, specifies the parameters that are to be included in the function and structures the blocks of code.\n",
    "\n",
    "Once the basic structure of a function is finalized, you can execute it by calling it from another function or directly from the Python prompt. Following is the example to call printme() function −"
   ]
  },
  {
   "cell_type": "code",
   "execution_count": 30,
   "metadata": {},
   "outputs": [],
   "source": [
    "# Function definition is here\n",
    "def printme( string ):\n",
    "   \"This prints a passed string into this function\"\n",
    "   print(string)\n",
    "   return string+'sijdflk';"
   ]
  },
  {
   "cell_type": "code",
   "execution_count": 31,
   "metadata": {},
   "outputs": [
    {
     "name": "stdout",
     "output_type": "stream",
     "text": [
      "I'm first call to user defined function!\n"
     ]
    },
    {
     "data": {
      "text/plain": [
       "\"I'm first call to user defined function!sijdflk\""
      ]
     },
     "execution_count": 31,
     "metadata": {},
     "output_type": "execute_result"
    }
   ],
   "source": [
    "\n",
    "\n",
    "# Now you can call printme function\n",
    "printme(\"I'm first call to user defined function!\")\n"
   ]
  },
  {
   "cell_type": "code",
   "execution_count": 32,
   "metadata": {},
   "outputs": [
    {
     "name": "stdout",
     "output_type": "stream",
     "text": [
      "Again second call to the same function\n"
     ]
    }
   ],
   "source": [
    "new_string = printme(\"Again second call to the same function\")"
   ]
  },
  {
   "cell_type": "code",
   "execution_count": 33,
   "metadata": {},
   "outputs": [
    {
     "name": "stdout",
     "output_type": "stream",
     "text": [
      "Again second call to the same functionsijdflk\n"
     ]
    }
   ],
   "source": [
    "print(new_string)"
   ]
  },
  {
   "cell_type": "markdown",
   "metadata": {},
   "source": [
    "#### Function Arguments\n",
    "You can call a function by using the following types of formal arguments −\n",
    "\n",
    "- Required arguments\n",
    "- Keyword arguments\n",
    "- Default arguments\n",
    "- Variable-length arguments\n"
   ]
  },
  {
   "cell_type": "markdown",
   "metadata": {},
   "source": [
    "\n",
    "**Required arguments** are the arguments passed to a function in correct positional order. Here, the number of arguments in the function call should match exactly with the function definition.\n",
    "\n",
    "To call the function printme(), you definitely need to pass one argument, otherwise it gives a syntax error as follows −"
   ]
  },
  {
   "cell_type": "code",
   "execution_count": 34,
   "metadata": {},
   "outputs": [
    {
     "ename": "TypeError",
     "evalue": "printme() missing 1 required positional argument: 'string'",
     "output_type": "error",
     "traceback": [
      "\u001b[0;31m---------------------------------------------------------------------------\u001b[0m",
      "\u001b[0;31mTypeError\u001b[0m                                 Traceback (most recent call last)",
      "\u001b[0;32m<ipython-input-34-19c689ae8a3e>\u001b[0m in \u001b[0;36m<module>\u001b[0;34m\u001b[0m\n\u001b[0;32m----> 1\u001b[0;31m \u001b[0mprintme\u001b[0m\u001b[0;34m(\u001b[0m\u001b[0;34m)\u001b[0m\u001b[0;34m\u001b[0m\u001b[0;34m\u001b[0m\u001b[0m\n\u001b[0m",
      "\u001b[0;31mTypeError\u001b[0m: printme() missing 1 required positional argument: 'string'"
     ]
    }
   ],
   "source": [
    "printme()"
   ]
  },
  {
   "cell_type": "markdown",
   "metadata": {},
   "source": [
    "A **default argument** is an argument that assumes a default value if a value is not provided in the function call for that argument. The following example gives an idea on default arguments, it prints default age if it is not passed −\n",
    "\n"
   ]
  },
  {
   "cell_type": "code",
   "execution_count": 35,
   "metadata": {},
   "outputs": [
    {
     "name": "stdout",
     "output_type": "stream",
     "text": [
      "Name: miki\n",
      "Age 35\n",
      "gender M\n"
     ]
    }
   ],
   "source": [
    "# Function definition is here\n",
    "def printinfo( name, age = 35, gender = 'F' ):\n",
    "   \"This prints a passed info into this function\"\n",
    "   print(\"Name:\", name)\n",
    "   print(\"Age\", age)\n",
    "   print('gender', gender)\n",
    "   return;\n",
    "\n",
    "# Now you can call printinfo function\n",
    "# printinfo( age=50, name=\"miki\" )\n",
    "printinfo( \"miki\", gender='M' )"
   ]
  },
  {
   "cell_type": "markdown",
   "metadata": {},
   "source": [
    "### Create a function called `pick` that takes a list and returns the last item of that list."
   ]
  },
  {
   "cell_type": "code",
   "execution_count": 41,
   "metadata": {},
   "outputs": [],
   "source": [
    "def pick(x):\n",
    "    return x[-1]"
   ]
  },
  {
   "cell_type": "code",
   "execution_count": 42,
   "metadata": {},
   "outputs": [
    {
     "data": {
      "text/plain": [
       "4"
      ]
     },
     "execution_count": 42,
     "metadata": {},
     "output_type": "execute_result"
    }
   ],
   "source": [
    "pick([1,2,3,4])"
   ]
  },
  {
   "cell_type": "markdown",
   "metadata": {},
   "source": [
    "### Update `pick` to take 2 arguments a list and an integer. Then return the element of the list at the index of the integer"
   ]
  },
  {
   "cell_type": "code",
   "execution_count": 43,
   "metadata": {},
   "outputs": [],
   "source": [
    "def pick(x, y):\n",
    "    return x[y]"
   ]
  },
  {
   "cell_type": "code",
   "execution_count": 44,
   "metadata": {},
   "outputs": [
    {
     "data": {
      "text/plain": [
       "2"
      ]
     },
     "execution_count": 44,
     "metadata": {},
     "output_type": "execute_result"
    }
   ],
   "source": [
    "pick([1,2,3,4,1,6,8,2,3,5,9,1], 7)"
   ]
  },
  {
   "cell_type": "markdown",
   "metadata": {},
   "source": [
    "### Update the `pick` function so that the integer is optional and if it is not passed through, it defaults to `-1`"
   ]
  },
  {
   "cell_type": "code",
   "execution_count": null,
   "metadata": {},
   "outputs": [],
   "source": [
    "def pick(____):\n",
    "    return____"
   ]
  },
  {
   "cell_type": "markdown",
   "metadata": {},
   "source": [
    "### Call pick and pass `[1,3,5,7,9]` for the list and the `2` for the index."
   ]
  },
  {
   "cell_type": "code",
   "execution_count": null,
   "metadata": {},
   "outputs": [],
   "source": []
  },
  {
   "cell_type": "markdown",
   "metadata": {},
   "source": [
    "### Optional way of creating a function\n",
    "\n",
    "When creating a function, you want to have a clear idea of what types of parameters your function will take, and what you are expecting it to output. \n",
    "\n",
    "You can code this into your creation of the function. "
   ]
  },
  {
   "cell_type": "code",
   "execution_count": null,
   "metadata": {},
   "outputs": [],
   "source": [
    "def pick(l: list, index: int = 0) -> int:\n",
    "    return l[index]"
   ]
  },
  {
   "cell_type": "code",
   "execution_count": null,
   "metadata": {},
   "outputs": [],
   "source": [
    "pick"
   ]
  },
  {
   "cell_type": "markdown",
   "metadata": {},
   "source": [
    "This is just informative and does not actually test the data. "
   ]
  },
  {
   "cell_type": "code",
   "execution_count": null,
   "metadata": {},
   "outputs": [],
   "source": [
    "pick(10, 1)"
   ]
  },
  {
   "cell_type": "code",
   "execution_count": null,
   "metadata": {},
   "outputs": [],
   "source": [
    "pick([])"
   ]
  },
  {
   "cell_type": "code",
   "execution_count": null,
   "metadata": {},
   "outputs": [],
   "source": [
    "def pick(l: list, index: int = 0) -> int:\n",
    "    if not isinstance(l, list):\n",
    "        raise TypeError\n",
    "    return l[index]"
   ]
  },
  {
   "cell_type": "markdown",
   "metadata": {},
   "source": [
    "More information about this: https://stackoverflow.com/questions/2489669/function-parameter-types-in-python"
   ]
  },
  {
   "cell_type": "markdown",
   "metadata": {},
   "source": [
    "***Practice: Move the code you wrote for separating M&M's into a function***"
   ]
  },
  {
   "cell_type": "code",
   "execution_count": null,
   "metadata": {},
   "outputs": [],
   "source": [
    "# your code here\n",
    "\n",
    "def sort_mms(basket_of_mms):\n",
    "\n"
   ]
  },
  {
   "cell_type": "code",
   "execution_count": null,
   "metadata": {},
   "outputs": [],
   "source": [
    "basket_of_mms"
   ]
  },
  {
   "cell_type": "code",
   "execution_count": null,
   "metadata": {},
   "outputs": [],
   "source": [
    "l = ['brown', 'yellow', 'green', 'red', 'orange', 'blue']"
   ]
  },
  {
   "cell_type": "code",
   "execution_count": null,
   "metadata": {},
   "outputs": [],
   "source": [
    "sort_mms(l)"
   ]
  },
  {
   "cell_type": "markdown",
   "metadata": {},
   "source": [
    "### Practice:\n"
   ]
  },
  {
   "cell_type": "code",
   "execution_count": 46,
   "metadata": {},
   "outputs": [],
   "source": [
    "students = [\n",
    "['Abdul Tawab Safi', '08/04/1997', ['Tawaba', 'Kochi'],['BJJ', 'Cricket', 'Gaming', 'MMA']],\n",
    "['Bridget Boakye','07-13-1990',['Bre', 'B'],['Reading', 'Writing', 'Public Speaking', 'Exercise', 'Traveling']],\n",
    "[\"Cristina\", '09/09',[\" Ms.Donkey\" , \"Cristi\"],[' Python',' Animals']],\n",
    "['Danny(Haoyang)','1997-03-19',[],['soccer','basketball','music','philosophy']],\n",
    "['Dustin', '04/15/94', ['Dusty', 'D'], ['Tennis', 'Traveling', 'NY Knicks', 'Fitness']],\n",
    "['Gregory DeSantis','11/23/1987',['Blaze'], ['Running', 'Skateboarding', 'Reading', 'Coding']],\n",
    "[\"Harrison Miller\", \"10-2\",['harry'],[\"skiing\",\"hiking\",'gaming','eating']],\n",
    "['Jeremy Owens','03/30/1990',['Jerbea'],['Gaming', 'Weightlifting', 'Science', 'Cooking']],\n",
    "['Jeremy Reikes', '10-12-1995', ['Germ', 'Jer'], ['Baseball', 'Dogs', 'Coffee', 'pYtHoN', 'Hiking', 'TV', 'Cryptocurrencies']],\n",
    "['Jonathan', '02/19/1994', ['Jp', 'Peck'], ['sports', 'cooking', 'tech', 'philosophy']],\n",
    "['Matthew', '4.14.1989',['matty','wass'],['food', 'pythons, but actual snakes','sci-fi tv shows']],\n",
    "['Minna','11/19/1996',['Minna fish', 'Min'],['hiking','surfing', 'playing with my dog', 'going to museums', 'listening to music']],\n",
    "['Nabil Abbas,', '12/07/1994', ['Nibz', 'Nabeezy', 'Balle'],['NBA', 'Twitter', 'photography','humanitarian work']],\n",
    "['Natalie Del Rossi', '10-23-1994', 'Nat', ['hiking', 'reading', 'tv and movies', 'cooking']],\n",
    "['Remy Canario','10/11/1988',['Remstar', 'Rem', 'Remyx'],\n",
    "['octopuses','the letter y','nets','household objects shaped like things they are not']],\n",
    "['Xristos', 'March 24', 'Zris', ['Music', 'Video Games', 'Twitter', 'Philosophy']],\n",
    "['Taylor Hawks','11/09/1990', [None],['Electronic music', 'Documentaries', 'Skiing']],\n",
    "['Vishal Patel','02/08/1990', ['V', 'Visual', 'Vish'],['Rock climbing', 'Basketball', 'Food']]  \n",
    "]"
   ]
  },
  {
   "cell_type": "markdown",
   "metadata": {},
   "source": [
    "    \n",
    "Above is a lists of lists with information about each student. Earlier today we decided that it is probably best to store this data as a dictionary instead. So we want to write a function that takes this lists of lists and returns a dictionary. "
   ]
  },
  {
   "cell_type": "markdown",
   "metadata": {},
   "source": [
    "#### Step 0: Determine what you want the final data structure to look like\n",
    "\n"
   ]
  },
  {
   "cell_type": "code",
   "execution_count": null,
   "metadata": {},
   "outputs": [],
   "source": [
    "# write out a short example \n",
    "\n",
    "\n"
   ]
  },
  {
   "cell_type": "markdown",
   "metadata": {},
   "source": [
    "#### Step 1: Be able to parse one person into a dictionary\n",
    "    \n",
    "So we want to take one student and write a block of code that will turn it into a dictionary.   "
   ]
  },
  {
   "cell_type": "code",
   "execution_count": 47,
   "metadata": {},
   "outputs": [
    {
     "name": "stdout",
     "output_type": "stream",
     "text": [
      "['Abdul Tawab Safi', '08/04/1997', ['Tawaba', 'Kochi'], ['BJJ', 'Cricket', 'Gaming', 'MMA']]\n"
     ]
    }
   ],
   "source": [
    "student = students[0]\n",
    "print(student)\n"
   ]
  },
  {
   "cell_type": "code",
   "execution_count": 49,
   "metadata": {
    "scrolled": true
   },
   "outputs": [
    {
     "name": "stdout",
     "output_type": "stream",
     "text": [
      "{'name': 'Abdul Tawab Safi', 'dob': '08/04/1997', 'nicknames': ['Tawaba', 'Kochi'], 'hobbies': ['BJJ', 'Cricket', 'Gaming', 'MMA']}\n"
     ]
    }
   ],
   "source": [
    "#Create the example dictionary for using the 1 student example from above.\n",
    "\n",
    "student_dict = {'name' : student[0],\n",
    "                'dob' : student[1],\n",
    "                'nicknames' : student[2],\n",
    "                'hobbies' : student[3],\n",
    "               }\n",
    "\n",
    "\n",
    "print(student_dict)"
   ]
  },
  {
   "cell_type": "markdown",
   "metadata": {},
   "source": [
    "#### Step 2: Write a loop that applies the above block of code to the entire list of students"
   ]
  },
  {
   "cell_type": "code",
   "execution_count": 50,
   "metadata": {},
   "outputs": [
    {
     "name": "stdout",
     "output_type": "stream",
     "text": [
      "[['Abdul Tawab Safi', '08/04/1997', ['Tawaba', 'Kochi'], ['BJJ', 'Cricket', 'Gaming', 'MMA']], ['Bridget Boakye', '07-13-1990', ['Bre', 'B'], ['Reading', 'Writing', 'Public Speaking', 'Exercise', 'Traveling']], ['Cristina', '09/09', [' Ms.Donkey', 'Cristi'], [' Python', ' Animals']], ['Danny(Haoyang)', '1997-03-19', [], ['soccer', 'basketball', 'music', 'philosophy']], ['Dustin', '04/15/94', ['Dusty', 'D'], ['Tennis', 'Traveling', 'NY Knicks', 'Fitness']], ['Gregory DeSantis', '11/23/1987', ['Blaze'], ['Running', 'Skateboarding', 'Reading', 'Coding']], ['Harrison Miller', '10-2', ['harry'], ['skiing', 'hiking', 'gaming', 'eating']], ['Jeremy Owens', '03/30/1990', ['Jerbea'], ['Gaming', 'Weightlifting', 'Science', 'Cooking']], ['Jeremy Reikes', '10-12-1995', ['Germ', 'Jer'], ['Baseball', 'Dogs', 'Coffee', 'pYtHoN', 'Hiking', 'TV', 'Cryptocurrencies']], ['Jonathan', '02/19/1994', ['Jp', 'Peck'], ['sports', 'cooking', 'tech', 'philosophy']], ['Matthew', '4.14.1989', ['matty', 'wass'], ['food', 'pythons, but actual snakes', 'sci-fi tv shows']], ['Minna', '11/19/1996', ['Minna fish', 'Min'], ['hiking', 'surfing', 'playing with my dog', 'going to museums', 'listening to music']], ['Nabil Abbas,', '12/07/1994', ['Nibz', 'Nabeezy', 'Balle'], ['NBA', 'Twitter', 'photography', 'humanitarian work']], ['Natalie Del Rossi', '10-23-1994', 'Nat', ['hiking', 'reading', 'tv and movies', 'cooking']], ['Remy Canario', '10/11/1988', ['Remstar', 'Rem', 'Remyx'], ['octopuses', 'the letter y', 'nets', 'household objects shaped like things they are not']], ['Xristos', 'March 24', 'Zris', ['Music', 'Video Games', 'Twitter', 'Philosophy']], ['Taylor Hawks', '11/09/1990', [None], ['Electronic music', 'Documentaries', 'Skiing']], ['Vishal Patel', '02/08/1990', ['V', 'Visual', 'Vish'], ['Rock climbing', 'Basketball', 'Food']]]\n"
     ]
    }
   ],
   "source": [
    "# first create a container to hold all of the student_dicts\n",
    "student_dicts = []\n",
    "\n",
    "# create a loop\n",
    "\n",
    "for student in students:\n",
    "    student_dict = {\n",
    "               }\n",
    "    student_dicts.append(student)\n",
    "\n",
    "print(student_dicts)"
   ]
  },
  {
   "cell_type": "markdown",
   "metadata": {},
   "source": [
    "#### Step 3: Define a function that takes a list of students, then uses the code above to parse that list, and return the list of parsed dictionaries. "
   ]
  },
  {
   "cell_type": "code",
   "execution_count": 51,
   "metadata": {},
   "outputs": [],
   "source": [
    "# write function here\n",
    "def parse_students(students):\n",
    "    return student_dicts"
   ]
  },
  {
   "cell_type": "markdown",
   "metadata": {},
   "source": [
    "#### Step 4: Call `parse_students` on our data, `students` "
   ]
  },
  {
   "cell_type": "code",
   "execution_count": 52,
   "metadata": {},
   "outputs": [
    {
     "data": {
      "text/plain": [
       "[['Abdul Tawab Safi',\n",
       "  '08/04/1997',\n",
       "  ['Tawaba', 'Kochi'],\n",
       "  ['BJJ', 'Cricket', 'Gaming', 'MMA']],\n",
       " ['Bridget Boakye',\n",
       "  '07-13-1990',\n",
       "  ['Bre', 'B'],\n",
       "  ['Reading', 'Writing', 'Public Speaking', 'Exercise', 'Traveling']],\n",
       " ['Cristina', '09/09', [' Ms.Donkey', 'Cristi'], [' Python', ' Animals']],\n",
       " ['Danny(Haoyang)',\n",
       "  '1997-03-19',\n",
       "  [],\n",
       "  ['soccer', 'basketball', 'music', 'philosophy']],\n",
       " ['Dustin',\n",
       "  '04/15/94',\n",
       "  ['Dusty', 'D'],\n",
       "  ['Tennis', 'Traveling', 'NY Knicks', 'Fitness']],\n",
       " ['Gregory DeSantis',\n",
       "  '11/23/1987',\n",
       "  ['Blaze'],\n",
       "  ['Running', 'Skateboarding', 'Reading', 'Coding']],\n",
       " ['Harrison Miller',\n",
       "  '10-2',\n",
       "  ['harry'],\n",
       "  ['skiing', 'hiking', 'gaming', 'eating']],\n",
       " ['Jeremy Owens',\n",
       "  '03/30/1990',\n",
       "  ['Jerbea'],\n",
       "  ['Gaming', 'Weightlifting', 'Science', 'Cooking']],\n",
       " ['Jeremy Reikes',\n",
       "  '10-12-1995',\n",
       "  ['Germ', 'Jer'],\n",
       "  ['Baseball',\n",
       "   'Dogs',\n",
       "   'Coffee',\n",
       "   'pYtHoN',\n",
       "   'Hiking',\n",
       "   'TV',\n",
       "   'Cryptocurrencies']],\n",
       " ['Jonathan',\n",
       "  '02/19/1994',\n",
       "  ['Jp', 'Peck'],\n",
       "  ['sports', 'cooking', 'tech', 'philosophy']],\n",
       " ['Matthew',\n",
       "  '4.14.1989',\n",
       "  ['matty', 'wass'],\n",
       "  ['food', 'pythons, but actual snakes', 'sci-fi tv shows']],\n",
       " ['Minna',\n",
       "  '11/19/1996',\n",
       "  ['Minna fish', 'Min'],\n",
       "  ['hiking',\n",
       "   'surfing',\n",
       "   'playing with my dog',\n",
       "   'going to museums',\n",
       "   'listening to music']],\n",
       " ['Nabil Abbas,',\n",
       "  '12/07/1994',\n",
       "  ['Nibz', 'Nabeezy', 'Balle'],\n",
       "  ['NBA', 'Twitter', 'photography', 'humanitarian work']],\n",
       " ['Natalie Del Rossi',\n",
       "  '10-23-1994',\n",
       "  'Nat',\n",
       "  ['hiking', 'reading', 'tv and movies', 'cooking']],\n",
       " ['Remy Canario',\n",
       "  '10/11/1988',\n",
       "  ['Remstar', 'Rem', 'Remyx'],\n",
       "  ['octopuses',\n",
       "   'the letter y',\n",
       "   'nets',\n",
       "   'household objects shaped like things they are not']],\n",
       " ['Xristos',\n",
       "  'March 24',\n",
       "  'Zris',\n",
       "  ['Music', 'Video Games', 'Twitter', 'Philosophy']],\n",
       " ['Taylor Hawks',\n",
       "  '11/09/1990',\n",
       "  [None],\n",
       "  ['Electronic music', 'Documentaries', 'Skiing']],\n",
       " ['Vishal Patel',\n",
       "  '02/08/1990',\n",
       "  ['V', 'Visual', 'Vish'],\n",
       "  ['Rock climbing', 'Basketball', 'Food']]]"
      ]
     },
     "execution_count": 52,
     "metadata": {},
     "output_type": "execute_result"
    }
   ],
   "source": [
    "#call function\n",
    "parse_students(students)"
   ]
  },
  {
   "cell_type": "markdown",
   "metadata": {},
   "source": [
    "#### Bonus Step:  If someone list more than 4 interests, cut the list to only include their first 4. "
   ]
  },
  {
   "cell_type": "code",
   "execution_count": null,
   "metadata": {},
   "outputs": [],
   "source": []
  }
 ],
 "metadata": {
  "kernelspec": {
   "display_name": "Python 3",
   "language": "python",
   "name": "python3"
  },
  "language_info": {
   "codemirror_mode": {
    "name": "ipython",
    "version": 3
   },
   "file_extension": ".py",
   "mimetype": "text/x-python",
   "name": "python",
   "nbconvert_exporter": "python",
   "pygments_lexer": "ipython3",
   "version": "3.7.4"
  }
 },
 "nbformat": 4,
 "nbformat_minor": 2
}
