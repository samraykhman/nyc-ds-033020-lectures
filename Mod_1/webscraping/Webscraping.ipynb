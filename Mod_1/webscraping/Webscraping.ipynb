{
 "cells": [
  {
   "cell_type": "markdown",
   "metadata": {},
   "source": [
    "# Python Web Scraping Tutorial using BeautifulSoup"
   ]
  },
  {
   "cell_type": "markdown",
   "metadata": {},
   "source": [
    "**Web scraping** is a technique used to extract data from websites using a script. It is the way to automate the laborious work of copying data from various websites. Web Scraping is generally performed in the cases when the desirable websites don't expose the API for fetching the data. In order to understand how to scrape a web page, we must first understand a bit about how web pages are built. "
   ]
  },
  {
   "cell_type": "markdown",
   "metadata": {},
   "source": [
    "## The components of a web page\n"
   ]
  },
  {
   "cell_type": "markdown",
   "metadata": {},
   "source": [
    "When we visit a web page, our web browser makes a GET request to a web server. The server then sends back files that tell our browser how to render the page for us. The files fall into a few main types:\n",
    "\n",
    "- HTML — contain the main content of the page.\n",
    "- CSS — add styling to make the page look nicer.\n",
    "- JS — Javascript files add interactivity to web pages.\n",
    "- Images — image formats, such as JPG and PNG allow web pages to show pictures.\n",
    "\n",
    "After our browser receives all the files, it renders the page and displays it to us. There’s a lot that happens behind the scenes to render a page nicely, but we don’t need to worry about most of it when we’re web scraping."
   ]
  },
  {
   "cell_type": "markdown",
   "metadata": {},
   "source": [
    "### HTML\n",
    "\n",
    "\n",
    "HyperText Markup Language (HTML) is a language that web pages are created in. HTML isn’t a programming language, like Python — instead, it’s a markup language that tells a browser how to layout content. \n",
    "\n",
    "Let’s take a quick tour through HTML so we know enough to scrape effectively. HTML consists of elements called tags. The most basic tag is the `<html>` tag. This tag tells the web browser that everything inside of it is HTML. We can make a simple HTML document just using this tag:\n",
    "\n",
    "~~~\n",
    "<html>\n",
    "</html>\n",
    "~~~"
   ]
  },
  {
   "cell_type": "markdown",
   "metadata": {},
   "source": [
    "<html>\n",
    "</html>"
   ]
  },
  {
   "cell_type": "markdown",
   "metadata": {},
   "source": [
    "Right inside an html tag, we put two other tags, the head tag, and the body tag. The main content of the web page goes into the body tag. The head tag contains data about the title of the page, and other information that generally isn’t useful in web scraping:\n",
    "\n",
    "~~~\n",
    "<html>\n",
    "    <head>\n",
    "    </head>\n",
    "    <body>\n",
    "    </body>\n",
    "</html>\n",
    "~~~"
   ]
  },
  {
   "cell_type": "markdown",
   "metadata": {},
   "source": [
    "We’ll now add our first content to the page, in the form of the p tag. The p tag defines a paragraph, and any text inside the tag is shown as a separate paragraph:\n",
    "~~~\n",
    "<html>\n",
    "    <head>\n",
    "    </head>\n",
    "    <body>\n",
    "          <p>\n",
    "            Here's a paragraph of text!\n",
    "        </p>\n",
    "        <p>\n",
    "            Here's a second paragraph of text!\n",
    "        </p>\n",
    "    </body>\n",
    "</html>\n",
    "~~~"
   ]
  },
  {
   "cell_type": "markdown",
   "metadata": {},
   "source": [
    "<html>\n",
    "    <head>\n",
    "    </head>\n",
    "    <body>\n",
    "          <p>\n",
    "            Here's a paragraph of text!\n",
    "        </p>\n",
    "        <p>\n",
    "            Here's a second paragraph of text!\n",
    "        </p>\n",
    "    </body>\n",
    "</html>"
   ]
  },
  {
   "cell_type": "markdown",
   "metadata": {},
   "source": [
    "Tags have commonly used names that depend on their position in relation to other tags:\n",
    "\n",
    "- **child** — a child is a tag inside another tag. So the two p tags above are both children of the body tag.\n",
    "- **parent** — a parent is the tag another tag is inside. Above, the html tag is the parent of the body tag.\n",
    "- **sibiling** — a sibiling is a tag that is nested inside the same parent as another tag. For example, head and body are siblings, since they’re both inside html. Both p tags are siblings, since they’re both inside body."
   ]
  },
  {
   "cell_type": "markdown",
   "metadata": {},
   "source": [
    "We can also add properties to HTML tags that change their behavior:\n",
    "\n",
    "~~~\n",
    "<html>\n",
    "    <head>\n",
    "    </head>\n",
    "    <body>\n",
    "      <p>\n",
    "        Here's a paragraph of text!\n",
    "        <a href=\"https://www.dataquest.io\">Learn Data Science Online</a>\n",
    "        </p>\n",
    "        <p>\n",
    "          Here's a second paragraph of text!\n",
    "          <a href=\"https://www.python.org\">Python</a>        \n",
    "        </p>\n",
    "    </body>\n",
    "</html>\n",
    "~~~"
   ]
  },
  {
   "cell_type": "markdown",
   "metadata": {},
   "source": [
    "<html>\n",
    "    <head>\n",
    "    </head>\n",
    "    <body>\n",
    "        <p>\n",
    "            Here's a paragraph of text!\n",
    "            <a href=\"https://www.dataquest.io\">Learn Data Science Online</a>\n",
    "        </p>\n",
    "        <p>\n",
    "            Here's a second paragraph of text!\n",
    "            <a href=\"https://www.python.org\">Python</a>        </p>\n",
    "    </body></html>"
   ]
  },
  {
   "cell_type": "markdown",
   "metadata": {},
   "source": [
    "In the above example, we added two a tags. a tags are links, and tell the browser to render a link to another web page. The href property of the tag determines where the link goes.\n",
    "\n",
    "a and p are extremely common html tags. Here are a few others:\n",
    "\n",
    "- *div* — indicates a division, or area, of the page.\n",
    "- *b* — bolds any text inside.\n",
    "- *i* — italicizes any text inside.\n",
    "- *table* — creates a table.\n",
    "- *form* — creates an input form.\n",
    "\n",
    "\n",
    "For a full list of tags, look [here](https://developer.mozilla.org/en-US/docs/Web/HTML/Element)."
   ]
  },
  {
   "cell_type": "markdown",
   "metadata": {},
   "source": [
    "There are two special properties give HTML elements names, and make them easier to interact with when we’re scraping, **class** and **id** properties. \n",
    "\n",
    "- One element can have multiple classes, and a class can be shared between elements. \n",
    "- Each element can only have one id, and an id can only be used once on a page. \n",
    "- Classes and ids are optional, and not all elements will have them.\n",
    "\n",
    "We can add classes and ids to our example:\n",
    "\n",
    "~~~\n",
    "<html>\n",
    "    <head>\n",
    "    </head>\n",
    "    <body>\n",
    "        <p class=\"bold-paragraph\">\n",
    "            Here's a paragraph of text!\n",
    "            <a href=\"https://www.dataquest.io\" id=\"learn-link\">Learn Data Science Online</a>\n",
    "        </p>\n",
    "        <p class=\"bold-paragraph extra-large\">\n",
    "            Here's a second paragraph of text!\n",
    "            <a href=\"https://www.python.org\" class=\"extra-large\">Python</a>\n",
    "        </p>\n",
    "    </body>\n",
    "</html>\n",
    "~~~"
   ]
  },
  {
   "cell_type": "markdown",
   "metadata": {},
   "source": [
    "<html>\n",
    "    <head>\n",
    "    </head>\n",
    "    <body>\n",
    "        <p class=\"bold-paragraph\">\n",
    "            Here's a paragraph of text!\n",
    "            <a href=\"https://www.dataquest.io\" id=\"learn-link\">Learn Data Science Online</a>\n",
    "        </p>\n",
    "        <p class=\"bold-paragraph extra-large\">\n",
    "            Here's a second paragraph of text!\n",
    "            <a href=\"https://www.python.org\" class=\"extra-large\">Python</a>\n",
    "        </p>\n",
    "    </body>\n",
    "</html>"
   ]
  },
  {
   "cell_type": "markdown",
   "metadata": {},
   "source": [
    "## Apply this knowledge\n",
    "\n",
    "Let's go to a webpage and change some of the HTML to see what happens. \n",
    "\n",
    "- Open up a webpage in Chrome.\n",
    "- Right click and 'inspect element.\n",
    "\n",
    "- Change the text in a tag.\n",
    "- Change the class of a tag.\n",
    "- Find a tag with an ID and remove it.\n",
    "\n"
   ]
  },
  {
   "cell_type": "markdown",
   "metadata": {},
   "source": [
    "## Webscraping with Python"
   ]
  },
  {
   "cell_type": "markdown",
   "metadata": {},
   "source": [
    "### The requests library\n",
    "The first thing we’ll need to do to scrape a web page is to grab the html of thepage. We can get this by using the Python `requests` library."
   ]
  },
  {
   "cell_type": "code",
   "execution_count": 1,
   "metadata": {},
   "outputs": [
    {
     "data": {
      "text/plain": [
       "<Response [200]>"
      ]
     },
     "execution_count": 1,
     "metadata": {},
     "output_type": "execute_result"
    }
   ],
   "source": [
    "import requests\n",
    "page = requests.get(\"http://dataquestio.github.io/web-scraping-pages/simple.html\")\n",
    "page"
   ]
  },
  {
   "cell_type": "markdown",
   "metadata": {},
   "source": [
    "After running our request, we get a Response object. This object has a status_code property, which indicates if the page was downloaded successfully:"
   ]
  },
  {
   "cell_type": "code",
   "execution_count": 2,
   "metadata": {},
   "outputs": [
    {
     "data": {
      "text/plain": [
       "200"
      ]
     },
     "execution_count": 2,
     "metadata": {},
     "output_type": "execute_result"
    }
   ],
   "source": [
    "page.status_code\n"
   ]
  },
  {
   "cell_type": "markdown",
   "metadata": {},
   "source": [
    "We can print out the HTML content of the page using the content property:"
   ]
  },
  {
   "cell_type": "code",
   "execution_count": 3,
   "metadata": {},
   "outputs": [
    {
     "data": {
      "text/plain": [
       "b'<!DOCTYPE html>\\n<html>\\n    <head>\\n        <title>A simple example page</title>\\n    </head>\\n    <body>\\n        <p>Here is some simple content for this page.</p>\\n    </body>\\n</html>'"
      ]
     },
     "execution_count": 3,
     "metadata": {},
     "output_type": "execute_result"
    }
   ],
   "source": [
    "page.content"
   ]
  },
  {
   "cell_type": "markdown",
   "metadata": {},
   "source": [
    "### Parsing a page with BeautifulSoup\n",
    "\n",
    "We can use the BeautifulSoup library to parse this document, and extract the text from the `<p>` tag. "
   ]
  },
  {
   "cell_type": "code",
   "execution_count": 6,
   "metadata": {},
   "outputs": [],
   "source": [
    "!pip install BeautifulSoup"
   ]
  },
  {
   "cell_type": "code",
   "execution_count": 7,
   "metadata": {
    "scrolled": true
   },
   "outputs": [
    {
     "data": {
      "text/plain": [
       "<!DOCTYPE html>\n",
       "\n",
       "<html>\n",
       "<head>\n",
       "<title>A simple example page</title>\n",
       "</head>\n",
       "<body>\n",
       "<p>Here is some simple content for this page.</p>\n",
       "</body>\n",
       "</html>"
      ]
     },
     "execution_count": 7,
     "metadata": {},
     "output_type": "execute_result"
    }
   ],
   "source": [
    "from bs4 import BeautifulSoup\n",
    "soup = BeautifulSoup(page.content, 'html.parser')\n",
    "soup"
   ]
  },
  {
   "cell_type": "code",
   "execution_count": 9,
   "metadata": {},
   "outputs": [
    {
     "data": {
      "text/plain": [
       "bs4.BeautifulSoup"
      ]
     },
     "execution_count": 9,
     "metadata": {},
     "output_type": "execute_result"
    }
   ],
   "source": [
    "type(soup)"
   ]
  },
  {
   "cell_type": "code",
   "execution_count": 8,
   "metadata": {},
   "outputs": [
    {
     "name": "stdout",
     "output_type": "stream",
     "text": [
      "<!DOCTYPE html>\n",
      "<html>\n",
      " <head>\n",
      "  <title>\n",
      "   A simple example page\n",
      "  </title>\n",
      " </head>\n",
      " <body>\n",
      "  <p>\n",
      "   Here is some simple content for this page.\n",
      "  </p>\n",
      " </body>\n",
      "</html>\n"
     ]
    }
   ],
   "source": [
    "print(soup.prettify())\n"
   ]
  },
  {
   "cell_type": "markdown",
   "metadata": {},
   "source": [
    "As all the tags are nested, we can move through the structure one level at a time. We can first select all the elements at the top level of the page using the `children` property of `soup`."
   ]
  },
  {
   "cell_type": "code",
   "execution_count": 10,
   "metadata": {},
   "outputs": [
    {
     "data": {
      "text/plain": [
       "['html', '\\n', <html>\n",
       " <head>\n",
       " <title>A simple example page</title>\n",
       " </head>\n",
       " <body>\n",
       " <p>Here is some simple content for this page.</p>\n",
       " </body>\n",
       " </html>]"
      ]
     },
     "execution_count": 10,
     "metadata": {},
     "output_type": "execute_result"
    }
   ],
   "source": [
    "list(soup.children)\n"
   ]
  },
  {
   "cell_type": "code",
   "execution_count": 14,
   "metadata": {},
   "outputs": [
    {
     "data": {
      "text/plain": [
       "3"
      ]
     },
     "execution_count": 14,
     "metadata": {},
     "output_type": "execute_result"
    }
   ],
   "source": [
    "len(list(soup.children))"
   ]
  },
  {
   "cell_type": "code",
   "execution_count": 19,
   "metadata": {},
   "outputs": [
    {
     "data": {
      "text/plain": [
       "<list_iterator at 0x1079a33d0>"
      ]
     },
     "execution_count": 19,
     "metadata": {},
     "output_type": "execute_result"
    }
   ],
   "source": [
    "list(soup.children)[2].children"
   ]
  },
  {
   "cell_type": "markdown",
   "metadata": {},
   "source": [
    "The above tells us that there are two tags at the top level of the page — the initial `<!DOCTYPE html>` tag, and the `<html>` tag. There is a newline character `(\\n)` in the list as well. Let’s see what the type of each element in the list is:"
   ]
  },
  {
   "cell_type": "code",
   "execution_count": 16,
   "metadata": {},
   "outputs": [
    {
     "data": {
      "text/plain": [
       "[bs4.element.Doctype, bs4.element.NavigableString, bs4.element.Tag]"
      ]
     },
     "execution_count": 16,
     "metadata": {},
     "output_type": "execute_result"
    }
   ],
   "source": [
    "[type(item) for item in list(soup.children)]\n"
   ]
  },
  {
   "cell_type": "markdown",
   "metadata": {},
   "source": [
    "The `Tag` object allows us to navigate through an HTML document, and extract other tags and text. You can learn more about the various `BeautifulSoup` objects [here](https://www.crummy.com/software/BeautifulSoup/bs4/doc/#kinds-of-objects).\n",
    "\n",
    "We can now select the html tag and its children by taking the third item in the list:\n",
    "\n"
   ]
  },
  {
   "cell_type": "code",
   "execution_count": 21,
   "metadata": {},
   "outputs": [],
   "source": [
    "html = list(soup.children)[2]\n"
   ]
  },
  {
   "cell_type": "code",
   "execution_count": 22,
   "metadata": {},
   "outputs": [
    {
     "data": {
      "text/plain": [
       "<html>\n",
       "<head>\n",
       "<title>A simple example page</title>\n",
       "</head>\n",
       "<body>\n",
       "<p>Here is some simple content for this page.</p>\n",
       "</body>\n",
       "</html>"
      ]
     },
     "execution_count": 22,
     "metadata": {},
     "output_type": "execute_result"
    }
   ],
   "source": [
    "html"
   ]
  },
  {
   "cell_type": "markdown",
   "metadata": {},
   "source": [
    "Each item in the list returned by the `children` property is also a `BeautifulSoup` object, so we can also call the `children` method on `html`.\n",
    "\n",
    "Now, we can find the `children` inside the `html` tag:"
   ]
  },
  {
   "cell_type": "code",
   "execution_count": 23,
   "metadata": {},
   "outputs": [
    {
     "data": {
      "text/plain": [
       "['\\n', <head>\n",
       " <title>A simple example page</title>\n",
       " </head>, '\\n', <body>\n",
       " <p>Here is some simple content for this page.</p>\n",
       " </body>, '\\n']"
      ]
     },
     "execution_count": 23,
     "metadata": {},
     "output_type": "execute_result"
    }
   ],
   "source": [
    "list(html.children)\n"
   ]
  },
  {
   "cell_type": "markdown",
   "metadata": {},
   "source": [
    "As you can see above, there are two tags here, `head`, and `body`. We want to extract the text inside the `p` tag, so we’ll dive into the body:"
   ]
  },
  {
   "cell_type": "code",
   "execution_count": 24,
   "metadata": {},
   "outputs": [],
   "source": [
    "body = list(html.children)[3]\n"
   ]
  },
  {
   "cell_type": "code",
   "execution_count": 25,
   "metadata": {},
   "outputs": [
    {
     "data": {
      "text/plain": [
       "<body>\n",
       "<p>Here is some simple content for this page.</p>\n",
       "</body>"
      ]
     },
     "execution_count": 25,
     "metadata": {},
     "output_type": "execute_result"
    }
   ],
   "source": [
    "body"
   ]
  },
  {
   "cell_type": "markdown",
   "metadata": {},
   "source": [
    "We can now isolate the `p` tag:\n",
    "\n"
   ]
  },
  {
   "cell_type": "code",
   "execution_count": 26,
   "metadata": {},
   "outputs": [],
   "source": [
    "p = list(body.children)[1]\n"
   ]
  },
  {
   "cell_type": "markdown",
   "metadata": {},
   "source": [
    "Once we’ve isolated the tag, we can use the `get_text` method to extract all of the text inside the tag:"
   ]
  },
  {
   "cell_type": "code",
   "execution_count": 27,
   "metadata": {},
   "outputs": [
    {
     "data": {
      "text/plain": [
       "'Here is some simple content for this page.'"
      ]
     },
     "execution_count": 27,
     "metadata": {},
     "output_type": "execute_result"
    }
   ],
   "source": [
    "p.get_text()\n"
   ]
  },
  {
   "cell_type": "markdown",
   "metadata": {},
   "source": [
    "### Finding all instances of a tag at once\n",
    "\n",
    "If we want to extract a single tag, we can instead use the find_all method, which will find all the instances of a tag on a page."
   ]
  },
  {
   "cell_type": "code",
   "execution_count": 28,
   "metadata": {},
   "outputs": [
    {
     "data": {
      "text/plain": [
       "[<p>Here is some simple content for this page.</p>]"
      ]
     },
     "execution_count": 28,
     "metadata": {},
     "output_type": "execute_result"
    }
   ],
   "source": [
    "soup = BeautifulSoup(page.content, 'html.parser')\n",
    "soup.find_all('p')"
   ]
  },
  {
   "cell_type": "markdown",
   "metadata": {},
   "source": [
    "Note that `find_all` returns a list, so we’ll have to loop through, or use list indexing, it to extract text:"
   ]
  },
  {
   "cell_type": "code",
   "execution_count": 29,
   "metadata": {},
   "outputs": [
    {
     "data": {
      "text/plain": [
       "[<p>Here is some simple content for this page.</p>]"
      ]
     },
     "execution_count": 29,
     "metadata": {},
     "output_type": "execute_result"
    }
   ],
   "source": [
    "soup.find_all('p')"
   ]
  },
  {
   "cell_type": "markdown",
   "metadata": {},
   "source": [
    "If you instead only want to find the first instance of a tag, you can use the `find` method, which will return a single `BeautifulSoup` object:"
   ]
  },
  {
   "cell_type": "code",
   "execution_count": 30,
   "metadata": {},
   "outputs": [
    {
     "data": {
      "text/plain": [
       "<p>Here is some simple content for this page.</p>"
      ]
     },
     "execution_count": 30,
     "metadata": {},
     "output_type": "execute_result"
    }
   ],
   "source": [
    "soup.find('p')\n"
   ]
  },
  {
   "cell_type": "markdown",
   "metadata": {},
   "source": [
    "### Searching for tags by class and id\n",
    "\n",
    "\n",
    "We introduced classes and ids earlier, but it probably wasn’t clear why they were useful. Classes and ids are used by CSS to determine which HTML elements to apply certain styles to. We can also use them when scraping to specify specific elements we want to scrape. Let's look at the following page:\n",
    "\n",
    "~~~\n",
    "<html>\n",
    "    <head>\n",
    "        <title>A simple example page</title>\n",
    "    </head>\n",
    "    <body>\n",
    "        <div>\n",
    "            <p class=\"inner-text first-item\" id=\"first\">\n",
    "                First paragraph.\n",
    "            </p>\n",
    "            <p class=\"inner-text\">\n",
    "                Second paragraph.\n",
    "            </p>\n",
    "        </div>\n",
    "        <p class=\"outer-text first-item\" id=\"second\">\n",
    "            <b>\n",
    "                First outer paragraph.\n",
    "            </b>\n",
    "        </p>\n",
    "        <p class=\"outer-text\">\n",
    "            <b>\n",
    "                Second outer paragraph.\n",
    "            </b>\n",
    "        </p>\n",
    "    </body>\n",
    "</html>\n",
    "~~~"
   ]
  },
  {
   "cell_type": "code",
   "execution_count": 31,
   "metadata": {},
   "outputs": [
    {
     "data": {
      "text/plain": [
       "<html>\n",
       "<head>\n",
       "<title>A simple example page</title>\n",
       "</head>\n",
       "<body>\n",
       "<div>\n",
       "<p class=\"inner-text first-item\" id=\"first\">\n",
       "                First paragraph.\n",
       "            </p>\n",
       "<p class=\"inner-text\">\n",
       "                Second paragraph.\n",
       "            </p>\n",
       "</div>\n",
       "<p class=\"outer-text first-item\" id=\"second\">\n",
       "<b>\n",
       "                First outer paragraph.\n",
       "            </b>\n",
       "</p>\n",
       "<p class=\"outer-text\">\n",
       "<b>\n",
       "                Second outer paragraph.\n",
       "            </b>\n",
       "</p>\n",
       "</body>\n",
       "</html>"
      ]
     },
     "execution_count": 31,
     "metadata": {},
     "output_type": "execute_result"
    }
   ],
   "source": [
    "page = requests.get(\"http://dataquestio.github.io/web-scraping-pages/ids_and_classes.html\")\n",
    "soup = BeautifulSoup(page.content, 'html.parser')\n",
    "soup"
   ]
  },
  {
   "cell_type": "markdown",
   "metadata": {},
   "source": [
    "Now, we can use the `find_all` method to search for items by class or by id. In the below example, we’ll search for any `p` tag that has the class `outer-text`:"
   ]
  },
  {
   "cell_type": "code",
   "execution_count": 32,
   "metadata": {},
   "outputs": [],
   "source": [
    "paragraphs = soup.find_all('p', class_='outer-text')\n"
   ]
  },
  {
   "cell_type": "code",
   "execution_count": 34,
   "metadata": {},
   "outputs": [
    {
     "data": {
      "text/plain": [
       "2"
      ]
     },
     "execution_count": 34,
     "metadata": {},
     "output_type": "execute_result"
    }
   ],
   "source": [
    "len(paragraphs)"
   ]
  },
  {
   "cell_type": "code",
   "execution_count": 33,
   "metadata": {},
   "outputs": [
    {
     "name": "stdout",
     "output_type": "stream",
     "text": [
      "<p class=\"outer-text first-item\" id=\"second\">\n",
      "<b>\n",
      "                First outer paragraph.\n",
      "            </b>\n",
      "</p>\n",
      "<p class=\"outer-text\">\n",
      "<b>\n",
      "                Second outer paragraph.\n",
      "            </b>\n",
      "</p>\n"
     ]
    }
   ],
   "source": [
    "for paragraph in paragraphs:\n",
    "    print(paragraph)"
   ]
  },
  {
   "cell_type": "markdown",
   "metadata": {},
   "source": [
    "In the below example, we’ll look for any tag that has the class `outer-text`:\n",
    "\n"
   ]
  },
  {
   "cell_type": "code",
   "execution_count": 35,
   "metadata": {},
   "outputs": [
    {
     "data": {
      "text/plain": [
       "[<p class=\"outer-text first-item\" id=\"second\">\n",
       " <b>\n",
       "                 First outer paragraph.\n",
       "             </b>\n",
       " </p>, <p class=\"outer-text\">\n",
       " <b>\n",
       "                 Second outer paragraph.\n",
       "             </b>\n",
       " </p>]"
      ]
     },
     "execution_count": 35,
     "metadata": {},
     "output_type": "execute_result"
    }
   ],
   "source": [
    "soup.find_all(class_=\"outer-text\")\n"
   ]
  },
  {
   "cell_type": "markdown",
   "metadata": {},
   "source": [
    "We can also search for elements by `id`:\n"
   ]
  },
  {
   "cell_type": "code",
   "execution_count": 36,
   "metadata": {},
   "outputs": [
    {
     "data": {
      "text/plain": [
       "[<p class=\"inner-text first-item\" id=\"first\">\n",
       "                 First paragraph.\n",
       "             </p>]"
      ]
     },
     "execution_count": 36,
     "metadata": {},
     "output_type": "execute_result"
    }
   ],
   "source": [
    "soup.find_all(id=\"first\")\n"
   ]
  },
  {
   "cell_type": "markdown",
   "metadata": {},
   "source": [
    "### Using CSS Selectors\n",
    "\n",
    "\n",
    "You can also search for items using CSS selectors. These selectors are how the CSS language allows developers to specify HTML tags to style. Here are some examples:\n",
    "\n",
    "- *p a* — finds all a tags inside of a p tag.\n",
    "- *body p a* — finds all a tags inside of a p tag inside of a body tag.\n",
    "- *html body* — finds all body tags inside of an html tag.\n",
    "- *p.outer-text* — finds all p tags with a class of outer-text.\n",
    "- *p#first* — finds all p tags with an id of first.\n",
    "- *body p.outer-text* — finds any p tags with a class of outer-text inside of a body tag."
   ]
  },
  {
   "cell_type": "markdown",
   "metadata": {},
   "source": [
    "`BeautifulSoup` objects support searching a page via CSS selectors using the `select` method. We can use CSS selectors to find all the `p` tags in our page that are inside of a `div` like this:"
   ]
  },
  {
   "cell_type": "code",
   "execution_count": 38,
   "metadata": {},
   "outputs": [
    {
     "data": {
      "text/plain": [
       "[<p class=\"inner-text first-item\" id=\"first\">\n",
       "                 First paragraph.\n",
       "             </p>, <p class=\"inner-text\">\n",
       "                 Second paragraph.\n",
       "             </p>]"
      ]
     },
     "execution_count": 38,
     "metadata": {},
     "output_type": "execute_result"
    }
   ],
   "source": [
    "soup.select(\"div p\")\n"
   ]
  },
  {
   "cell_type": "code",
   "execution_count": 39,
   "metadata": {},
   "outputs": [
    {
     "data": {
      "text/plain": [
       "[<p class=\"outer-text first-item\" id=\"second\">\n",
       " <b>\n",
       "                 First outer paragraph.\n",
       "             </b>\n",
       " </p>, <p class=\"outer-text\">\n",
       " <b>\n",
       "                 Second outer paragraph.\n",
       "             </b>\n",
       " </p>]"
      ]
     },
     "execution_count": 39,
     "metadata": {},
     "output_type": "execute_result"
    }
   ],
   "source": [
    "soup.select('p.outer-text')"
   ]
  },
  {
   "cell_type": "code",
   "execution_count": 42,
   "metadata": {},
   "outputs": [
    {
     "data": {
      "text/plain": [
       "[<p class=\"outer-text first-item\" id=\"second\">\n",
       " <b>\n",
       "                 First outer paragraph.\n",
       "             </b>\n",
       " </p>]"
      ]
     },
     "execution_count": 42,
     "metadata": {},
     "output_type": "execute_result"
    }
   ],
   "source": [
    "soup.select('p.outer-text.first-item')"
   ]
  },
  {
   "cell_type": "markdown",
   "metadata": {},
   "source": [
    "Note that the `select` method above returns a list of `BeautifulSoup` objects, just like `find` and `find_all`."
   ]
  },
  {
   "cell_type": "markdown",
   "metadata": {},
   "source": [
    "## Your Turn: Downloading weather data\n"
   ]
  },
  {
   "cell_type": "markdown",
   "metadata": {},
   "source": [
    "We now know enough to proceed with extracting information about the local weather from the National Weather Service website. The first step is to find the page we want to scrape. We’ll extract weather information about downtown San Francisco from this [page](https://forecast.weather.gov/MapClick.php?lat=37.7772&lon=-122.4168#.XJJFuhNKhTY)."
   ]
  },
  {
   "cell_type": "markdown",
   "metadata": {},
   "source": [
    "We can then scroll up in the elements panel to find the “outermost” element that contains all of the text that corresponds to the extended forecasts. In this case, it’s a `div` tag with the id `seven-day-forecast`:"
   ]
  },
  {
   "cell_type": "markdown",
   "metadata": {},
   "source": [
    "We now know enough to download the page and start parsing it. In the below code, we:\n",
    "\n",
    "1. Download the web page containing the forecast.\n",
    "2. Create a `BeautifulSoup` class to parse the page.\n",
    "3. Find the `div` with id `seven-day-forecast`, and assign to `seven_day`\n",
    "4. Inside `seven_day`, find each individual forecast item.\n",
    "5. Extract and print the first forecast item."
   ]
  },
  {
   "cell_type": "code",
   "execution_count": 56,
   "metadata": {},
   "outputs": [],
   "source": [
    "page = requests.get(\"http://forecast.weather.gov/MapClick.php?lat=37.7772&lon=-122.4168\")"
   ]
  },
  {
   "cell_type": "code",
   "execution_count": 62,
   "metadata": {
    "collapsed": true
   },
   "outputs": [
    {
     "data": {
      "text/plain": [
       "'<!DOCTYPE html>\\n<html class=\"no-js\">\\n <head>\\n  <!-- Meta -->\\n  <meta content=\"width=device-width\" name=\"viewport\"/>\\n  <link href=\"http://purl.org/dc/elements/1.1/\" rel=\"schema.DC\"/>\\n  <title>\\n   National Weather Service\\n  </title>\\n  <meta content=\"National Weather Service\" name=\"DC.title\">\\n   <meta content=\"NOAA National Weather Service National Weather Service\" name=\"DC.description\"/>\\n   <meta content=\"US Department of Commerce, NOAA, National Weather Service\" name=\"DC.creator\"/>\\n   <meta content=\"\" name=\"DC.date.created\" scheme=\"ISO8601\"/>\\n   <meta content=\"EN-US\" name=\"DC.language\" scheme=\"DCTERMS.RFC1766\"/>\\n   <meta content=\"weather, National Weather Service\" name=\"DC.keywords\"/>\\n   <meta content=\"NOAA\\'s National Weather Service\" name=\"DC.publisher\"/>\\n   <meta content=\"National Weather Service\" name=\"DC.contributor\"/>\\n   <meta content=\"http://www.weather.gov/disclaimer.php\" name=\"DC.rights\"/>\\n   <meta content=\"General\" name=\"rating\"/>\\n   <meta content=\"index,follow\" name=\"robots\"/>\\n   <!-- Icons -->\\n   <link href=\"./images/favicon.ico\" rel=\"shortcut icon\" type=\"image/x-icon\"/>\\n   <!-- CSS -->\\n   <link href=\"css/bootstrap-3.2.0.min.css\" rel=\"stylesheet\"/>\\n   <link href=\"css/bootstrap-theme-3.2.0.min.css\" rel=\"stylesheet\"/>\\n   <link href=\"css/font-awesome-4.3.0.min.css\" rel=\"stylesheet\"/>\\n   <link href=\"css/ol-4.6.4.css\" rel=\"stylesheet\" type=\"text/css\"/>\\n   <link href=\"css/mapclick.css\" rel=\"stylesheet\" type=\"text/css\">\\n    <!--[if lte IE 7]><link rel=\"stylesheet\" type=\"text/css\" href=\"css/bootstrap-ie7.css\" /><![endif]-->\\n    <!--[if lte IE 9]><link rel=\"stylesheet\" type=\"text/css\" href=\"css/mapclick-ie.css\" /><![endif]-->\\n    <link href=\"css/print.css\" rel=\"stylesheet\" type=\"text/css\">\\n     <link href=\"css/search.css\" rel=\"stylesheet\" type=\"text/css\">\\n      <!-- Javascript -->\\n      <script src=\"js/lib/modernizr-2.8.3.js\" type=\"text/javascript\">\\n      </script>\\n      <script src=\"js/lib/json3-3.3.2.min.js\" type=\"text/javascript\">\\n      </script>\\n      <script src=\"js/lib/jquery-1.11.3.min.js\" type=\"text/javascript\">\\n      </script>\\n      <script src=\"js/lib/jquery.hoverIntent-1.8.1.min.js\" type=\"text/javascript\">\\n      </script>\\n      <script src=\"js/lib/bootstrap-3.2.0.min.js\" type=\"text/javascript\">\\n      </script>\\n      <script src=\"js/lib/ol-4.6.4.js\" type=\"text/javascript\">\\n      </script>\\n      <!--[if lte IE 8]><script type=\"text/javascript\" src=\"js/respond.min.js\"></script><![endif]-->\\n      <script src=\"js/jquery.autocomplete.min.js\" type=\"text/javascript\">\\n      </script>\\n      <script src=\"js/cfisurvey/cfi.js?v2\" type=\"text/javascript\">\\n      </script>\\n      <script src=\"js/forecast.esri.js\" type=\"text/javascript\">\\n      </script>\\n      <script src=\"js/forecast.search.js\" type=\"text/javascript\">\\n      </script>\\n      <script src=\"js/forecast.openlayers.js\" type=\"text/javascript\">\\n      </script>\\n      <script src=\"js/browserSniffer.js\" type=\"text/javascript\">\\n      </script>\\n      <script src=\"js/federated-analytics.js\" type=\"text/javascript\">\\n      </script>\\n      <script type=\"javascript\">\\n       // ForeSee Staging Embed Script v2.01\\n// DO NOT MODIFY BELOW THIS LINE *****************************************\\n;(function (g) {\\n  var d = document, am = d.createElement(\\'script\\'), h = d.head || d.getElementsByTagName(\"head\")[0], fsr = \\'fsReady\\',\\n  aex = { \\n    \"src\": \"//gateway.foresee.com/sites/weather-gov/production/gateway.min.js\",\\n    \"type\": \"text/javascript\", \\n    \"async\": \"true\", \\n    \"data-vendor\": \"fs\", \\n    \"data-role\": \"gateway\" \\n  };\\n  for (var attr in aex) { am.setAttribute(attr, aex[attr]); } h.appendChild(am); g[fsr] || (g[fsr] = function () { var aT = \\'__\\' + fsr + \\'_stk__\\'; g[aT] = g[aT] || []; g[aT].push(arguments); });\\n})(window);\\n// DO NOT MODIFY ABOVE THIS LINE *****************************************\\n      </script>\\n      <script type=\"text/javascript\">\\n       (function (i, s, o, g, r, a, m) {\\n                i[\\'GoogleAnalyticsObject\\'] = r;\\n                i[r] = i[r] || function () {\\n                    (i[r].q = i[r].q || []).push(arguments)\\n                }, i[r].l = 1 * new Date();\\n                a = s.createElement(o),\\n                        m = s.getElementsByTagName(o)[0];\\n                a.async = 1;\\n                a.src = g;\\n                m.parentNode.insertBefore(a, m)\\n            })(window, document, \\'script\\', \\'//www.google-analytics.com/analytics.js\\', \\'ga\\');\\n\\n            ga(\\'create\\', \\'UA-40768555-1\\', \\'weather.gov\\', {\\'sampleRate\\': 6});\\n            ga(\\'set\\', \\'anonymizeIp\\', true);\\n            ga(\\'require\\', \\'linkid\\');\\n            ga(\\'send\\', \\'pageview\\');\\n      </script>\\n     </link>\\n    </link>\\n   </link>\\n  </meta>\\n </head>\\n <body>\\n  <main class=\"container\">\\n   <header class=\"row clearfix\" id=\"page-header\">\\n    <a class=\"pull-left\" href=\"http://www.noaa.gov\" id=\"header-noaa\">\\n     <img alt=\"National Oceanic and Atmospheric Administration\" src=\"/css/images/header_noaa.png\"/>\\n    </a>\\n    <a class=\"pull-left\" href=\"http://www.weather.gov\" id=\"header-nws\">\\n     <img alt=\"National Weather Service\" src=\"/css/images/header_nws.png\"/>\\n    </a>\\n    <a class=\"pull-right\" href=\"http://www.commerce.gov\" id=\"header-doc\">\\n     <img alt=\"United States Department of Commerce\" src=\"/css/images/header_doc.png\"/>\\n    </a>\\n   </header>\\n   <nav class=\"navbar navbar-default row\" role=\"navigation\">\\n    <div class=\"container-fluid\">\\n     <div class=\"navbar-header\">\\n      <button class=\"navbar-toggle collapsed\" data-target=\"#top-nav\" data-toggle=\"collapse\" type=\"button\">\\n       <span class=\"sr-only\">\\n        Toggle navigation\\n       </span>\\n       <span class=\"icon-bar\">\\n       </span>\\n       <span class=\"icon-bar\">\\n       </span>\\n       <span class=\"icon-bar\">\\n       </span>\\n      </button>\\n     </div>\\n     <div class=\"collapse navbar-collapse\" id=\"top-nav\">\\n      <ul class=\"nav navbar-nav\">\\n       <li>\\n        <a href=\"http://www.weather.gov\">\\n         HOME\\n        </a>\\n       </li>\\n       <li class=\"dropdown\">\\n        <a class=\"dropdown-toggle\" data-toggle=\"dropdown\" href=\"http://www.weather.gov/forecastmaps\">\\n         FORECAST\\n         <span class=\"caret\">\\n         </span>\\n        </a>\\n        <ul class=\"dropdown-menu\" role=\"menu\">\\n         <li>\\n          <a href=\"http://www.weather.gov\">\\n           Local\\n          </a>\\n         </li>\\n         <li>\\n          <a href=\"http://digital.weather.gov\">\\n           Graphical\\n          </a>\\n         </li>\\n         <li>\\n          <a href=\"http://www.aviationweather.gov/\">\\n           Aviation\\n          </a>\\n         </li>\\n         <li>\\n          <a href=\"http://www.nws.noaa.gov/om/marine/home.htm\">\\n           Marine\\n          </a>\\n         </li>\\n         <li>\\n          <a href=\"http://water.weather.gov/ahps/\">\\n           Rivers and Lakes\\n          </a>\\n         </li>\\n         <li>\\n          <a href=\"http://www.nhc.noaa.gov/\">\\n           Hurricanes\\n          </a>\\n         </li>\\n         <li>\\n          <a href=\"http://www.spc.noaa.gov/\">\\n           Severe Weather\\n          </a>\\n         </li>\\n         <li>\\n          <a href=\"http://www.weather.gov/fire/\">\\n           Fire Weather\\n          </a>\\n         </li>\\n         <li>\\n          <a href=\"https://www.esrl.noaa.gov/gmd/grad/solcalc/sunrise.html\">\\n           Sun/Moon\\n          </a>\\n         </li>\\n         <li>\\n          <a href=\"http://www.cpc.ncep.noaa.gov/\">\\n           Long Range Forecasts\\n          </a>\\n         </li>\\n         <li>\\n          <a href=\"http://www.cpc.ncep.noaa.gov\">\\n           Climate Prediction\\n          </a>\\n         </li>\\n         <li>\\n          <a href=\"https://www.swpc.noaa.gov/\">\\n           Space Weather\\n          </a>\\n         </li>\\n        </ul>\\n       </li>\\n       <li class=\"dropdown\">\\n        <a class=\"dropdown-toggle\" data-toggle=\"dropdown\" href=\"https://w2.weather.gov/climate\">\\n         PAST WEATHER\\n         <span class=\"caret\">\\n         </span>\\n        </a>\\n        <ul class=\"dropdown-menu\" role=\"menu\">\\n         <li>\\n          <a href=\"https://w2.weather.gov/climate/\">\\n           Past Weather\\n          </a>\\n         </li>\\n         <li>\\n          <a href=\"https://w2.weather.gov/climate/\">\\n           Heating/Cooling Days\\n          </a>\\n         </li>\\n         <li>\\n          <a href=\"https://w2.weather.gov/climate/\">\\n           Monthly Temperatures\\n          </a>\\n         </li>\\n         <li>\\n          <a href=\"https://w2.weather.gov/climate/\">\\n           Records\\n          </a>\\n         </li>\\n         <li>\\n          <a href=\"http://aa.usno.navy.mil/\">\\n           Astronomical Data\\n          </a>\\n         </li>\\n        </ul>\\n       </li>\\n       <li class=\"dropdown\">\\n        <a class=\"dropdown-toggle\" data-toggle=\"dropdown\" href=\"http://www.weather.gov/safety\">\\n         SAFETY\\n         <span class=\"caret\">\\n         </span>\\n        </a>\\n        <ul class=\"dropdown-menu\" role=\"menu\">\\n         <li>\\n          <a href=\"https://www.weather.gov/safety/flood\">\\n           Floods\\n          </a>\\n         </li>\\n         <li>\\n          <a href=\"https://www.weather.gov/safety/tsunami\">\\n           Tsunamis\\n          </a>\\n         </li>\\n         <li>\\n          <a href=\"https://www.weather.gov/safety/beachhazards\">\\n           Beach Hazards\\n          </a>\\n         </li>\\n         <li>\\n          <a href=\"https://www.weather.gov/safety/wildfire\">\\n           Wildfire\\n          </a>\\n         </li>\\n         <li>\\n          <a href=\"https://www.weather.gov/safety/cold\">\\n           Cold\\n          </a>\\n         </li>\\n         <li>\\n          <a href=\"https://www.weather.gov/safety/tornado\">\\n           Tornadoes\\n          </a>\\n         </li>\\n         <li>\\n          <a href=\"https://www.weather.gov/safety/fog\">\\n           Fog\\n          </a>\\n         </li>\\n         <li>\\n          <a href=\"https://www.weather.gov/safety/airquality\">\\n           Air Quality\\n          </a>\\n         </li>\\n         <li>\\n          <a href=\"https://www.weather.gov/safety/heat\">\\n           Heat\\n          </a>\\n         </li>\\n         <li>\\n          <a href=\"https://www.weather.gov/safety/hurricane\">\\n           Hurricanes\\n          </a>\\n         </li>\\n         <li>\\n          <a href=\"https://www.weather.gov/safety/lightning\">\\n           Lightning\\n          </a>\\n         </li>\\n         <li>\\n          <a href=\"https://www.weather.gov/safety/ripcurrent\">\\n           Rip Currents\\n          </a>\\n         </li>\\n         <li>\\n          <a href=\"https://www.weather.gov/safety/safeboating\">\\n           Safe Boating\\n          </a>\\n         </li>\\n         <li>\\n          <a href=\"https://www.weather.gov/safety/thunderstorm\">\\n           Thunderstorms\\n          </a>\\n         </li>\\n         <li>\\n          <a href=\"https://www.weather.gov/safety/space\">\\n           Space Weather\\n          </a>\\n         </li>\\n         <li>\\n          <a href=\"https://www.weather.gov/safety/heat-uv\">\\n           Sun (Ultraviolet Radiation)\\n          </a>\\n         </li>\\n         <li>\\n          <a href=\"http://www.weather.gov/safetycampaign\">\\n           Safety Campaigns\\n          </a>\\n         </li>\\n         <li>\\n          <a href=\"https://www.weather.gov/safety/wind\">\\n           Wind\\n          </a>\\n         </li>\\n         <li>\\n          <a href=\"https://www.weather.gov/safety/drought\">\\n           Drought\\n          </a>\\n         </li>\\n         <li>\\n          <a href=\"https://www.weather.gov/safety/winter\">\\n           Winter Weather\\n          </a>\\n         </li>\\n        </ul>\\n       </li>\\n       <li class=\"dropdown\">\\n        <a class=\"dropdown-toggle\" data-toggle=\"dropdown\" href=\"http://www.weather.gov/informationcenter\">\\n         INFORMATION\\n         <span class=\"caret\">\\n         </span>\\n        </a>\\n        <ul class=\"dropdown-menu\" role=\"menu\">\\n         <li>\\n          <a href=\"http://www.weather.gov/Owlie\\'s\">\\n           Owlie\\'s Kids Page\\n          </a>\\n         </li>\\n         <li>\\n          <a href=\"http://www.weather.gov/wrn/wea\">\\n           Wireless Emergency Alerts\\n          </a>\\n         </li>\\n         <li>\\n          <a href=\"http://www.weather.gov/wrn/\">\\n           Weather-Ready Nation\\n          </a>\\n         </li>\\n         <li>\\n          <a href=\"https://www.weather.gov/owlie/publication_brochures\">\\n           Brochures\\n          </a>\\n         </li>\\n         <li>\\n          <a href=\"https://www.weather.gov/coop/\">\\n           Cooperative Observers\\n          </a>\\n         </li>\\n         <li>\\n          <a href=\"http://www.weather.gov/briefing/\">\\n           Daily Briefing\\n          </a>\\n         </li>\\n         <li>\\n          <a href=\"http://www.nws.noaa.gov/om/hazstats.shtml\">\\n           Damage/Fatality/Injury Statistics\\n          </a>\\n         </li>\\n         <li>\\n          <a href=\"http://mag.ncep.noaa.gov/\">\\n           Forecast Models\\n          </a>\\n         </li>\\n         <li>\\n          <a href=\"https://www.weather.gov/gis\">\\n           GIS Data Portal\\n          </a>\\n         </li>\\n         <li>\\n          <a href=\"https://www.weather.gov/nwr/\">\\n           NOAA Weather Radio\\n          </a>\\n         </li>\\n         <li>\\n          <a href=\"http://weather.gov/publications\">\\n           Publications\\n          </a>\\n         </li>\\n         <li>\\n          <a href=\"http://www.weather.gov/SKYWARN\">\\n           SKYWARN Storm Spotters\\n          </a>\\n         </li>\\n         <li>\\n          <a href=\"http://www.weather.gov/StormReady\">\\n           StormReady\\n          </a>\\n         </li>\\n         <li>\\n          <a href=\"https://www.weather.gov/TsunamiReady/\">\\n           TsunamiReady\\n          </a>\\n         </li>\\n         <li>\\n          <a href=\"https://www.weather.gov/notification/\">\\n           Service Change Notices\\n          </a>\\n         </li>\\n        </ul>\\n       </li>\\n       <li class=\"dropdown\">\\n        <a class=\"dropdown-toggle\" data-toggle=\"dropdown\" href=\"http://www.weather.gov/owlie\">\\n         EDUCATION\\n         <span class=\"caret\">\\n         </span>\\n        </a>\\n        <ul class=\"dropdown-menu\" role=\"menu\">\\n         <li>\\n          <a href=\"https://www.weather.gov/wrn/force\">\\n           Be A Force of Nature\\n          </a>\\n         </li>\\n         <li>\\n          <a href=\"http://www.weather.gov/owlie\">\\n           NWS Education Home\\n          </a>\\n         </li>\\n        </ul>\\n       </li>\\n       <li class=\"dropdown\">\\n        <a class=\"dropdown-toggle\" data-toggle=\"dropdown\" href=\"http://www.weather.gov/contact-media/\">\\n         NEWS\\n         <span class=\"caret\">\\n         </span>\\n        </a>\\n        <ul class=\"dropdown-menu\" role=\"menu\">\\n         <li>\\n          <a href=\"http://www.weather.gov/news\">\\n           NWS News\\n          </a>\\n         </li>\\n         <li>\\n          <a href=\"https://www.weather.gov/wrn/calendar\">\\n           Events\\n          </a>\\n         </li>\\n         <li>\\n          <a href=\"http://www.weather.gov/socialmedia\">\\n           Social Media\\n          </a>\\n         </li>\\n         <li>\\n          <a href=\"https://www.weather.gov/owlie/publication_brochures\">\\n           Pubs/Brochures/Booklets\\n          </a>\\n         </li>\\n         <li>\\n          <a href=\"http://www.noaa.gov/NOAA-Communications\">\\n           NWS Media Contacts\\n          </a>\\n         </li>\\n        </ul>\\n       </li>\\n       <li class=\"dropdown\">\\n        <a class=\"dropdown-toggle\" data-toggle=\"dropdown\" href=\"http://www.weather.gov/search\">\\n         SEARCH\\n         <span class=\"caret\">\\n         </span>\\n        </a>\\n        <ul class=\"dropdown-menu\" role=\"menu\">\\n         <li>\\n          <!-- Begin search code -->\\n          <div id=\"site-search\">\\n           <form action=\"//search.usa.gov/search\" method=\"get\" style=\"margin-bottom: 0; margin-top: 0;\">\\n            <input name=\"v:project\" type=\"hidden\" value=\"firstgov\"/>\\n            <label for=\"query\">\\n             Search For\\n            </label>\\n            <input id=\"query\" name=\"query\" size=\"12\" type=\"text\"/>\\n            <input type=\"submit\" value=\"Go\"/>\\n            <p>\\n             <input checked=\"checked\" id=\"nws\" name=\"affiliate\" type=\"radio\" value=\"nws.noaa.gov\"/>\\n             <label class=\"search-scope\" for=\"nws\">\\n              NWS\\n             </label>\\n             <input id=\"noaa\" name=\"affiliate\" type=\"radio\" value=\"noaa.gov\"/>\\n             <label class=\"search-scope\" for=\"noaa\">\\n              All NOAA\\n             </label>\\n            </p>\\n           </form>\\n          </div>\\n         </li>\\n        </ul>\\n       </li>\\n       <li class=\"dropdown\">\\n        <a class=\"dropdown-toggle\" data-toggle=\"dropdown\" href=\"http://www.weather.gov/about\">\\n         ABOUT\\n         <span class=\"caret\">\\n         </span>\\n        </a>\\n        <ul class=\"dropdown-menu\" role=\"menu\">\\n         <li>\\n          <a href=\"http://www.weather.gov/about\">\\n           About NWS\\n          </a>\\n         </li>\\n         <li>\\n          <a href=\"http://www.weather.gov/organization\">\\n           Organization\\n          </a>\\n         </li>\\n         <li>\\n          <a href=\"https://www.weather.gov/media/wrn/NWS_Weather-Ready-Nation_Strategic_Plan_2019-2022.pdf\">\\n           Strategic Plan\\n          </a>\\n         </li>\\n         <li>\\n          <a href=\"https://sites.google.com/a/noaa.gov/nws-insider/\">\\n           For NWS Employees\\n          </a>\\n         </li>\\n         <li>\\n          <a href=\"http://www.weather.gov/international/\">\\n           International\\n          </a>\\n         </li>\\n         <li>\\n          <a href=\"http://www.weather.gov/organization\">\\n           National Centers\\n          </a>\\n         </li>\\n         <li>\\n          <a href=\"http://www.weather.gov/careers/\">\\n           Careers\\n          </a>\\n         </li>\\n         <li>\\n          <a href=\"http://www.weather.gov/contact\">\\n           Contact Us\\n          </a>\\n         </li>\\n         <li>\\n          <a href=\"https://w1.weather.gov/glossary\">\\n           Glossary\\n          </a>\\n         </li>\\n        </ul>\\n       </li>\\n      </ul>\\n     </div>\\n    </div>\\n   </nav>\\n   <div class=\"contentArea\">\\n    <!-- Start Forecastsearch -->\\n    <div class=\"\" id=\"fcst-search\">\\n     <form action=\"https://forecast.weather.gov/zipcity.php\" class=\"form-inline\" id=\"getForecast\" method=\"get\" name=\"getForecast\" role=\"form\">\\n      <div id=\"getfcst-body\">\\n       <input class=\"form-control\" id=\"inputstring\" name=\"inputstring\" placeholder=\"\" type=\"text\"/>\\n       <input class=\"btn btn-default\" id=\"btnSearch\" name=\"btnSearch\" type=\"submit\" value=\"Go\"/>\\n       <div id=\"txtHelp\">\\n        <a href=\"javascript:void(window.open(\\'http://weather.gov/ForecastSearchHelp.html\\',\\'locsearchhelp\\',\\'status=0,toolbar=0,location=0,menubar=0,directories=0,resizable=1,scrollbars=1,height=500,width=530\\').focus());\">\\n         View Location Examples\\n        </a>\\n       </div>\\n      </div>\\n      <div id=\"txtError\">\\n       <div id=\"errorNoResults\" style=\"display:none;\">\\n        Sorry, the location you searched for was not found. Please try another search.\\n       </div>\\n       <div id=\"errorMultipleResults\" style=\"display:none\">\\n        Multiple locations were found. Please select one of the following:\\n       </div>\\n       <div id=\"errorChoices\" style=\"display:none\">\\n       </div>\\n       <input id=\"btnCloseError\" style=\"display:none\" type=\"button\" value=\"Close\"/>\\n      </div>\\n      <div id=\"getfcst-head\">\\n       <p>\\n        Your local forecast office is\\n       </p>\\n       <h3 id=\"getfcst-headOffice\">\\n       </h3>\\n      </div>\\n     </form>\\n    </div>\\n    <!-- end Forecastsearch -->\\n    <link href=\"/css/topnews.css\" rel=\"stylesheet\" type=\"text/css\"/>\\n    <div id=\"news-items\">\\n     <div class=\"important\" id=\"topnews\">\\n      <div class=\"icon\">\\n       <img src=\"/images/news-important.jpg\"/>\\n      </div>\\n      <div class=\"body\">\\n       <h1 style=\"font-size: 11pt;\">\\n        Major Storm To Barrel Through The East Today\\n       </h1>\\n       <p>\\n        A major storm system will barrel through the East today. Severe thunderstorms with tornadoes, damaging winds and hail will sweep through the Southeast and Mid-Atlantic. Locally heavy rain will be possible across the Northeast and lake effect snow is likely across the Upper Great Lakes. Finally, strong and gusty damaging winds are possible from the Great Lakes to the Northeast and Mid-Atlantic.\\n        <a href=\"http://www.spc.noaa.gov/products/outlook/day1otlk.html\" target=\"_blank\">\\n         Read More &gt;\\n        </a>\\n       </p>\\n      </div>\\n     </div>\\n    </div>\\n    <script type=\"text/javascript\">\\n     (function ($) { var topnews = $(\"#topnews\"); topnews.hide(); $.get(\"siteNews.php\", {a:\"mtr\"},function(response){ if (response !== \"false\") topnews.replaceWith($(response)); topnews.show(); }); })(jQuery);\\n    </script>\\n    <!-- PageFormat-Land -->\\n    <script language=\"javascript\">\\n     document.title = $(\\'<div/>\\').html(\\'7-Day Forecast for Latitude 37.77&deg;N and Longitude 122.41&deg;W (Elev. 131 ft)\\').text();\\n    </script>\\n    <img src=\"images/track_land_point.png\" style=\"display:none;\">\\n     <div id=\"quickLinks\">\\n      <span class=\"lang-spanish\">\\n       <a href=\"//forecast.weather.gov/MapClick.php?lat=37.7772&amp;lon=-122.4168&amp;lg=sp\">\\n        En Español\\n       </a>\\n      </span>\\n      <div class=\"addthis_toolbox addthis_default_style addthis-forecast\">\\n       <a class=\"addthis_button_compact\" href=\"//www.addthis.com/bookmark.php?v=250&amp;pubid=ra-5127a6364d551d04\">\\n        Share\\n       </a>\\n       <span class=\"addthis_separator\">\\n        |\\n       </span>\\n       <a class=\"addthis_button_preferred_1\">\\n       </a>\\n       <a class=\"addthis_button_preferred_2\">\\n       </a>\\n       <a class=\"addthis_button_preferred_3\">\\n       </a>\\n       <a class=\"addthis_button_preferred_4\">\\n       </a>\\n       <a class=\"addthis_button_preferred_5\">\\n       </a>\\n      </div>\\n      <script type=\"text/javascript\">\\n       var addthis_config = addthis_config || {data_track_addressbar:true, pubid: \\'xa-4b05b2d91f18c9cc\\'};\\n\\t    $(document).ready(function(){\\n\\t\\t\\tjQuery.ajax({\\n\\t\\t\\t\\turl: \"//s7.addthis.com/js/300/addthis_widget.js#async=1\",\\n\\t\\t\\t\\tdataType: \"script\",\\n\\t\\t\\t\\tcache: false\\n\\t\\t\\t});\\n\\t    });\\n      </script>\\n     </div>\\n     <!-- Current Conditions -->\\n     <div class=\"panel panel-default\" id=\"current-conditions\">\\n      <!-- Current Conditions header row -->\\n      <div class=\"panel-heading\">\\n       <div>\\n        <b>\\n         Current conditions at\\n        </b>\\n        <h2 class=\"panel-title\">\\n         SAN FRANCISCO DOWNTOWN (SFOC1)\\n        </h2>\\n        <span class=\"smallTxt\">\\n         <b>\\n          Lat:\\n         </b>\\n         37.77056°N\\n         <b>\\n          Lon:\\n         </b>\\n         122.42694°W\\n         <b>\\n          Elev:\\n         </b>\\n         150ft.\\n        </span>\\n       </div>\\n      </div>\\n      <div class=\"panel-body\" id=\"current-conditions-body\">\\n       <!-- Graphic and temperatures -->\\n       <div class=\"pull-left\" id=\"current_conditions-summary\">\\n        <p class=\"myforecast-current\">\\n         NA\\n        </p>\\n        <p class=\"myforecast-current-lrg\">\\n         52°F\\n        </p>\\n        <p class=\"myforecast-current-sm\">\\n         11°C\\n        </p>\\n       </div>\\n       <div class=\"pull-left\" id=\"current_conditions_detail\">\\n        <table>\\n         <tr>\\n          <td class=\"text-right\">\\n           <b>\\n            Humidity\\n           </b>\\n          </td>\\n          <td>\\n           75%\\n          </td>\\n         </tr>\\n         <tr>\\n          <td class=\"text-right\">\\n           <b>\\n            Wind Speed\\n           </b>\\n          </td>\\n          <td>\\n           NA NA MPH\\n          </td>\\n         </tr>\\n         <tr>\\n          <td class=\"text-right\">\\n           <b>\\n            Barometer\\n           </b>\\n          </td>\\n          <td>\\n           1018.63 mb\\n          </td>\\n         </tr>\\n         <tr>\\n          <td class=\"text-right\">\\n           <b>\\n            Dewpoint\\n           </b>\\n          </td>\\n          <td>\\n           44°F (7°C)\\n          </td>\\n         </tr>\\n         <tr>\\n          <td class=\"text-right\">\\n           <b>\\n            Visibility\\n           </b>\\n          </td>\\n          <td>\\n           NA\\n          </td>\\n         </tr>\\n         <tr>\\n          <td class=\"text-right\">\\n           <b>\\n            Last update\\n           </b>\\n          </td>\\n          <td>\\n           13 Apr 07:43 AM PDT\\n          </td>\\n         </tr>\\n        </table>\\n       </div>\\n       <div id=\"current_conditions_station\">\\n        <div class=\"current-conditions-extra\">\\n         <!-- Right hand section -->\\n         <p class=\"moreInfo\">\\n          <b>\\n           More Information:\\n          </b>\\n         </p>\\n         <p>\\n          <a href=\"https://www.weather.gov/mtr\" id=\"localWFO\" title=\"San Francisco Bay Area/Monterey, CA\">\\n           <span class=\"hideText\">\\n            Local\\n           </span>\\n           Forecast Office\\n          </a>\\n          <a href=\"https://www.weather.gov/wrh/LocalWeather?zone=CAZ006\" id=\"moreWx\">\\n           More Local Wx\\n          </a>\\n          <a href=\"https://www.wrh.noaa.gov/mesowest/getobext.php?wfo=mtr&amp;sid=SFOC1&amp;num=72&amp;raw=0\">\\n           3 Day History\\n          </a>\\n          <a href=\"//mobile.weather.gov/index.php?lat=37.7772&amp;lon=-122.4168&amp;unit=0&amp;lg=english\" id=\"mobileWxLink\">\\n           Mobile Weather\\n          </a>\\n          <a href=\"MapClick.php?lat=37.7772&amp;lon=-122.4168&amp;unit=0&amp;lg=english&amp;FcstType=graphical\" id=\"wxGraph\">\\n           Hourly\\n           <span class=\"hideText\">\\n            Weather\\n           </span>\\n           Forecast\\n          </a>\\n         </p>\\n        </div>\\n        <!-- /current_conditions_station -->\\n       </div>\\n       <!-- /current-conditions-body -->\\n      </div>\\n      <!-- /Current Conditions -->\\n     </div>\\n     <!-- 7-Day Forecast -->\\n     <div class=\"panel panel-default\" id=\"seven-day-forecast\">\\n      <div class=\"panel-heading\">\\n       <b>\\n        Extended Forecast for\\n       </b>\\n       <h2 class=\"panel-title\">\\n        San Francisco CA\\n       </h2>\\n      </div>\\n      <div class=\"panel-body\" id=\"seven-day-forecast-body\">\\n       <div id=\"seven-day-forecast-container\">\\n        <ul class=\"list-unstyled\" id=\"seven-day-forecast-list\">\\n         <li class=\"forecast-tombstone\">\\n          <div class=\"tombstone-container\">\\n           <p class=\"period-name\">\\n            Today\\n            <br/>\\n            <br/>\\n           </p>\\n           <p>\\n            <img alt=\"Today: Mostly cloudy, then gradually becoming sunny, with a high near 66. Light south southwest wind becoming west 6 to 11 mph in the afternoon. \" class=\"forecast-icon\" src=\"newimages/medium/bkn.png\" title=\"Today: Mostly cloudy, then gradually becoming sunny, with a high near 66. Light south southwest wind becoming west 6 to 11 mph in the afternoon. \"/>\\n           </p>\\n           <p class=\"short-desc\">\\n            Decreasing\\n            <br/>\\n            Clouds\\n           </p>\\n           <p class=\"temp temp-high\">\\n            High: 66 °F\\n           </p>\\n          </div>\\n         </li>\\n         <li class=\"forecast-tombstone\">\\n          <div class=\"tombstone-container\">\\n           <p class=\"period-name\">\\n            Tonight\\n            <br/>\\n            <br/>\\n           </p>\\n           <p>\\n            <img alt=\"Tonight: Mostly clear, with a low around 51. West wind 6 to 11 mph becoming light  in the evening. \" class=\"forecast-icon\" src=\"newimages/medium/nfew.png\" title=\"Tonight: Mostly clear, with a low around 51. West wind 6 to 11 mph becoming light  in the evening. \"/>\\n           </p>\\n           <p class=\"short-desc\">\\n            Mostly Clear\\n           </p>\\n           <p class=\"temp temp-low\">\\n            Low: 51 °F\\n           </p>\\n          </div>\\n         </li>\\n         <li class=\"forecast-tombstone\">\\n          <div class=\"tombstone-container\">\\n           <p class=\"period-name\">\\n            Tuesday\\n            <br/>\\n            <br/>\\n           </p>\\n           <p>\\n            <img alt=\"Tuesday: Sunny, with a high near 73. North wind 5 to 10 mph becoming west in the afternoon. \" class=\"forecast-icon\" src=\"newimages/medium/few.png\" title=\"Tuesday: Sunny, with a high near 73. North wind 5 to 10 mph becoming west in the afternoon. \"/>\\n           </p>\\n           <p class=\"short-desc\">\\n            Sunny\\n           </p>\\n           <p class=\"temp temp-high\">\\n            High: 73 °F\\n           </p>\\n          </div>\\n         </li>\\n         <li class=\"forecast-tombstone\">\\n          <div class=\"tombstone-container\">\\n           <p class=\"period-name\">\\n            Tuesday\\n            <br/>\\n            Night\\n           </p>\\n           <p>\\n            <img alt=\"Tuesday Night: Mostly clear, with a low around 51. West wind 6 to 11 mph becoming light southwest  in the evening. \" class=\"forecast-icon\" src=\"newimages/medium/nfew.png\" title=\"Tuesday Night: Mostly clear, with a low around 51. West wind 6 to 11 mph becoming light southwest  in the evening. \"/>\\n           </p>\\n           <p class=\"short-desc\">\\n            Mostly Clear\\n           </p>\\n           <p class=\"temp temp-low\">\\n            Low: 51 °F\\n           </p>\\n          </div>\\n         </li>\\n         <li class=\"forecast-tombstone\">\\n          <div class=\"tombstone-container\">\\n           <p class=\"period-name\">\\n            Wednesday\\n            <br/>\\n            <br/>\\n           </p>\\n           <p>\\n            <img alt=\"Wednesday: Mostly sunny, with a high near 69. Calm wind becoming west 5 to 9 mph in the afternoon. \" class=\"forecast-icon\" src=\"newimages/medium/sct.png\" title=\"Wednesday: Mostly sunny, with a high near 69. Calm wind becoming west 5 to 9 mph in the afternoon. \"/>\\n           </p>\\n           <p class=\"short-desc\">\\n            Mostly Sunny\\n           </p>\\n           <p class=\"temp temp-high\">\\n            High: 69 °F\\n           </p>\\n          </div>\\n         </li>\\n         <li class=\"forecast-tombstone\">\\n          <div class=\"tombstone-container\">\\n           <p class=\"period-name\">\\n            Wednesday\\n            <br/>\\n            Night\\n           </p>\\n           <p>\\n            <img alt=\"Wednesday Night: Partly cloudy, with a low around 52.\" class=\"forecast-icon\" src=\"newimages/medium/nsct.png\" title=\"Wednesday Night: Partly cloudy, with a low around 52.\"/>\\n           </p>\\n           <p class=\"short-desc\">\\n            Partly Cloudy\\n           </p>\\n           <p class=\"temp temp-low\">\\n            Low: 52 °F\\n           </p>\\n          </div>\\n         </li>\\n         <li class=\"forecast-tombstone\">\\n          <div class=\"tombstone-container\">\\n           <p class=\"period-name\">\\n            Thursday\\n            <br/>\\n            <br/>\\n           </p>\\n           <p>\\n            <img alt=\"Thursday: Mostly sunny, with a high near 66.\" class=\"forecast-icon\" src=\"newimages/medium/sct.png\" title=\"Thursday: Mostly sunny, with a high near 66.\"/>\\n           </p>\\n           <p class=\"short-desc\">\\n            Mostly Sunny\\n           </p>\\n           <p class=\"temp temp-high\">\\n            High: 66 °F\\n           </p>\\n          </div>\\n         </li>\\n         <li class=\"forecast-tombstone\">\\n          <div class=\"tombstone-container\">\\n           <p class=\"period-name\">\\n            Thursday\\n            <br/>\\n            Night\\n           </p>\\n           <p>\\n            <img alt=\"Thursday Night: Partly cloudy, with a low around 53.\" class=\"forecast-icon\" src=\"newimages/medium/nsct.png\" title=\"Thursday Night: Partly cloudy, with a low around 53.\"/>\\n           </p>\\n           <p class=\"short-desc\">\\n            Partly Cloudy\\n           </p>\\n           <p class=\"temp temp-low\">\\n            Low: 53 °F\\n           </p>\\n          </div>\\n         </li>\\n         <li class=\"forecast-tombstone\">\\n          <div class=\"tombstone-container\">\\n           <p class=\"period-name\">\\n            Friday\\n            <br/>\\n            <br/>\\n           </p>\\n           <p>\\n            <img alt=\"Friday: Mostly sunny, with a high near 65.\" class=\"forecast-icon\" src=\"newimages/medium/sct.png\" title=\"Friday: Mostly sunny, with a high near 65.\"/>\\n           </p>\\n           <p class=\"short-desc\">\\n            Mostly Sunny\\n           </p>\\n           <p class=\"temp temp-high\">\\n            High: 65 °F\\n           </p>\\n          </div>\\n         </li>\\n        </ul>\\n       </div>\\n       <script type=\"text/javascript\">\\n        // equalize forecast heights\\n$(function () {\\n\\tvar maxh = 0;\\n\\t$(\".forecast-tombstone .short-desc\").each(function () {\\n\\t\\tvar h = $(this).height();\\n\\t\\tif (h > maxh) { maxh = h; }\\n\\t});\\n\\t$(\".forecast-tombstone .short-desc\").height(maxh);\\n});\\n       </script>\\n      </div>\\n     </div>\\n     <!-- Everything between 7-Day Forecast and Footer goes in this row -->\\n     <div class=\"row\" id=\"floatingDivs\">\\n      <!-- Everything on the left-hand side -->\\n      <div class=\"col-md-7 col-lg-8\">\\n       <!-- Detailed Forecast -->\\n       <div class=\"panel panel-default\" id=\"detailed-forecast\">\\n        <div class=\"panel-heading\">\\n         <h2 class=\"panel-title\">\\n          Detailed Forecast\\n         </h2>\\n        </div>\\n        <div class=\"panel-body\" id=\"detailed-forecast-body\">\\n         <div class=\"row row-odd row-forecast\">\\n          <div class=\"col-sm-2 forecast-label\">\\n           <b>\\n            Today\\n           </b>\\n          </div>\\n          <div class=\"col-sm-10 forecast-text\">\\n           Mostly cloudy, then gradually becoming sunny, with a high near 66. Light south southwest wind becoming west 6 to 11 mph in the afternoon.\\n          </div>\\n         </div>\\n         <div class=\"row row-even row-forecast\">\\n          <div class=\"col-sm-2 forecast-label\">\\n           <b>\\n            Tonight\\n           </b>\\n          </div>\\n          <div class=\"col-sm-10 forecast-text\">\\n           Mostly clear, with a low around 51. West wind 6 to 11 mph becoming light  in the evening.\\n          </div>\\n         </div>\\n         <div class=\"row row-odd row-forecast\">\\n          <div class=\"col-sm-2 forecast-label\">\\n           <b>\\n            Tuesday\\n           </b>\\n          </div>\\n          <div class=\"col-sm-10 forecast-text\">\\n           Sunny, with a high near 73. North wind 5 to 10 mph becoming west in the afternoon.\\n          </div>\\n         </div>\\n         <div class=\"row row-even row-forecast\">\\n          <div class=\"col-sm-2 forecast-label\">\\n           <b>\\n            Tuesday Night\\n           </b>\\n          </div>\\n          <div class=\"col-sm-10 forecast-text\">\\n           Mostly clear, with a low around 51. West wind 6 to 11 mph becoming light southwest  in the evening.\\n          </div>\\n         </div>\\n         <div class=\"row row-odd row-forecast\">\\n          <div class=\"col-sm-2 forecast-label\">\\n           <b>\\n            Wednesday\\n           </b>\\n          </div>\\n          <div class=\"col-sm-10 forecast-text\">\\n           Mostly sunny, with a high near 69. Calm wind becoming west 5 to 9 mph in the afternoon.\\n          </div>\\n         </div>\\n         <div class=\"row row-even row-forecast\">\\n          <div class=\"col-sm-2 forecast-label\">\\n           <b>\\n            Wednesday Night\\n           </b>\\n          </div>\\n          <div class=\"col-sm-10 forecast-text\">\\n           Partly cloudy, with a low around 52.\\n          </div>\\n         </div>\\n         <div class=\"row row-odd row-forecast\">\\n          <div class=\"col-sm-2 forecast-label\">\\n           <b>\\n            Thursday\\n           </b>\\n          </div>\\n          <div class=\"col-sm-10 forecast-text\">\\n           Mostly sunny, with a high near 66.\\n          </div>\\n         </div>\\n         <div class=\"row row-even row-forecast\">\\n          <div class=\"col-sm-2 forecast-label\">\\n           <b>\\n            Thursday Night\\n           </b>\\n          </div>\\n          <div class=\"col-sm-10 forecast-text\">\\n           Partly cloudy, with a low around 53.\\n          </div>\\n         </div>\\n         <div class=\"row row-odd row-forecast\">\\n          <div class=\"col-sm-2 forecast-label\">\\n           <b>\\n            Friday\\n           </b>\\n          </div>\\n          <div class=\"col-sm-10 forecast-text\">\\n           Mostly sunny, with a high near 65.\\n          </div>\\n         </div>\\n         <div class=\"row row-even row-forecast\">\\n          <div class=\"col-sm-2 forecast-label\">\\n           <b>\\n            Friday Night\\n           </b>\\n          </div>\\n          <div class=\"col-sm-10 forecast-text\">\\n           Partly cloudy, with a low around 53.\\n          </div>\\n         </div>\\n         <div class=\"row row-odd row-forecast\">\\n          <div class=\"col-sm-2 forecast-label\">\\n           <b>\\n            Saturday\\n           </b>\\n          </div>\\n          <div class=\"col-sm-10 forecast-text\">\\n           Partly sunny, with a high near 64.\\n          </div>\\n         </div>\\n         <div class=\"row row-even row-forecast\">\\n          <div class=\"col-sm-2 forecast-label\">\\n           <b>\\n            Saturday Night\\n           </b>\\n          </div>\\n          <div class=\"col-sm-10 forecast-text\">\\n           Mostly cloudy, with a low around 52.\\n          </div>\\n         </div>\\n         <div class=\"row row-odd row-forecast\">\\n          <div class=\"col-sm-2 forecast-label\">\\n           <b>\\n            Sunday\\n           </b>\\n          </div>\\n          <div class=\"col-sm-10 forecast-text\">\\n           Partly sunny, with a high near 63.\\n          </div>\\n         </div>\\n        </div>\\n       </div>\\n       <!-- /Detailed Forecast -->\\n       <!-- Additional Forecasts and Information -->\\n       <div class=\"panel panel-default\" id=\"additional_forecasts\">\\n        <div class=\"panel-heading\">\\n         <h2 class=\"panel-title\">\\n          Additional Forecasts and Information\\n         </h2>\\n        </div>\\n        <div class=\"panel-body\" id=\"additional-forecasts-body\">\\n         <p class=\"myforecast-location\">\\n          <a href=\"MapClick.php?zoneid=CAZ006\">\\n           Zone Area Forecast for San Francisco County, CA\\n          </a>\\n         </p>\\n         <!-- First nine-ten links -->\\n         <div id=\"linkBlockContainer\">\\n          <div class=\"linkBlock\">\\n           <ul class=\"list-unstyled\">\\n            <li>\\n             <a href=\"//forecast.weather.gov/product.php?site=MTR&amp;issuedby=MTR&amp;product=AFD&amp;format=CI&amp;version=1&amp;glossary=1\">\\n              Forecast Discussion\\n             </a>\\n            </li>\\n            <li>\\n             <a href=\"MapClick.php?lat=37.7772&amp;lon=-122.4168&amp;unit=0&amp;lg=english&amp;FcstType=text&amp;TextType=2\">\\n              Printable Forecast\\n             </a>\\n            </li>\\n            <li>\\n             <a href=\"MapClick.php?lat=37.7772&amp;lon=-122.4168&amp;unit=0&amp;lg=english&amp;FcstType=text&amp;TextType=1\">\\n              Text Only Forecast\\n             </a>\\n            </li>\\n           </ul>\\n          </div>\\n          <div class=\"linkBlock\">\\n           <ul class=\"list-unstyled\">\\n            <li>\\n             <a href=\"MapClick.php?lat=37.7772&amp;lon=-122.4168&amp;unit=0&amp;lg=english&amp;FcstType=graphical\">\\n              Hourly Weather Forecast\\n             </a>\\n            </li>\\n            <li>\\n             <a href=\"MapClick.php?lat=37.7772&amp;lon=-122.4168&amp;unit=0&amp;lg=english&amp;FcstType=digital\">\\n              Tabular Forecast\\n             </a>\\n            </li>\\n            <!-- <li><a href=\"afm/PointClick.php?lat=37.7772&lon=-122.4168\">Quick Forecast</a></li> -->\\n           </ul>\\n          </div>\\n          <div class=\"linkBlock\">\\n           <ul class=\"list-unstyled\">\\n            <li>\\n             <a href=\"//weather.gov/aq/probe_aq_data.php?latitude=37.7772&amp;longitude=-122.4168\">\\n              Air Quality Forecasts\\n             </a>\\n            </li>\\n            <li>\\n             <a href=\"MapClick.php?lat=37.7772&amp;lon=-122.4168&amp;FcstType=text&amp;unit=1&amp;lg=en\">\\n              International System of Units\\n             </a>\\n            </li>\\n            <li>\\n             <a href=\"//www.wrh.noaa.gov/forecast/wxtables/index.php?lat=37.7772&amp;lon=-122.4168\">\\n              Forecast Weather Table Interface\\n             </a>\\n            </li>\\n           </ul>\\n          </div>\\n          <!-- /First nine-ten links -->\\n          <!-- Additional links -->\\n          <div class=\"linkBlock\">\\n           <ul class=\"list-unstyled\">\\n            <li>\\n             <a href=\"http://www.wrh.noaa.gov/mtr/versprod.php?pil=RR8&amp;sid=RSA\" target=\"_self\">\\n              Hourly River Stages\\n             </a>\\n            </li>\\n            <li>\\n             <a href=\"http://www.wrh.noaa.gov/mtr/versprod.php?pil=RR5&amp;sid=RSA\" target=\"_self\">\\n              Hourly Rainfall\\n             </a>\\n            </li>\\n           </ul>\\n          </div>\\n          <div class=\"linkBlock\">\\n           <ul class=\"list-unstyled\">\\n            <li>\\n             <a href=\"http://www.wrh.noaa.gov/mtr/wxlinks.php\" target=\"_self\">\\n              NWS Office Map\\n             </a>\\n            </li>\\n            <li>\\n             <a href=\"http://www.wrh.noaa.gov/mtr/wx_calculator.php\" target=\"_self\">\\n              Weather Calculator\\n             </a>\\n            </li>\\n           </ul>\\n          </div>\\n          <div class=\"linkBlock\">\\n           <ul class=\"list-unstyled\">\\n            <li>\\n             <a href=\"http://www.nws.noaa.gov/wtf/udaf/area/?site=mtr\" target=\"_self\">\\n              User Defined Area\\n             </a>\\n            </li>\\n           </ul>\\n          </div>\\n         </div>\\n         <!-- /linkBlockContainer -->\\n        </div>\\n        <!-- /additional-forecasts-body-->\\n       </div>\\n       <!-- /additional_forecasts -->\\n      </div>\\n      <!-- /Everything on the left-hand side -->\\n      <!-- right-side-data -->\\n      <div class=\"col-md-5 col-lg-4\" id=\"right-side-data\">\\n       <div id=\"mapAndDescriptionArea\">\\n        <!-- openlayer map -->\\n        <style>\\n         #custom-search{\\ndisplay: block;\\nposition: relative;\\nz-index: 50;\\ntop: 52px;\\nleft: 60px;\\n}\\n#esri-geocoder-search{\\ndisplay: block;\\nposition: relative;\\nz-index: 50;\\ntop: 52px;\\nleft: 60px;\\n}\\n#emap{\\nmargin-top:15px;\\ncursor:pointer;\\nheight:370px;\\nwidth:100%;\\nborder: 1px solid #ccc;\\nborder-radius: 3px;\\n}\\n#switch-basemap-container{\\n}\\n#basemap-selection-form ul{\\nlist-style: none;\\n margin: 0px;\\n}\\n#basemap-selection-form li{\\nfloat: left;\\n}\\n.disclaimer{\\nmargin-top:350px;\\nmargin-left: 5px;\\nz-index: 100;\\nposition: absolute;\\ntext-transform: none;\\n}\\n.esriAttributionLastItem{\\ntext-transform: none;\\n}\\n.esriSimpleSlider div{\\nheight:22px;\\nline-height:20px;\\nwidth:20px;\\n}\\n#point-forecast-map-label {\\ntext-align:center;\\nfont-weight:bold;\\ncolor:black;\\n}\\n@media (max-width: 767px) {\\n#emap{\\nmargin-top:.5em;\\nheight:270px;\\n}\\n.disclaimer{\\nmargin-top:250px;\\n}\\n}\\n        </style>\\n        <!-- forecast-map -->\\n        <div class=\"point-forecast-map\">\\n         <div class=\"point-forecast-map-header text-center\">\\n          <div id=\"toolbar\">\\n           <div id=\"switch-basemap-container\">\\n            <div id=\"basemap-selection-form\" title=\"Choose a Basemap\">\\n             <div id=\"basemap-menu\">\\n              <select autocomplete=\"off\" id=\"basemap-selected\" name=\"basemap-selected\" title=\"Basemap Dropdown Menu\">\\n               <option value=\"none\">\\n                Select Basemap\\n               </option>\\n               <option selected=\"\" value=\"topo\">\\n                Topographic\\n               </option>\\n               <option value=\"streets\">\\n                Streets\\n               </option>\\n               <option value=\"satellite\">\\n                Satellite\\n               </option>\\n               <option value=\"ocean\">\\n                Ocean\\n               </option>\\n              </select>\\n             </div>\\n            </div>\\n            <div id=\"point-forecast-map-label\">\\n             Click Map For Forecast\\n            </div>\\n           </div>\\n           <!-- //#switch-basemap-container -->\\n           <div style=\"clear:both;\">\\n           </div>\\n          </div>\\n          <!-- //#toolbar -->\\n         </div>\\n         <!-- //.point-forecast-map-header -->\\n         <div id=\"emap\">\\n          <noscript>\\n           <center>\\n            <br/>\\n            <br/>\\n            <b>\\n             Map function requires Javascript and a compatible browser.\\n            </b>\\n           </center>\\n          </noscript>\\n          <div class=\"disclaimer\">\\n           <a href=\"http://www.weather.gov/disclaimer#esri\">\\n            Disclaimer\\n           </a>\\n          </div>\\n         </div>\\n         <!-- //#emap -->\\n         <div class=\"point-forecast-map-footer\">\\n          <img alt=\"Map Legend\" height=\"16\" src=\"./images/wtf/maplegend_forecast-area.gif\" width=\"100\"/>\\n         </div>\\n         <!-- //.point-forecast-map-footer -->\\n        </div>\\n        <!-- //.point-forecast-map -->\\n        <!-- //forecast-map -->\\n        <!-- //openlayer map -->\\n        <!-- About this Forecast -->\\n        <div id=\"about_forecast\">\\n         <div class=\"fullRow\">\\n          <div class=\"left\">\\n           Point Forecast:\\n          </div>\\n          <div class=\"right\">\\n           San Francisco CA\\n           <br/>\\n           37.77°N 122.41°W (Elev. 131 ft)\\n          </div>\\n         </div>\\n         <div class=\"fullRow\">\\n          <div class=\"left\">\\n           <a href=\"//www.weather.gov/glossary/index.php?word=Last+update\" target=\"_blank\">\\n            Last Update\\n           </a>\\n           :\\n          </div>\\n          <div class=\"right\">\\n           4:02 am PDT Apr 13, 2020\\n          </div>\\n         </div>\\n         <div class=\"fullRow\">\\n          <div class=\"left\">\\n           <a href=\"//www.weather.gov/glossary/index.php?word=forecast+valid+for\" target=\"_blank\">\\n            Forecast Valid\\n           </a>\\n           :\\n          </div>\\n          <div class=\"right\">\\n           8am PDT Apr 13, 2020-6pm PDT Apr 19, 2020\\n          </div>\\n         </div>\\n         <div class=\"fullRow\">\\n          <div class=\"left\">\\n          </div>\\n          <div class=\"right\">\\n           <a href=\"https://forecast.weather.gov/product.php?site=MTR&amp;issuedby=MTR&amp;product=AFD&amp;format=CI&amp;version=1&amp;glossary=1\">\\n            Forecast Discussion\\n           </a>\\n          </div>\\n         </div>\\n         <div class=\"fullRow\">\\n          <div class=\"left\">\\n          </div>\\n          <div class=\"right\">\\n           <a href=\"MapClick.php?lat=37.7772&amp;lon=-122.4168&amp;unit=0&amp;lg=english&amp;FcstType=kml\">\\n            <img alt=\"Get as KML\" height=\"17\" src=\"/images/wtf/kml_badge.png\" width=\"45\"/>\\n           </a>\\n           <a href=\"MapClick.php?lat=37.7772&amp;lon=-122.4168&amp;unit=0&amp;lg=english&amp;FcstType=dwml\">\\n            <img alt=\"Get as XML\" height=\"17\" src=\"/images/wtf/xml_badge.png\" width=\"45\"/>\\n           </a>\\n          </div>\\n         </div>\\n        </div>\\n        <!-- /About this Forecast -->\\n       </div>\\n       <!--additionalForecast-->\\n       <div class=\"panel panel-default\" id=\"additionalForecast\">\\n        <div class=\"panel-heading\">\\n         <h2 class=\"panel-title\">\\n          Additional Resources\\n         </h2>\\n        </div>\\n        <div class=\"panel-body\">\\n         <!-- Radar & Satellite Images -->\\n         <div class=\"subItem\" id=\"radar\">\\n          <h4>\\n           Radar &amp; Satellite Image\\n          </h4>\\n          <a href=\"//radar.weather.gov/radar.php?rid=mux&amp;product=N0R&amp;overlay=11101111&amp;loop=no\">\\n           <img alt=\"Link to Local Radar Data\" class=\"radar-thumb\" src=\"//radar.weather.gov/Thumbs/MUX_Thumb.gif\" title=\"Link to Local Radar Data\"/>\\n          </a>\\n          <a href=\"https://www.star.nesdis.noaa.gov/GOES/sector.php?sat=G17§or=psw\">\\n           <img alt=\"Link to Satellite Data\" class=\"satellite-thumb\" src=\"https://cdn.star.nesdis.noaa.gov/GOES17/ABI/SECTOR/psw/GEOCOLOR/600x600.jpg\" title=\"Link to Satellite Data\"/>\\n          </a>\\n         </div>\\n         <!-- /Radar & Satellite Images -->\\n         <!-- Hourly Weather Forecast -->\\n         <div class=\"subItem\" id=\"feature\">\\n          <h4>\\n           Hourly Weather Forecast\\n          </h4>\\n          <a href=\"MapClick.php?lat=37.7772&amp;lon=-122.4168&amp;unit=0&amp;lg=english&amp;FcstType=graphical\">\\n           <img class=\"img-responsive\" src=\"newimages/medium/hourlyweather.png\"/>\\n          </a>\\n         </div>\\n         <!-- /Hourly Weather Forecast -->\\n         <!-- NDFD -->\\n         <div class=\"subItem\" id=\"NDFD\">\\n          <h4>\\n           National Digital Forecast Database\\n          </h4>\\n          <div class=\"one-sixth-first\">\\n           <a href=\"//graphical.weather.gov/sectors/pacsouthwest.php?element=MaxT\">\\n            <img alt=\"National Digital Forecast Database Maximum Temperature Forecast\" border=\"0\" height=\"150\" src=\"//graphical.weather.gov/images/thumbnail/latest_MaxMinT_pacsouthwest_thumbnail.png\" title=\"National Digital Forecast Database Maximum Temperature Forecast\" width=\"147\"/>\\n           </a>\\n           <p>\\n            <a href=\"//graphical.weather.gov/sectors/pacsouthwest.php?element=MaxT\">\\n             High Temperature\\n            </a>\\n           </p>\\n          </div>\\n          <div class=\"one-sixth-first\">\\n           <a href=\"//graphical.weather.gov/sectors/pacsouthwest.php?element=Wx\">\\n            <img alt=\"National Digital Forecast Database Weather Element Forecast\" border=\"0\" height=\"150\" src=\"//graphical.weather.gov/images/thumbnail/latest_Wx_pacsouthwest_thumbnail.png\" title=\"National Digital Forecast Database Weather Element Forecast\" width=\"147\"/>\\n           </a>\\n           <p>\\n            <a href=\"//graphical.weather.gov/sectors/pacsouthwest.php?element=Wx\">\\n             Chance of Precipitation\\n            </a>\\n           </p>\\n          </div>\\n         </div>\\n         <!-- /NDFD -->\\n        </div>\\n       </div>\\n       <!-- /additionalForecast -->\\n      </div>\\n      <!-- /col-md-4 -->\\n      <!-- /right-side-data -->\\n      <script language=\"javascript\">\\n       $( document ).ready(function() { load_openlayers_map(\\'\\', \\'\\', \\'\\', \\'{\"centroid_lat\":\"37.7772\",\"centroid_lon\":\"-122.4168\",\"lat1\":\"37.7595\",\"lon1\":\"-122.4205\",\"lat2\":\"37.781\",\"lon2\":\"-122.426\",\"lat3\":\"37.7855\",\"lon3\":\"-122.3985\",\"lat4\":\"37.764\",\"lon4\":\"-122.393\"}\\') });\\n      </script>\\n     </div>\\n     <!-- /row  -->\\n    </img>\\n   </div>\\n   <!-- /PageFormat-Land -->\\n  </main>\\n </body>\\n</html>\\n<footer>\\n <div class=\"sitemap-content row\" id=\"sitemap\">\\n  <div class=\"col-xs-12\">\\n   <div class=\"sitemap-columns\">\\n    <div class=\"sitemap-section\">\\n     <div class=\"panel-heading\">\\n      <a class=\"sitemap-section-heading\" href=\" http://www.nws.noaa.gov/climate/\">\\n       PAST WEATHER\\n      </a>\\n      <button class=\"menu-toggle pull-right\" data-target=\"#sitemap-1\" data-toggle=\"collapse\" type=\"button\">\\n       <span class=\"sr-only\">\\n        Toggle menu\\n       </span>\\n       <span class=\"icon-bar\">\\n       </span>\\n       <span class=\"icon-bar\">\\n       </span>\\n       <span class=\"icon-bar\">\\n       </span>\\n      </button>\\n     </div>\\n     <div class=\"sitemap-section-body panel-body collapsable collapse\" id=\"sitemap-1\">\\n      <ul class=\"list-unstyled\">\\n       <li>\\n        <a href=\" http://www.cpc.ncep.noaa.gov/products/MD_index.shtml\">\\n         Climate Monitoring\\n        </a>\\n       </li>\\n       <li>\\n        <a href=\"https://w2.weather.gov/climate/\">\\n         Past Weather\\n        </a>\\n       </li>\\n       <li>\\n        <a href=\" http://www.nws.noaa.gov/climate/\">\\n         Monthly Temps\\n        </a>\\n       </li>\\n       <li>\\n        <a href=\" http://www.nws.noaa.gov/climate/\">\\n         Records\\n        </a>\\n       </li>\\n       <li>\\n        <a href=\"https://www.esrl.noaa.gov/gmd/grad/solcalc/sunrise.html\">\\n         Astronomical Data\\n        </a>\\n       </li>\\n       <li>\\n        <a href=\"https://www.climate.gov/maps-data/dataset/past-weather-zip-code-data-table\">\\n         Certified Weather Data\\n        </a>\\n       </li>\\n      </ul>\\n     </div>\\n    </div>\\n    <div class=\"sitemap-section\">\\n     <div class=\"panel-heading\">\\n      <a class=\"sitemap-section-heading\" href=\"http://alerts.weather.gov\">\\n       ACTIVE ALERTS\\n      </a>\\n      <button class=\"menu-toggle pull-right\" data-target=\"#sitemap-2\" data-toggle=\"collapse\" type=\"button\">\\n       <span class=\"sr-only\">\\n        Toggle menu\\n       </span>\\n       <span class=\"icon-bar\">\\n       </span>\\n       <span class=\"icon-bar\">\\n       </span>\\n       <span class=\"icon-bar\">\\n       </span>\\n      </button>\\n     </div>\\n     <div class=\"sitemap-section-body panel-body collapsable collapse\" id=\"sitemap-2\">\\n      <ul class=\"list-unstyled\">\\n       <li>\\n        <a href=\" http://alerts.weather.gov\">\\n         Warnings By State\\n        </a>\\n       </li>\\n       <li>\\n        <a href=\" http://www.wpc.ncep.noaa.gov/ww.shtml\">\\n         Excessive Rainfall and Winter Weather Forecasts\\n        </a>\\n       </li>\\n       <li>\\n        <a href=\"http://water.weather.gov/ahps/?current_color=flood&amp;current_type=all&amp;fcst_type=obs&amp;conus_map=d_map\">\\n         River Flooding\\n        </a>\\n       </li>\\n       <li>\\n        <a href=\" http://www.weather.gov\">\\n         Latest Warnings\\n        </a>\\n       </li>\\n       <li>\\n        <a href=\" http://www.spc.noaa.gov/products/outlook/\">\\n         Thunderstorm/Tornado Outlook\\n        </a>\\n       </li>\\n       <li>\\n        <a href=\" http://www.nhc.noaa.gov/\">\\n         Hurricanes\\n        </a>\\n       </li>\\n       <li>\\n        <a href=\" http://www.spc.noaa.gov/products/fire_wx/\">\\n         Fire Weather Outlooks\\n        </a>\\n       </li>\\n       <li>\\n        <a href=\" http://www.cpc.ncep.noaa.gov/products/stratosphere/uv_index/uv_alert.shtml\">\\n         UV Alerts\\n        </a>\\n       </li>\\n       <li>\\n        <a href=\" http://www.drought.gov/\">\\n         Drought\\n        </a>\\n       </li>\\n       <li>\\n        <a href=\"http://www.swpc.noaa.gov/products/alerts-watches-and-warnings\">\\n         Space Weather\\n        </a>\\n       </li>\\n       <li>\\n        <a href=\" http://www.nws.noaa.gov/nwr/\">\\n         NOAA Weather Radio\\n        </a>\\n       </li>\\n       <li>\\n        <a href=\" http://alerts.weather.gov/\">\\n         NWS CAP Feeds\\n        </a>\\n       </li>\\n      </ul>\\n     </div>\\n    </div>\\n    <div class=\"sitemap-section\">\\n     <div class=\"panel-heading\">\\n      <a class=\"sitemap-section-heading\" href=\"http://www.weather.gov/current\">\\n       CURRENT CONDITIONS\\n      </a>\\n      <button class=\"menu-toggle pull-right\" data-target=\"#sitemap-3\" data-toggle=\"collapse\" type=\"button\">\\n       <span class=\"sr-only\">\\n        Toggle menu\\n       </span>\\n       <span class=\"icon-bar\">\\n       </span>\\n       <span class=\"icon-bar\">\\n       </span>\\n       <span class=\"icon-bar\">\\n       </span>\\n      </button>\\n     </div>\\n     <div class=\"sitemap-section-body panel-body collapsable collapse\" id=\"sitemap-3\">\\n      <ul class=\"list-unstyled\">\\n       <li>\\n        <a href=\" http://www.weather.gov/Radar\">\\n         Radar\\n        </a>\\n       </li>\\n       <li>\\n        <a href=\"http://www.cpc.ncep.noaa.gov/products/monitoring_and_data/\">\\n         Climate Monitoring\\n        </a>\\n       </li>\\n       <li>\\n        <a href=\" http://water.weather.gov/ahps/\">\\n         River Levels\\n        </a>\\n       </li>\\n       <li>\\n        <a href=\" http://water.weather.gov/precip/\">\\n         Observed Precipitation\\n        </a>\\n       </li>\\n       <li>\\n        <a href=\"https://www.wpc.ncep.noaa.gov/sfc/sfcobs/sfcobs.shtml\">\\n         Surface Weather\\n        </a>\\n       </li>\\n       <li>\\n        <a href=\"http://www.spc.noaa.gov/obswx/maps/\">\\n         Upper Air\\n        </a>\\n       </li>\\n       <li>\\n        <a href=\" http://www.ndbc.noaa.gov/\">\\n         Marine and Buoy Reports\\n        </a>\\n       </li>\\n       <li>\\n        <a href=\"http://www.nohrsc.noaa.gov/interactive/html/map.html\">\\n         Snow Cover\\n        </a>\\n       </li>\\n       <li>\\n        <a href=\" http://www.weather.gov/satellite\">\\n         Satellite\\n        </a>\\n       </li>\\n       <li>\\n        <a href=\" http://www.swpc.noaa.gov/\">\\n         Space Weather\\n        </a>\\n       </li>\\n       <li>\\n        <a href=\"http://www.weather.gov/pr\">\\n         International Observations\\n        </a>\\n       </li>\\n      </ul>\\n     </div>\\n    </div>\\n    <div class=\"sitemap-section\">\\n     <div class=\"panel-heading\">\\n      <a class=\"sitemap-section-heading\" href=\"http://weather.gov/forecastmaps\">\\n       FORECAST\\n      </a>\\n      <button class=\"menu-toggle pull-right\" data-target=\"#sitemap-4\" data-toggle=\"collapse\" type=\"button\">\\n       <span class=\"sr-only\">\\n        Toggle menu\\n       </span>\\n       <span class=\"icon-bar\">\\n       </span>\\n       <span class=\"icon-bar\">\\n       </span>\\n       <span class=\"icon-bar\">\\n       </span>\\n      </button>\\n     </div>\\n     <div class=\"sitemap-section-body panel-body collapsable collapse\" id=\"sitemap-4\">\\n      <ul class=\"list-unstyled\">\\n       <li>\\n        <a href=\" http://www.weather.gov/\">\\n         Local Forecast\\n        </a>\\n       </li>\\n       <li>\\n        <a href=\"http://www.weather.gov/pr\">\\n         International Forecasts\\n        </a>\\n       </li>\\n       <li>\\n        <a href=\" http://www.spc.noaa.gov/\">\\n         Severe Weather\\n        </a>\\n       </li>\\n       <li>\\n        <a href=\" http://www.wpc.ncep.noaa.gov/\">\\n         Current Outlook Maps\\n        </a>\\n       </li>\\n       <li>\\n        <a href=\"http://www.cpc.ncep.noaa.gov/products/Drought\">\\n         Drought\\n        </a>\\n       </li>\\n       <li>\\n        <a href=\"http://www.weather.gov/fire\">\\n         Fire Weather\\n        </a>\\n       </li>\\n       <li>\\n        <a href=\" http://www.wpc.ncep.noaa.gov/\">\\n         Fronts/Precipitation Maps\\n        </a>\\n       </li>\\n       <li>\\n        <a href=\" http://www.nws.noaa.gov/forecasts/graphical/\">\\n         Current Graphical Forecast Maps\\n        </a>\\n       </li>\\n       <li>\\n        <a href=\"http://water.weather.gov/ahps/forecasts.php\">\\n         Rivers\\n        </a>\\n       </li>\\n       <li>\\n        <a href=\"https://www.weather.gov/marine/\">\\n         Marine\\n        </a>\\n       </li>\\n       <li>\\n        <a href=\"https://ocean.weather.gov/marine_areas.php\">\\n         Offshore and High Seas\\n        </a>\\n       </li>\\n       <li>\\n        <a href=\" http://www.nhc.noaa.gov/\">\\n         Hurricanes\\n        </a>\\n       </li>\\n       <li>\\n        <a href=\" http://aviationweather.gov\">\\n         Aviation Weather\\n        </a>\\n       </li>\\n       <li>\\n        <a href=\"http://www.cpc.ncep.noaa.gov/products/OUTLOOKS_index.shtml\">\\n         Climatic Outlook\\n        </a>\\n       </li>\\n      </ul>\\n     </div>\\n    </div>\\n    <div class=\"sitemap-section\">\\n     <div class=\"panel-heading\">\\n      <a class=\"sitemap-section-heading\" href=\"http://www.weather.gov/informationcenter\">\\n       INFORMATION CENTER\\n      </a>\\n      <button class=\"menu-toggle pull-right\" data-target=\"#sitemap-5\" data-toggle=\"collapse\" type=\"button\">\\n       <span class=\"sr-only\">\\n        Toggle menu\\n       </span>\\n       <span class=\"icon-bar\">\\n       </span>\\n       <span class=\"icon-bar\">\\n       </span>\\n       <span class=\"icon-bar\">\\n       </span>\\n      </button>\\n     </div>\\n     <div class=\"sitemap-section-body panel-body collapsable collapse\" id=\"sitemap-5\">\\n      <ul class=\"list-unstyled\">\\n       <li>\\n        <a href=\" http://www.spaceweather.gov\">\\n         Space Weather\\n        </a>\\n       </li>\\n       <li>\\n        <a href=\"http://www.weather.gov/briefing/\">\\n         Daily Briefing\\n        </a>\\n       </li>\\n       <li>\\n        <a href=\" http://www.nws.noaa.gov/om/marine/home.htm\">\\n         Marine\\n        </a>\\n       </li>\\n       <li>\\n        <a href=\"http://www.nws.noaa.gov/climate\">\\n         Climate\\n        </a>\\n       </li>\\n       <li>\\n        <a href=\"http://www.weather.gov/fire\">\\n         Fire Weather\\n        </a>\\n       </li>\\n       <li>\\n        <a href=\" http://www.aviationweather.gov/\">\\n         Aviation\\n        </a>\\n       </li>\\n       <li>\\n        <a href=\"http://mag.ncep.noaa.gov/\">\\n         Forecast Models\\n        </a>\\n       </li>\\n       <li>\\n        <a href=\"http://water.weather.gov/ahps/\">\\n         Water\\n        </a>\\n       </li>\\n       <li>\\n        <a href=\"https://www.weather.gov/gis/\">\\n         GIS\\n        </a>\\n       </li>\\n       <li>\\n        <a href=\" http://www.nws.noaa.gov/om/coop/\">\\n         Cooperative Observers\\n        </a>\\n       </li>\\n       <li>\\n        <a href=\"https://www.weather.gov/skywarn/\">\\n         Storm Spotters\\n        </a>\\n       </li>\\n       <li>\\n        <a href=\"http://www.tsunami.gov\">\\n         Tsunami Warning System\\n        </a>\\n       </li>\\n       <li>\\n        <a href=\"http://water.noaa.gov/\">\\n         National Water Center\\n        </a>\\n       </li>\\n       <li>\\n        <a href=\"http://www.weather.gov/pr\">\\n         International Weather\\n        </a>\\n       </li>\\n      </ul>\\n     </div>\\n    </div>\\n    <div class=\"sitemap-section\">\\n     <div class=\"panel-heading\">\\n      <a class=\"sitemap-section-heading\" href=\"http://weather.gov/safety\">\\n       WEATHER SAFETY\\n      </a>\\n      <button class=\"menu-toggle pull-right\" data-target=\"#sitemap-6\" data-toggle=\"collapse\" type=\"button\">\\n       <span class=\"sr-only\">\\n        Toggle menu\\n       </span>\\n       <span class=\"icon-bar\">\\n       </span>\\n       <span class=\"icon-bar\">\\n       </span>\\n       <span class=\"icon-bar\">\\n       </span>\\n      </button>\\n     </div>\\n     <div class=\"sitemap-section-body panel-body collapsable collapse\" id=\"sitemap-6\">\\n      <ul class=\"list-unstyled\">\\n       <li>\\n        <a href=\"http://www.weather.gov/nwr/\">\\n         NOAA Weather Radio\\n        </a>\\n       </li>\\n       <li>\\n        <a href=\"http://www.weather.gov/stormready/\">\\n         StormReady\\n        </a>\\n       </li>\\n       <li>\\n        <a href=\"http://www.nws.noaa.gov/om/heat/index.shtml\">\\n         Heat\\n        </a>\\n       </li>\\n       <li>\\n        <a href=\"https://www.weather.gov/safety/lightning\">\\n         Lightning\\n        </a>\\n       </li>\\n       <li>\\n        <a href=\" http://www.nhc.noaa.gov/prepare/\">\\n         Hurricanes\\n        </a>\\n       </li>\\n       <li>\\n        <a href=\"http://www.nws.noaa.gov/om/thunderstorm/\">\\n         Thunderstorms\\n        </a>\\n       </li>\\n       <li>\\n        <a href=\"https://www.weather.gov/safety/tornado\">\\n         Tornadoes\\n        </a>\\n       </li>\\n       <li>\\n        <a href=\"https://www.weather.gov/safety/ripcurrent\">\\n         Rip Currents\\n        </a>\\n       </li>\\n       <li>\\n        <a href=\"https://www.weather.gov/safety/flood\">\\n         Floods\\n        </a>\\n       </li>\\n       <li>\\n        <a href=\"https://www.weather.gov/safety/tsunami\">\\n         Tsunamis\\n        </a>\\n       </li>\\n       <li>\\n        <a href=\"https://www.weather.gov/tsunamiready/\">\\n         TsunamiReady\\n        </a>\\n       </li>\\n       <li>\\n        <a href=\" http://www.weather.gov/om/winter/index.shtml\">\\n         Winter Weather\\n        </a>\\n       </li>\\n       <li>\\n        <a href=\"http://www.nws.noaa.gov/om/heat/uv.shtml\">\\n         Ultra Violet Radiation\\n        </a>\\n       </li>\\n       <li>\\n        <a href=\" http://www.weather.gov/airquality/\">\\n         Air Quality\\n        </a>\\n       </li>\\n       <li>\\n        <a href=\" http://www.weather.gov/om/hazstats.shtml\">\\n         Damage/Fatality/Injury Statistics\\n        </a>\\n       </li>\\n       <li>\\n        <a href=\" http://www.redcross.org/\">\\n         Red Cross\\n        </a>\\n       </li>\\n       <li>\\n        <a href=\" http://www.fema.gov/\">\\n         Federal Emergency Management Agency (FEMA)\\n        </a>\\n       </li>\\n       <li>\\n        <a href=\" http://www.weather.gov/om/brochures.shtml\">\\n         Brochures\\n        </a>\\n       </li>\\n       <li>\\n        <a href=\"http://www.nws.noaa.gov/os/marine/safeboating/\">\\n         Safe Boating\\n        </a>\\n       </li>\\n      </ul>\\n     </div>\\n    </div>\\n    <div class=\"sitemap-section\">\\n     <div class=\"panel-heading\">\\n      <a class=\"sitemap-section-heading\" href=\"http://weather.gov/news\">\\n       NEWS\\n      </a>\\n      <button class=\"menu-toggle pull-right\" data-target=\"#sitemap-7\" data-toggle=\"collapse\" type=\"button\">\\n       <span class=\"sr-only\">\\n        Toggle menu\\n       </span>\\n       <span class=\"icon-bar\">\\n       </span>\\n       <span class=\"icon-bar\">\\n       </span>\\n       <span class=\"icon-bar\">\\n       </span>\\n      </button>\\n     </div>\\n     <div class=\"sitemap-section-body panel-body collapsable collapse\" id=\"sitemap-7\">\\n      <ul class=\"list-unstyled\">\\n       <li>\\n        <a href=\" http://weather.gov/news\">\\n         Newsroom\\n        </a>\\n       </li>\\n       <li>\\n        <a href=\" http://weather.gov/socialmedia\">\\n         Social Media\\n        </a>\\n       </li>\\n       <li>\\n        <a href=\"http://www.nws.noaa.gov/com/weatherreadynation/calendar.html\">\\n         Events\\n        </a>\\n       </li>\\n       <li>\\n        <a href=\" http://www.weather.gov/om/brochures.shtml\">\\n         Pubs/Brochures/Booklets\\n        </a>\\n       </li>\\n      </ul>\\n     </div>\\n    </div>\\n    <div class=\"sitemap-section\">\\n     <div class=\"panel-heading\">\\n      <a class=\"sitemap-section-heading\" href=\"http://weather.gov/owlie\">\\n       EDUCATION\\n      </a>\\n      <button class=\"menu-toggle pull-right\" data-target=\"#sitemap-8\" data-toggle=\"collapse\" type=\"button\">\\n       <span class=\"sr-only\">\\n        Toggle menu\\n       </span>\\n       <span class=\"icon-bar\">\\n       </span>\\n       <span class=\"icon-bar\">\\n       </span>\\n       <span class=\"icon-bar\">\\n       </span>\\n      </button>\\n     </div>\\n     <div class=\"sitemap-section-body panel-body collapsable collapse\" id=\"sitemap-8\">\\n      <ul class=\"list-unstyled\">\\n       <li>\\n        <a href=\"http://weather.gov/owlie\">\\n         NWS Education Home\\n        </a>\\n       </li>\\n       <li>\\n        <a href=\"http://www.nws.noaa.gov/com/weatherreadynation/force.html\">\\n         Be A Force of Nature\\n        </a>\\n       </li>\\n       <li>\\n        <a href=\" http://www.education.noaa.gov/Weather_and_Atmosphere/\">\\n         NOAA Education Resources\\n        </a>\\n       </li>\\n       <li>\\n        <a href=\" http://www.weather.gov/glossary/\">\\n         Glossary\\n        </a>\\n       </li>\\n       <li>\\n        <a href=\"https://www.weather.gov/jetstream/\">\\n         JetStream\\n        </a>\\n       </li>\\n       <li>\\n        <a href=\" http://www.weather.gov/training/\">\\n         NWS Training Portal\\n        </a>\\n       </li>\\n       <li>\\n        <a href=\"https://library.noaa.gov/\">\\n         NOAA Library\\n        </a>\\n       </li>\\n       <li>\\n        <a href=\"http://weather.gov/owlie\">\\n         For Students, Parents and Teachers\\n        </a>\\n       </li>\\n       <li>\\n        <a href=\"http://www.weather.gov/owlie/publication_brochures\">\\n         Brochures\\n        </a>\\n       </li>\\n      </ul>\\n     </div>\\n    </div>\\n    <div class=\"sitemap-section\">\\n     <div class=\"panel-heading\">\\n      <a class=\"sitemap-section-heading\" href=\"http://weather.gov/about\">\\n       ABOUT\\n      </a>\\n      <button class=\"menu-toggle pull-right\" data-target=\"#sitemap-9\" data-toggle=\"collapse\" type=\"button\">\\n       <span class=\"sr-only\">\\n        Toggle menu\\n       </span>\\n       <span class=\"icon-bar\">\\n       </span>\\n       <span class=\"icon-bar\">\\n       </span>\\n       <span class=\"icon-bar\">\\n       </span>\\n      </button>\\n     </div>\\n     <div class=\"sitemap-section-body panel-body collapsable collapse\" id=\"sitemap-9\">\\n      <ul class=\"list-unstyled\">\\n       <li>\\n        <a href=\"http://weather.gov/organization\">\\n         Organization\\n        </a>\\n       </li>\\n       <li>\\n        <a href=\"https://www.weather.gov/media/wrn/NWS_Weather-Ready-Nation_Strategic_Plan_2019-2022.pdf\">\\n         Strategic Plan\\n        </a>\\n       </li>\\n       <li>\\n        <a href=\"https://sites.google.com/a/noaa.gov/nws-best-practices/\">\\n         For NWS Employees\\n        </a>\\n       </li>\\n       <li>\\n        <a href=\"https://www.weather.gov/international/\">\\n         International\\n        </a>\\n       </li>\\n       <li>\\n        <a href=\"http://www.ncep.noaa.gov/\">\\n         National Centers\\n        </a>\\n       </li>\\n       <li>\\n        <a href=\" http://www.weather.gov/tg/\">\\n         Products and Services\\n        </a>\\n       </li>\\n       <li>\\n        <a href=\"http://www.weather.gov/careers/\">\\n         Careers\\n        </a>\\n       </li>\\n       <li>\\n        <a href=\" http://www.weather.gov/glossary/\">\\n         Glossary\\n        </a>\\n       </li>\\n       <li>\\n        <a href=\"http://weather.gov/contact\">\\n         Contact Us\\n        </a>\\n       </li>\\n      </ul>\\n     </div>\\n    </div>\\n   </div>\\n  </div>\\n </div>\\n <!-- legal footer area -->\\n <div class=\"footer-legal\">\\n  <div class=\"col-xs-12 col-sm-2 col-md-2\" id=\"footerLogo\">\\n   <a href=\"http://www.usa.gov\">\\n    <img alt=\"usa.gov\" height=\"30\" src=\"/css/images/usa_gov.png\" width=\"110\"/>\\n   </a>\\n  </div>\\n  <div class=\"col-xs-12 col-sm-4 col-md-4\">\\n   <ul class=\"list-unstyled footer-legal-content\">\\n    <li>\\n     <a href=\"http://www.commerce.gov\">\\n      US Dept of Commerce\\n     </a>\\n    </li>\\n    <li>\\n     <a href=\"http://www.noaa.gov\">\\n      National Oceanic and Atmospheric Administration\\n     </a>\\n    </li>\\n    <li>\\n     <a href=\"http://www.weather.gov\">\\n      National Weather Service\\n     </a>\\n    </li>\\n    <li>\\n     <a href=\"https://www.weather.gov/mtr\">\\n      San Francisco Bay Area, CA\\n     </a>\\n    </li>\\n    <li>\\n     <br>\\n      <a href=\"mailto:w-mtr.webmaster@noaa.gov\">\\n       Comments? Questions? Please Contact Us.\\n      </a>\\n     </br>\\n    </li>\\n   </ul>\\n  </div>\\n  <div class=\"col-xs-12 col-sm-3 col-md-3\">\\n   <ul class=\"list-unstyled\">\\n    <li>\\n     <a href=\"https://www.weather.gov/disclaimer\">\\n      Disclaimer\\n     </a>\\n    </li>\\n    <li>\\n     <a href=\"http://www.cio.noaa.gov/services_programs/info_quality.html\">\\n      Information Quality\\n     </a>\\n    </li>\\n    <li>\\n     <a href=\"https://www.weather.gov/help\">\\n      Help\\n     </a>\\n    </li>\\n    <li>\\n     <a href=\"http://www.weather.gov/glossary\">\\n      Glossary\\n     </a>\\n    </li>\\n   </ul>\\n  </div>\\n  <div class=\"col-xs-12 col-sm-3 col-md-3\">\\n   <ul class=\"list-unstyled\">\\n    <li>\\n     <a href=\"https://www.weather.gov/privacy\">\\n      Privacy Policy\\n     </a>\\n    </li>\\n    <li>\\n     <a href=\"https://www.noaa.gov/foia-freedom-of-information-act\">\\n      Freedom of Information Act (FOIA)\\n     </a>\\n    </li>\\n    <li>\\n     <a href=\"https://www.weather.gov/about\">\\n      About Us\\n     </a>\\n    </li>\\n    <li>\\n     <a href=\"https://www.weather.gov/careers\">\\n      Career Opportunities\\n     </a>\\n    </li>\\n   </ul>\\n  </div>\\n </div>\\n</footer>\\n'"
      ]
     },
     "execution_count": 62,
     "metadata": {},
     "output_type": "execute_result"
    }
   ],
   "source": [
    "soup.prettify()"
   ]
  },
  {
   "cell_type": "code",
   "execution_count": 57,
   "metadata": {},
   "outputs": [],
   "source": [
    "soup = BeautifulSoup(page.content, 'html.parser')"
   ]
  },
  {
   "cell_type": "code",
   "execution_count": 65,
   "metadata": {},
   "outputs": [],
   "source": [
    "seven_day = soup.find(id=\"seven-day-forecast-container\")"
   ]
  },
  {
   "cell_type": "code",
   "execution_count": 66,
   "metadata": {
    "collapsed": true
   },
   "outputs": [
    {
     "data": {
      "text/plain": [
       "<div id=\"seven-day-forecast-container\"><ul class=\"list-unstyled\" id=\"seven-day-forecast-list\"><li class=\"forecast-tombstone\">\n",
       "<div class=\"tombstone-container\">\n",
       "<p class=\"period-name\">Today<br/><br/></p>\n",
       "<p><img alt=\"Today: Mostly cloudy, then gradually becoming sunny, with a high near 66. Light south southwest wind becoming west 6 to 11 mph in the afternoon. \" class=\"forecast-icon\" src=\"newimages/medium/bkn.png\" title=\"Today: Mostly cloudy, then gradually becoming sunny, with a high near 66. Light south southwest wind becoming west 6 to 11 mph in the afternoon. \"/></p><p class=\"short-desc\">Decreasing<br/>Clouds</p><p class=\"temp temp-high\">High: 66 °F</p></div></li><li class=\"forecast-tombstone\">\n",
       "<div class=\"tombstone-container\">\n",
       "<p class=\"period-name\">Tonight<br/><br/></p>\n",
       "<p><img alt=\"Tonight: Mostly clear, with a low around 51. West wind 6 to 11 mph becoming light  in the evening. \" class=\"forecast-icon\" src=\"newimages/medium/nfew.png\" title=\"Tonight: Mostly clear, with a low around 51. West wind 6 to 11 mph becoming light  in the evening. \"/></p><p class=\"short-desc\">Mostly Clear</p><p class=\"temp temp-low\">Low: 51 °F</p></div></li><li class=\"forecast-tombstone\">\n",
       "<div class=\"tombstone-container\">\n",
       "<p class=\"period-name\">Tuesday<br/><br/></p>\n",
       "<p><img alt=\"Tuesday: Sunny, with a high near 73. North wind 5 to 10 mph becoming west in the afternoon. \" class=\"forecast-icon\" src=\"newimages/medium/few.png\" title=\"Tuesday: Sunny, with a high near 73. North wind 5 to 10 mph becoming west in the afternoon. \"/></p><p class=\"short-desc\">Sunny</p><p class=\"temp temp-high\">High: 73 °F</p></div></li><li class=\"forecast-tombstone\">\n",
       "<div class=\"tombstone-container\">\n",
       "<p class=\"period-name\">Tuesday<br/>Night</p>\n",
       "<p><img alt=\"Tuesday Night: Mostly clear, with a low around 51. West wind 6 to 11 mph becoming light southwest  in the evening. \" class=\"forecast-icon\" src=\"newimages/medium/nfew.png\" title=\"Tuesday Night: Mostly clear, with a low around 51. West wind 6 to 11 mph becoming light southwest  in the evening. \"/></p><p class=\"short-desc\">Mostly Clear</p><p class=\"temp temp-low\">Low: 51 °F</p></div></li><li class=\"forecast-tombstone\">\n",
       "<div class=\"tombstone-container\">\n",
       "<p class=\"period-name\">Wednesday<br/><br/></p>\n",
       "<p><img alt=\"Wednesday: Mostly sunny, with a high near 69. Calm wind becoming west 5 to 9 mph in the afternoon. \" class=\"forecast-icon\" src=\"newimages/medium/sct.png\" title=\"Wednesday: Mostly sunny, with a high near 69. Calm wind becoming west 5 to 9 mph in the afternoon. \"/></p><p class=\"short-desc\">Mostly Sunny</p><p class=\"temp temp-high\">High: 69 °F</p></div></li><li class=\"forecast-tombstone\">\n",
       "<div class=\"tombstone-container\">\n",
       "<p class=\"period-name\">Wednesday<br/>Night</p>\n",
       "<p><img alt=\"Wednesday Night: Partly cloudy, with a low around 52.\" class=\"forecast-icon\" src=\"newimages/medium/nsct.png\" title=\"Wednesday Night: Partly cloudy, with a low around 52.\"/></p><p class=\"short-desc\">Partly Cloudy</p><p class=\"temp temp-low\">Low: 52 °F</p></div></li><li class=\"forecast-tombstone\">\n",
       "<div class=\"tombstone-container\">\n",
       "<p class=\"period-name\">Thursday<br/><br/></p>\n",
       "<p><img alt=\"Thursday: Mostly sunny, with a high near 66.\" class=\"forecast-icon\" src=\"newimages/medium/sct.png\" title=\"Thursday: Mostly sunny, with a high near 66.\"/></p><p class=\"short-desc\">Mostly Sunny</p><p class=\"temp temp-high\">High: 66 °F</p></div></li><li class=\"forecast-tombstone\">\n",
       "<div class=\"tombstone-container\">\n",
       "<p class=\"period-name\">Thursday<br/>Night</p>\n",
       "<p><img alt=\"Thursday Night: Partly cloudy, with a low around 53.\" class=\"forecast-icon\" src=\"newimages/medium/nsct.png\" title=\"Thursday Night: Partly cloudy, with a low around 53.\"/></p><p class=\"short-desc\">Partly Cloudy</p><p class=\"temp temp-low\">Low: 53 °F</p></div></li><li class=\"forecast-tombstone\">\n",
       "<div class=\"tombstone-container\">\n",
       "<p class=\"period-name\">Friday<br/><br/></p>\n",
       "<p><img alt=\"Friday: Mostly sunny, with a high near 65.\" class=\"forecast-icon\" src=\"newimages/medium/sct.png\" title=\"Friday: Mostly sunny, with a high near 65.\"/></p><p class=\"short-desc\">Mostly Sunny</p><p class=\"temp temp-high\">High: 65 °F</p></div></li></ul></div>"
      ]
     },
     "execution_count": 66,
     "metadata": {},
     "output_type": "execute_result"
    }
   ],
   "source": [
    "seven_day"
   ]
  },
  {
   "cell_type": "code",
   "execution_count": 67,
   "metadata": {},
   "outputs": [],
   "source": [
    "forecast_items = seven_day.find_all(class_=\"tombstone-container\")"
   ]
  },
  {
   "cell_type": "code",
   "execution_count": 68,
   "metadata": {
    "collapsed": true
   },
   "outputs": [
    {
     "data": {
      "text/plain": [
       "[<div class=\"tombstone-container\">\n",
       " <p class=\"period-name\">Today<br/><br/></p>\n",
       " <p><img alt=\"Today: Mostly cloudy, then gradually becoming sunny, with a high near 66. Light south southwest wind becoming west 6 to 11 mph in the afternoon. \" class=\"forecast-icon\" src=\"newimages/medium/bkn.png\" title=\"Today: Mostly cloudy, then gradually becoming sunny, with a high near 66. Light south southwest wind becoming west 6 to 11 mph in the afternoon. \"/></p><p class=\"short-desc\">Decreasing<br/>Clouds</p><p class=\"temp temp-high\">High: 66 °F</p></div>,\n",
       " <div class=\"tombstone-container\">\n",
       " <p class=\"period-name\">Tonight<br/><br/></p>\n",
       " <p><img alt=\"Tonight: Mostly clear, with a low around 51. West wind 6 to 11 mph becoming light  in the evening. \" class=\"forecast-icon\" src=\"newimages/medium/nfew.png\" title=\"Tonight: Mostly clear, with a low around 51. West wind 6 to 11 mph becoming light  in the evening. \"/></p><p class=\"short-desc\">Mostly Clear</p><p class=\"temp temp-low\">Low: 51 °F</p></div>,\n",
       " <div class=\"tombstone-container\">\n",
       " <p class=\"period-name\">Tuesday<br/><br/></p>\n",
       " <p><img alt=\"Tuesday: Sunny, with a high near 73. North wind 5 to 10 mph becoming west in the afternoon. \" class=\"forecast-icon\" src=\"newimages/medium/few.png\" title=\"Tuesday: Sunny, with a high near 73. North wind 5 to 10 mph becoming west in the afternoon. \"/></p><p class=\"short-desc\">Sunny</p><p class=\"temp temp-high\">High: 73 °F</p></div>,\n",
       " <div class=\"tombstone-container\">\n",
       " <p class=\"period-name\">Tuesday<br/>Night</p>\n",
       " <p><img alt=\"Tuesday Night: Mostly clear, with a low around 51. West wind 6 to 11 mph becoming light southwest  in the evening. \" class=\"forecast-icon\" src=\"newimages/medium/nfew.png\" title=\"Tuesday Night: Mostly clear, with a low around 51. West wind 6 to 11 mph becoming light southwest  in the evening. \"/></p><p class=\"short-desc\">Mostly Clear</p><p class=\"temp temp-low\">Low: 51 °F</p></div>,\n",
       " <div class=\"tombstone-container\">\n",
       " <p class=\"period-name\">Wednesday<br/><br/></p>\n",
       " <p><img alt=\"Wednesday: Mostly sunny, with a high near 69. Calm wind becoming west 5 to 9 mph in the afternoon. \" class=\"forecast-icon\" src=\"newimages/medium/sct.png\" title=\"Wednesday: Mostly sunny, with a high near 69. Calm wind becoming west 5 to 9 mph in the afternoon. \"/></p><p class=\"short-desc\">Mostly Sunny</p><p class=\"temp temp-high\">High: 69 °F</p></div>,\n",
       " <div class=\"tombstone-container\">\n",
       " <p class=\"period-name\">Wednesday<br/>Night</p>\n",
       " <p><img alt=\"Wednesday Night: Partly cloudy, with a low around 52.\" class=\"forecast-icon\" src=\"newimages/medium/nsct.png\" title=\"Wednesday Night: Partly cloudy, with a low around 52.\"/></p><p class=\"short-desc\">Partly Cloudy</p><p class=\"temp temp-low\">Low: 52 °F</p></div>,\n",
       " <div class=\"tombstone-container\">\n",
       " <p class=\"period-name\">Thursday<br/><br/></p>\n",
       " <p><img alt=\"Thursday: Mostly sunny, with a high near 66.\" class=\"forecast-icon\" src=\"newimages/medium/sct.png\" title=\"Thursday: Mostly sunny, with a high near 66.\"/></p><p class=\"short-desc\">Mostly Sunny</p><p class=\"temp temp-high\">High: 66 °F</p></div>,\n",
       " <div class=\"tombstone-container\">\n",
       " <p class=\"period-name\">Thursday<br/>Night</p>\n",
       " <p><img alt=\"Thursday Night: Partly cloudy, with a low around 53.\" class=\"forecast-icon\" src=\"newimages/medium/nsct.png\" title=\"Thursday Night: Partly cloudy, with a low around 53.\"/></p><p class=\"short-desc\">Partly Cloudy</p><p class=\"temp temp-low\">Low: 53 °F</p></div>,\n",
       " <div class=\"tombstone-container\">\n",
       " <p class=\"period-name\">Friday<br/><br/></p>\n",
       " <p><img alt=\"Friday: Mostly sunny, with a high near 65.\" class=\"forecast-icon\" src=\"newimages/medium/sct.png\" title=\"Friday: Mostly sunny, with a high near 65.\"/></p><p class=\"short-desc\">Mostly Sunny</p><p class=\"temp temp-high\">High: 65 °F</p></div>]"
      ]
     },
     "execution_count": 68,
     "metadata": {},
     "output_type": "execute_result"
    }
   ],
   "source": [
    "forecast_items"
   ]
  },
  {
   "cell_type": "code",
   "execution_count": 69,
   "metadata": {},
   "outputs": [
    {
     "name": "stdout",
     "output_type": "stream",
     "text": [
      "\n",
      "Today\n",
      "DecreasingCloudsHigh: 66 °F\n"
     ]
    }
   ],
   "source": [
    "first = forecast_items[0]\n",
    "print(first.get_text())"
   ]
  },
  {
   "cell_type": "code",
   "execution_count": 70,
   "metadata": {},
   "outputs": [],
   "source": [
    "container = []\n",
    "for item in forecast_items:\n",
    "    container.append(item.get_text())"
   ]
  },
  {
   "cell_type": "code",
   "execution_count": 71,
   "metadata": {},
   "outputs": [
    {
     "data": {
      "text/plain": [
       "['\\nToday\\nDecreasingCloudsHigh: 66 °F',\n",
       " '\\nTonight\\nMostly ClearLow: 51 °F',\n",
       " '\\nTuesday\\nSunnyHigh: 73 °F',\n",
       " '\\nTuesdayNight\\nMostly ClearLow: 51 °F',\n",
       " '\\nWednesday\\nMostly SunnyHigh: 69 °F',\n",
       " '\\nWednesdayNight\\nPartly CloudyLow: 52 °F',\n",
       " '\\nThursday\\nMostly SunnyHigh: 66 °F',\n",
       " '\\nThursdayNight\\nPartly CloudyLow: 53 °F',\n",
       " '\\nFriday\\nMostly SunnyHigh: 65 °F']"
      ]
     },
     "execution_count": 71,
     "metadata": {},
     "output_type": "execute_result"
    }
   ],
   "source": [
    "container"
   ]
  },
  {
   "cell_type": "markdown",
   "metadata": {},
   "source": [
    "### Extracting information from the page\n",
    "As you can see, inside the forecast item `tonight` is all the information we want. There are `4` pieces of information we can extract:\n",
    "\n",
    "- The name of the forecast item — in this case, **Tonight**.\n",
    "- The description of the conditions — this is stored in the `title` property of `img`.\n",
    "- A short description of the conditions — in this case, **Mostly Clear**.\n",
    "- The temperature low — in this case, **49 degrees**.\n",
    "\n",
    "We’ll extract the name of the forecast item, the short description, and the temperature first, since they’re all similar:"
   ]
  },
  {
   "cell_type": "markdown",
   "metadata": {},
   "source": [
    "Now, we can extract the `title` attribute from the `img` tag. To do this, we just treat the `BeautifulSoup` object like a dictionary, and pass in the attribute we want as a key:"
   ]
  },
  {
   "cell_type": "code",
   "execution_count": null,
   "metadata": {},
   "outputs": [],
   "source": [
    "# your code here"
   ]
  },
  {
   "cell_type": "markdown",
   "metadata": {},
   "source": [
    "### Extracting all the information from the page\n",
    "Now that we know how to extract each individual piece of information, we can combine our knowledge with css selectors and list comprehensions to extract everything at once.\n",
    "\n",
    "In the below code, we:\n",
    "\n",
    "- Select all items with the class period-name inside an item with the class tombstone-container in seven_day.\n",
    "- Use a list comprehension to call the get_text method on each BeautifulSoup object."
   ]
  },
  {
   "cell_type": "code",
   "execution_count": null,
   "metadata": {},
   "outputs": [],
   "source": [
    "period_tags = seven_day.select(\".tombstone-container .period-name\")\n",
    "periods = [pt.get_text() for pt in period_tags]\n",
    "periods"
   ]
  },
  {
   "cell_type": "markdown",
   "metadata": {},
   "source": [
    "As you can see above, our technique gets us each of the period names, in order. Now you can apply the same technique to get the other 3 fields:"
   ]
  },
  {
   "cell_type": "code",
   "execution_count": null,
   "metadata": {},
   "outputs": [],
   "source": [
    "#your code here\n",
    "\n"
   ]
  }
 ],
 "metadata": {
  "kernelspec": {
   "display_name": "Python 3",
   "language": "python",
   "name": "python3"
  },
  "language_info": {
   "codemirror_mode": {
    "name": "ipython",
    "version": 3
   },
   "file_extension": ".py",
   "mimetype": "text/x-python",
   "name": "python",
   "nbconvert_exporter": "python",
   "pygments_lexer": "ipython3",
   "version": "3.7.4"
  }
 },
 "nbformat": 4,
 "nbformat_minor": 2
}
