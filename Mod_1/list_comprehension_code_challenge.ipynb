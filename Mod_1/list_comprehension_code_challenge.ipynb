{
 "cells": [
  {
   "cell_type": "code",
   "execution_count": null,
   "metadata": {},
   "outputs": [],
   "source": [
    "    Given a list of numbers, write a list comprehension that produces a list of each number doubled.\n",
    "\n",
    "        >>> doubled([1, 2, 3, 4, 5])\n",
    "        [2, 4, 6, 8, 10]\n",
    "\n",
    "        >>> doubled([-2, 2, -10, 10])\n",
    "        [-4, 4, -20, 20]\n",
    "    \"\"\"\n",
    "    pass"
   ]
  },
  {
   "cell_type": "code",
   "execution_count": 12,
   "metadata": {},
   "outputs": [],
   "source": [
    "list1 = [1,2,3,4,5]\n",
    "list2 = [-2,2,-10,10]\n",
    "\n",
    "def double(data):\n",
    "    return [value * 2 for value in data]"
   ]
  },
  {
   "cell_type": "code",
   "execution_count": 13,
   "metadata": {},
   "outputs": [
    {
     "data": {
      "text/plain": [
       "[2, 4, 6, 8, 10]"
      ]
     },
     "execution_count": 13,
     "metadata": {},
     "output_type": "execute_result"
    }
   ],
   "source": [
    "double(list1)"
   ]
  },
  {
   "cell_type": "code",
   "execution_count": null,
   "metadata": {},
   "outputs": [],
   "source": [
    "def squared(nums):\n",
    "    \"\"\"Squared:\n",
    "\n",
    "    Given a list of numbers, write a list comprehension that produces a list of the squares of each number.\n",
    "\n",
    "        >>> squared([1, 2, 3, 4, 5])\n",
    "        [1, 4, 9, 16, 25]\n",
    "\n",
    "        >>> squared([-2, 2, -10, 10])\n",
    "        [4, 4, 100, 100]\n",
    "    \"\"\"\n",
    "    pass"
   ]
  },
  {
   "cell_type": "code",
   "execution_count": 14,
   "metadata": {},
   "outputs": [
    {
     "ename": "SyntaxError",
     "evalue": "invalid syntax (<ipython-input-14-bb425aa91456>, line 1)",
     "output_type": "error",
     "traceback": [
      "\u001b[0;36m  File \u001b[0;32m\"<ipython-input-14-bb425aa91456>\"\u001b[0;36m, line \u001b[0;32m1\u001b[0m\n\u001b[0;31m    return [if num%2 == 0 for num in nums]\u001b[0m\n\u001b[0m             ^\u001b[0m\n\u001b[0;31mSyntaxError\u001b[0m\u001b[0;31m:\u001b[0m invalid syntax\n"
     ]
    }
   ],
   "source": [
    "return [if num%2 == 0 for num in nums]"
   ]
  },
  {
   "cell_type": "code",
   "execution_count": null,
   "metadata": {},
   "outputs": [],
   "source": []
  }
 ],
 "metadata": {
  "kernelspec": {
   "display_name": "Python 3",
   "language": "python",
   "name": "python3"
  },
  "language_info": {
   "codemirror_mode": {
    "name": "ipython",
    "version": 3
   },
   "file_extension": ".py",
   "mimetype": "text/x-python",
   "name": "python",
   "nbconvert_exporter": "python",
   "pygments_lexer": "ipython3",
   "version": "3.7.4"
  }
 },
 "nbformat": 4,
 "nbformat_minor": 2
}
