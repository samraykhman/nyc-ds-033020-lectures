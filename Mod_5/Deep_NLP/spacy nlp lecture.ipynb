{
 "cells": [
  {
   "cell_type": "markdown",
   "metadata": {},
   "source": [
    "# gensim"
   ]
  },
  {
   "cell_type": "code",
   "execution_count": 1,
   "metadata": {
    "collapsed": true
   },
   "outputs": [
    {
     "name": "stdout",
     "output_type": "stream",
     "text": [
      "Collecting gensim\n",
      "  Downloading gensim-3.8.3-cp37-cp37m-macosx_10_9_x86_64.whl (24.2 MB)\n",
      "\u001b[K     |████████████████████████████████| 24.2 MB 461 kB/s eta 0:00:01\n",
      "\u001b[?25hCollecting smart-open>=1.8.1\n",
      "  Downloading smart_open-2.0.0.tar.gz (103 kB)\n",
      "\u001b[K     |████████████████████████████████| 103 kB 4.0 MB/s eta 0:00:01\n",
      "\u001b[?25hRequirement already satisfied: numpy>=1.11.3 in /Users/samraykhman/opt/anaconda3/lib/python3.7/site-packages (from gensim) (1.17.2)\n",
      "Requirement already satisfied: scipy>=0.18.1 in /Users/samraykhman/opt/anaconda3/lib/python3.7/site-packages (from gensim) (1.4.1)\n",
      "Requirement already satisfied: six>=1.5.0 in /Users/samraykhman/opt/anaconda3/lib/python3.7/site-packages (from gensim) (1.12.0)\n",
      "Requirement already satisfied: requests in /Users/samraykhman/opt/anaconda3/lib/python3.7/site-packages (from smart-open>=1.8.1->gensim) (2.22.0)\n",
      "Requirement already satisfied: boto in /Users/samraykhman/opt/anaconda3/lib/python3.7/site-packages (from smart-open>=1.8.1->gensim) (2.49.0)\n",
      "Collecting boto3\n",
      "  Downloading boto3-1.14.11-py2.py3-none-any.whl (128 kB)\n",
      "\u001b[K     |████████████████████████████████| 128 kB 6.7 MB/s eta 0:00:01\n",
      "\u001b[?25hRequirement already satisfied: certifi>=2017.4.17 in /Users/samraykhman/opt/anaconda3/lib/python3.7/site-packages (from requests->smart-open>=1.8.1->gensim) (2019.9.11)\n",
      "Requirement already satisfied: urllib3!=1.25.0,!=1.25.1,<1.26,>=1.21.1 in /Users/samraykhman/opt/anaconda3/lib/python3.7/site-packages (from requests->smart-open>=1.8.1->gensim) (1.24.2)\n",
      "Requirement already satisfied: chardet<3.1.0,>=3.0.2 in /Users/samraykhman/opt/anaconda3/lib/python3.7/site-packages (from requests->smart-open>=1.8.1->gensim) (3.0.4)\n",
      "Requirement already satisfied: idna<2.9,>=2.5 in /Users/samraykhman/opt/anaconda3/lib/python3.7/site-packages (from requests->smart-open>=1.8.1->gensim) (2.8)\n",
      "Collecting s3transfer<0.4.0,>=0.3.0\n",
      "  Downloading s3transfer-0.3.3-py2.py3-none-any.whl (69 kB)\n",
      "\u001b[K     |████████████████████████████████| 69 kB 8.2 MB/s  eta 0:00:01\n",
      "\u001b[?25hCollecting jmespath<1.0.0,>=0.7.1\n",
      "  Downloading jmespath-0.10.0-py2.py3-none-any.whl (24 kB)\n",
      "Collecting botocore<1.18.0,>=1.17.11\n",
      "  Downloading botocore-1.17.11-py2.py3-none-any.whl (6.3 MB)\n",
      "\u001b[K     |████████████████████████████████| 6.3 MB 6.2 MB/s eta 0:00:01     |█▌                              | 296 kB 6.2 MB/s eta 0:00:01     |██████████████████████████████▊ | 6.0 MB 6.2 MB/s eta 0:00:01\n",
      "\u001b[?25hRequirement already satisfied: python-dateutil<3.0.0,>=2.1 in /Users/samraykhman/opt/anaconda3/lib/python3.7/site-packages (from botocore<1.18.0,>=1.17.11->boto3->smart-open>=1.8.1->gensim) (2.8.0)\n",
      "Requirement already satisfied: docutils<0.16,>=0.10 in /Users/samraykhman/opt/anaconda3/lib/python3.7/site-packages (from botocore<1.18.0,>=1.17.11->boto3->smart-open>=1.8.1->gensim) (0.15.2)\n",
      "Building wheels for collected packages: smart-open\n",
      "  Building wheel for smart-open (setup.py) ... \u001b[?25ldone\n",
      "\u001b[?25h  Created wheel for smart-open: filename=smart_open-2.0.0-py3-none-any.whl size=101341 sha256=171ff4805540e9151ff6b0c60cd57dde6973fc893c45a8e72695dd48bcdad538\n",
      "  Stored in directory: /Users/samraykhman/Library/Caches/pip/wheels/bb/1c/9c/412ec03f6d5ac7d41f4b965bde3fc0d1bd201da5ba3e2636de\n",
      "Successfully built smart-open\n",
      "Installing collected packages: jmespath, botocore, s3transfer, boto3, smart-open, gensim\n",
      "Successfully installed boto3-1.14.11 botocore-1.17.11 gensim-3.8.3 jmespath-0.10.0 s3transfer-0.3.3 smart-open-2.0.0\n"
     ]
    }
   ],
   "source": [
    "!pip install gensim"
   ]
  },
  {
   "cell_type": "code",
   "execution_count": 3,
   "metadata": {},
   "outputs": [],
   "source": [
    "import numpy as np\n",
    "import warnings\n",
    "warnings.filterwarnings('ignore')\n",
    "\n",
    "%matplotlib inline\n",
    "import matplotlib.pyplot as plt\n",
    "plt.style.use('ggplot')\n",
    "\n",
    "from sklearn.decomposition import PCA\n",
    "\n",
    "from gensim.test.utils import datapath\n",
    "from gensim.models import KeyedVectors\n"
   ]
  },
  {
   "cell_type": "markdown",
   "metadata": {},
   "source": [
    "### load in pretrained word2vec model"
   ]
  },
  {
   "cell_type": "code",
   "execution_count": 4,
   "metadata": {
    "scrolled": true
   },
   "outputs": [],
   "source": [
    "word2vec = datapath('/Users/samraykhman/Downloads/enwiki_20180420_100d.txt')\n",
    "model = KeyedVectors.load_word2vec_format(word2vec)"
   ]
  },
  {
   "cell_type": "markdown",
   "metadata": {},
   "source": [
    "##### word similarity "
   ]
  },
  {
   "cell_type": "markdown",
   "metadata": {},
   "source": [
    "looks thru model and finds most similar word to input"
   ]
  },
  {
   "cell_type": "code",
   "execution_count": 28,
   "metadata": {
    "collapsed": true
   },
   "outputs": [
    {
     "ename": "KeyError",
     "evalue": "\"word 'obamaclinton' not in vocabulary\"",
     "output_type": "error",
     "traceback": [
      "\u001b[0;31m---------------------------------------------------------------------------\u001b[0m",
      "\u001b[0;31mKeyError\u001b[0m                                  Traceback (most recent call last)",
      "\u001b[0;32m<ipython-input-28-6fb738959bf2>\u001b[0m in \u001b[0;36m<module>\u001b[0;34m\u001b[0m\n\u001b[0;32m----> 1\u001b[0;31m \u001b[0mmodel\u001b[0m\u001b[0;34m.\u001b[0m\u001b[0mmost_similar\u001b[0m\u001b[0;34m(\u001b[0m\u001b[0;34m'obama'\u001b[0m\u001b[0;34m+\u001b[0m\u001b[0;34m'clinton'\u001b[0m\u001b[0;34m)\u001b[0m\u001b[0;34m\u001b[0m\u001b[0;34m\u001b[0m\u001b[0m\n\u001b[0m",
      "\u001b[0;32m~/opt/anaconda3/lib/python3.7/site-packages/gensim/models/keyedvectors.py\u001b[0m in \u001b[0;36mmost_similar\u001b[0;34m(self, positive, negative, topn, restrict_vocab, indexer)\u001b[0m\n\u001b[1;32m    551\u001b[0m                 \u001b[0mmean\u001b[0m\u001b[0;34m.\u001b[0m\u001b[0mappend\u001b[0m\u001b[0;34m(\u001b[0m\u001b[0mweight\u001b[0m \u001b[0;34m*\u001b[0m \u001b[0mword\u001b[0m\u001b[0;34m)\u001b[0m\u001b[0;34m\u001b[0m\u001b[0;34m\u001b[0m\u001b[0m\n\u001b[1;32m    552\u001b[0m             \u001b[0;32melse\u001b[0m\u001b[0;34m:\u001b[0m\u001b[0;34m\u001b[0m\u001b[0;34m\u001b[0m\u001b[0m\n\u001b[0;32m--> 553\u001b[0;31m                 \u001b[0mmean\u001b[0m\u001b[0;34m.\u001b[0m\u001b[0mappend\u001b[0m\u001b[0;34m(\u001b[0m\u001b[0mweight\u001b[0m \u001b[0;34m*\u001b[0m \u001b[0mself\u001b[0m\u001b[0;34m.\u001b[0m\u001b[0mword_vec\u001b[0m\u001b[0;34m(\u001b[0m\u001b[0mword\u001b[0m\u001b[0;34m,\u001b[0m \u001b[0muse_norm\u001b[0m\u001b[0;34m=\u001b[0m\u001b[0;32mTrue\u001b[0m\u001b[0;34m)\u001b[0m\u001b[0;34m)\u001b[0m\u001b[0;34m\u001b[0m\u001b[0;34m\u001b[0m\u001b[0m\n\u001b[0m\u001b[1;32m    554\u001b[0m                 \u001b[0;32mif\u001b[0m \u001b[0mword\u001b[0m \u001b[0;32min\u001b[0m \u001b[0mself\u001b[0m\u001b[0;34m.\u001b[0m\u001b[0mvocab\u001b[0m\u001b[0;34m:\u001b[0m\u001b[0;34m\u001b[0m\u001b[0;34m\u001b[0m\u001b[0m\n\u001b[1;32m    555\u001b[0m                     \u001b[0mall_words\u001b[0m\u001b[0;34m.\u001b[0m\u001b[0madd\u001b[0m\u001b[0;34m(\u001b[0m\u001b[0mself\u001b[0m\u001b[0;34m.\u001b[0m\u001b[0mvocab\u001b[0m\u001b[0;34m[\u001b[0m\u001b[0mword\u001b[0m\u001b[0;34m]\u001b[0m\u001b[0;34m.\u001b[0m\u001b[0mindex\u001b[0m\u001b[0;34m)\u001b[0m\u001b[0;34m\u001b[0m\u001b[0;34m\u001b[0m\u001b[0m\n",
      "\u001b[0;32m~/opt/anaconda3/lib/python3.7/site-packages/gensim/models/keyedvectors.py\u001b[0m in \u001b[0;36mword_vec\u001b[0;34m(self, word, use_norm)\u001b[0m\n\u001b[1;32m    466\u001b[0m             \u001b[0;32mreturn\u001b[0m \u001b[0mresult\u001b[0m\u001b[0;34m\u001b[0m\u001b[0;34m\u001b[0m\u001b[0m\n\u001b[1;32m    467\u001b[0m         \u001b[0;32melse\u001b[0m\u001b[0;34m:\u001b[0m\u001b[0;34m\u001b[0m\u001b[0;34m\u001b[0m\u001b[0m\n\u001b[0;32m--> 468\u001b[0;31m             \u001b[0;32mraise\u001b[0m \u001b[0mKeyError\u001b[0m\u001b[0;34m(\u001b[0m\u001b[0;34m\"word '%s' not in vocabulary\"\u001b[0m \u001b[0;34m%\u001b[0m \u001b[0mword\u001b[0m\u001b[0;34m)\u001b[0m\u001b[0;34m\u001b[0m\u001b[0;34m\u001b[0m\u001b[0m\n\u001b[0m\u001b[1;32m    469\u001b[0m \u001b[0;34m\u001b[0m\u001b[0m\n\u001b[1;32m    470\u001b[0m     \u001b[0;32mdef\u001b[0m \u001b[0mget_vector\u001b[0m\u001b[0;34m(\u001b[0m\u001b[0mself\u001b[0m\u001b[0;34m,\u001b[0m \u001b[0mword\u001b[0m\u001b[0;34m)\u001b[0m\u001b[0;34m:\u001b[0m\u001b[0;34m\u001b[0m\u001b[0;34m\u001b[0m\u001b[0m\n",
      "\u001b[0;31mKeyError\u001b[0m: \"word 'obamaclinton' not in vocabulary\""
     ]
    }
   ],
   "source": [
    "model.most_similar('obama'+'clinton')"
   ]
  },
  {
   "cell_type": "code",
   "execution_count": 6,
   "metadata": {},
   "outputs": [
    {
     "data": {
      "text/plain": [
       "[('marriott', 0.8348016738891602),\n",
       " ('ritz', 0.7800472378730774),\n",
       " ('wynfrey', 0.7631688714027405),\n",
       " ('sheraton', 0.7620010375976562),\n",
       " ('soreno', 0.7595160007476807),\n",
       " ('hyatt', 0.7538101673126221),\n",
       " ('westin', 0.7486690878868103),\n",
       " ('doubletree', 0.7433997392654419),\n",
       " ('surfcomber', 0.7387865781784058),\n",
       " ('crowne', 0.73634934425354)]"
      ]
     },
     "execution_count": 6,
     "metadata": {},
     "output_type": "execute_result"
    }
   ],
   "source": [
    "model.most_similar('hilton')"
   ]
  },
  {
   "cell_type": "code",
   "execution_count": 7,
   "metadata": {},
   "outputs": [
    {
     "data": {
      "text/plain": [
       "[('ENTITY/Scythris_inertella', 0.3487658202648163),\n",
       " ('ENTITY/Herrichia_excelsella', 0.3068707585334778),\n",
       " ('ENTITY/Peribatodes_perversaria', 0.2772373557090759),\n",
       " ('ENTITY/Phiaris_septentrionana', 0.2549286484718323),\n",
       " ('ENTITY/Acanthopsyche_ecksteini', 0.24981063604354858),\n",
       " ('ENTITY/Megalodes_eximia', 0.2447773516178131),\n",
       " ('ENTITY/Image:Honey_badger.jpg', 0.2438315451145172),\n",
       " ('ENTITY/Nola_chlamitulalis', 0.23774507641792297),\n",
       " ('ENTITY/Dichrorampha_gruneriana', 0.23250581324100494),\n",
       " ('ENTITY/Scythris_flaviventrella', 0.2278483510017395)]"
      ]
     },
     "execution_count": 7,
     "metadata": {},
     "output_type": "execute_result"
    }
   ],
   "source": [
    "model.most_similar(negative='banana')\n",
    "# returns least similar words"
   ]
  },
  {
   "cell_type": "markdown",
   "metadata": {},
   "source": [
    "<img src=\"male_female.png\">"
   ]
  },
  {
   "cell_type": "code",
   "execution_count": 8,
   "metadata": {},
   "outputs": [
    {
     "name": "stdout",
     "output_type": "stream",
     "text": [
      "queen: 0.8306\n"
     ]
    }
   ],
   "source": [
    "result = model.most_similar(positive=['woman', 'king'], negative=['man'])\n",
    "print(\"{}: {:.4f}\".format(*result[0]))"
   ]
  },
  {
   "cell_type": "markdown",
   "metadata": {},
   "source": [
    "### analogy"
   ]
  },
  {
   "cell_type": "code",
   "execution_count": 9,
   "metadata": {},
   "outputs": [],
   "source": [
    "def analogy(x1, x2, y1):\n",
    "    result = model.most_similar(positive=[y1, x2], negative=[x1])\n",
    "    return result"
   ]
  },
  {
   "cell_type": "code",
   "execution_count": 10,
   "metadata": {},
   "outputs": [
    {
     "data": {
      "text/plain": [
       "[('australian', 0.876969575881958),\n",
       " ('australians', 0.7480740547180176),\n",
       " ('ENTITY/English_Australians', 0.7214674949645996),\n",
       " ('tasmanian', 0.720098614692688),\n",
       " ('nsw', 0.709411084651947),\n",
       " ('queensland', 0.6975623965263367),\n",
       " ('ENTITY/Culture_of_Australia', 0.6928346753120422),\n",
       " ('ENTITY/Australian_nationality_law', 0.691235363483429),\n",
       " ('brataualung', 0.6911288499832153),\n",
       " ('ENTITY/Asian_Australians', 0.6887868642807007)]"
      ]
     },
     "execution_count": 10,
     "metadata": {},
     "output_type": "execute_result"
    }
   ],
   "source": [
    "analogy('japan', 'japanese', 'australia')"
   ]
  },
  {
   "cell_type": "code",
   "execution_count": 11,
   "metadata": {},
   "outputs": [
    {
     "data": {
      "text/plain": [
       "[('ENTITY/Marie_Brizard_et_Roger_International_', 0.7043721675872803),\n",
       " ('cognac', 0.6980258226394653),\n",
       " ('ENTITY/Bosteels_Brewery#Pauwel_Kwak', 0.6938355565071106),\n",
       " ('ENTITY/Marie_Brizard_Wine_&_Spirits', 0.685952365398407),\n",
       " (\"ENTITY/Brasserie_d'Achouffe\", 0.6814519166946411),\n",
       " ('ENTITY/Bosteels_Brewery', 0.6809835433959961),\n",
       " ('alvinne', 0.6767336130142212),\n",
       " ('champagne', 0.6696678400039673),\n",
       " ('pommery', 0.6664804220199585),\n",
       " ('karlsbräu', 0.6664777994155884)]"
      ]
     },
     "execution_count": 11,
     "metadata": {},
     "output_type": "execute_result"
    }
   ],
   "source": [
    "analogy('australia', 'beer', 'france')"
   ]
  },
  {
   "cell_type": "code",
   "execution_count": 12,
   "metadata": {},
   "outputs": [
    {
     "data": {
      "text/plain": [
       "[('nixon', 0.7800427079200745),\n",
       " ('kennedy', 0.723202645778656),\n",
       " ('lyndon', 0.7140451669692993),\n",
       " ('cheney', 0.7088476419448853),\n",
       " ('ENTITY/George_H._W._Bush', 0.7082054615020752),\n",
       " ('ENTITY/Gerald_Ford', 0.7006938457489014),\n",
       " ('eisenhower', 0.6957906484603882),\n",
       " ('mondale', 0.6919281482696533),\n",
       " ('mcgovern', 0.6915150880813599),\n",
       " ('ENTITY/Ronald_Reagan', 0.6883498430252075)]"
      ]
     },
     "execution_count": 12,
     "metadata": {},
     "output_type": "execute_result"
    }
   ],
   "source": [
    "analogy('obama', 'clinton', 'reagan')"
   ]
  },
  {
   "cell_type": "code",
   "execution_count": 13,
   "metadata": {},
   "outputs": [
    {
     "data": {
      "text/plain": [
       "[('longest', 0.7013919353485107),\n",
       " ('shortest', 0.6812496185302734),\n",
       " ('busiest', 0.6250710487365723),\n",
       " ('skyjackings', 0.5888058543205261),\n",
       " ('southernmost', 0.5763955116271973),\n",
       " ('hkbcf', 0.5760782957077026),\n",
       " ('northernmost', 0.5751603841781616),\n",
       " ('ameralik', 0.5735865831375122),\n",
       " ('largest', 0.5719391107559204),\n",
       " ('prior', 0.5631099343299866)]"
      ]
     },
     "execution_count": 13,
     "metadata": {},
     "output_type": "execute_result"
    }
   ],
   "source": [
    "analogy('tall', 'tallest', 'long')"
   ]
  },
  {
   "cell_type": "code",
   "execution_count": 14,
   "metadata": {},
   "outputs": [
    {
     "data": {
      "text/plain": [
       "[('timid', 0.6972248554229736),\n",
       " ('dimwitted', 0.6926876306533813),\n",
       " ('flighty', 0.6924856901168823),\n",
       " ('effete', 0.6862304210662842),\n",
       " ('slatternly', 0.6861974000930786),\n",
       " ('prissy', 0.6815040707588196),\n",
       " ('scatterbrained', 0.6811786890029907),\n",
       " ('henpecked', 0.6807010173797607),\n",
       " ('snobbish', 0.6806244254112244),\n",
       " ('pampered', 0.6768413186073303)]"
      ]
     },
     "execution_count": 14,
     "metadata": {},
     "output_type": "execute_result"
    }
   ],
   "source": [
    "analogy('particular', 'fussy', 'subservient')"
   ]
  },
  {
   "cell_type": "markdown",
   "metadata": {},
   "source": [
    "### which word doesnt belong"
   ]
  },
  {
   "cell_type": "code",
   "execution_count": 15,
   "metadata": {},
   "outputs": [
    {
     "name": "stdout",
     "output_type": "stream",
     "text": [
      "cereal\n"
     ]
    }
   ],
   "source": [
    "print(model.doesnt_match(\"breakfast cereal dinner lunch\".split()))"
   ]
  },
  {
   "cell_type": "markdown",
   "metadata": {},
   "source": [
    "### pca of vector space"
   ]
  },
  {
   "cell_type": "code",
   "execution_count": 16,
   "metadata": {},
   "outputs": [],
   "source": [
    "def display_pca_scatterplot(model, words=None, sample=0):\n",
    "    if words == None:\n",
    "        if sample > 0:\n",
    "            words = np.random.choice(list(model.vocab.keys()), sample)\n",
    "        else:\n",
    "            words = [ word for word in model.vocab ]\n",
    "        \n",
    "    word_vectors = np.array([model[w] for w in words])\n",
    "\n",
    "    twodim = PCA().fit_transform(word_vectors)[:,:2]\n",
    "    \n",
    "    plt.figure(figsize=(6,6))\n",
    "    plt.scatter(twodim[:,0], twodim[:,1], edgecolors='k', c='r')\n",
    "    for word, (x,y) in zip(words, twodim):\n",
    "        plt.text(x+0.05, y+0.05, word)"
   ]
  },
  {
   "cell_type": "code",
   "execution_count": 17,
   "metadata": {},
   "outputs": [
    {
     "data": {
      "image/png": "[encoded data removed]",
      "text/plain": [
       "<Figure size 432x432 with 1 Axes>"
      ]
     },
     "metadata": {
      "needs_background": "light"
     },
     "output_type": "display_data"
    }
   ],
   "source": [
    "display_pca_scatterplot(model, \n",
    "                        ['coffee', 'tea', 'beer', 'wine', 'brandy', 'rum', 'champagne', 'water',\n",
    "                         'spaghetti', 'borscht', 'hamburger', 'pizza', 'falafel', 'sushi', 'meatballs',\n",
    "                         'dog', 'horse', 'cat', 'monkey', 'parrot', 'koala', 'lizard',\n",
    "                         'frog', 'toad', 'monkey', 'ape', 'kangaroo', 'wombat', 'wolf',\n",
    "                         'france', 'germany', 'hungary', 'luxembourg', 'australia', 'fiji', 'china',\n",
    "                         'homework', 'assignment', 'problem', 'exam', 'test', 'class',\n",
    "                         'school', 'college', 'university', 'institute'])"
   ]
  },
  {
   "cell_type": "markdown",
   "metadata": {},
   "source": [
    "# spaCy"
   ]
  },
  {
   "cell_type": "code",
   "execution_count": 18,
   "metadata": {
    "collapsed": true
   },
   "outputs": [
    {
     "name": "stdout",
     "output_type": "stream",
     "text": [
      "Collecting spacy\n",
      "  Downloading spacy-2.3.0-cp37-cp37m-macosx_10_9_x86_64.whl (10.1 MB)\n",
      "\u001b[K     |████████████████████████████████| 10.1 MB 1.5 MB/s eta 0:00:01    |█▉                              | 593 kB 1.4 MB/s eta 0:00:07     |██████████████████████▋         | 7.1 MB 748 kB/s eta 0:00:04     |██████████████████████████████▌ | 9.6 MB 1.5 MB/s eta 0:00:01     |████████████████████████████████| 10.1 MB 1.5 MB/s eta 0:00:01\n",
      "\u001b[?25hCollecting plac<1.2.0,>=0.9.6\n",
      "  Downloading plac-1.1.3-py2.py3-none-any.whl (20 kB)\n",
      "Collecting thinc==7.4.1\n",
      "  Downloading thinc-7.4.1-cp37-cp37m-macosx_10_9_x86_64.whl (2.1 MB)\n",
      "\u001b[K     |████████████████████████████████| 2.1 MB 6.3 MB/s eta 0:00:01\n",
      "\u001b[?25hCollecting catalogue<1.1.0,>=0.0.7\n",
      "  Downloading catalogue-1.0.0-py2.py3-none-any.whl (7.7 kB)\n",
      "Requirement already satisfied: requests<3.0.0,>=2.13.0 in /Users/samraykhman/opt/anaconda3/lib/python3.7/site-packages (from spacy) (2.22.0)\n",
      "Requirement already satisfied: setuptools in /Users/samraykhman/opt/anaconda3/lib/python3.7/site-packages (from spacy) (41.4.0)\n",
      "Collecting cymem<2.1.0,>=2.0.2\n",
      "  Downloading cymem-2.0.3-cp37-cp37m-macosx_10_6_intel.whl (54 kB)\n",
      "\u001b[K     |████████████████████████████████| 54 kB 4.3 MB/s eta 0:00:01\n",
      "\u001b[?25hRequirement already satisfied: numpy>=1.15.0 in /Users/samraykhman/opt/anaconda3/lib/python3.7/site-packages (from spacy) (1.17.2)\n",
      "Collecting tqdm<5.0.0,>=4.38.0\n",
      "  Downloading tqdm-4.46.1-py2.py3-none-any.whl (63 kB)\n",
      "\u001b[K     |████████████████████████████████| 63 kB 5.9 MB/s  eta 0:00:01\n",
      "\u001b[?25hCollecting srsly<1.1.0,>=1.0.2\n",
      "  Downloading srsly-1.0.2-cp37-cp37m-macosx_10_9_x86_64.whl (182 kB)\n",
      "\u001b[K     |████████████████████████████████| 182 kB 12.2 MB/s eta 0:00:01\n",
      "\u001b[?25hCollecting wasabi<1.1.0,>=0.4.0\n",
      "  Downloading wasabi-0.7.0.tar.gz (22 kB)\n",
      "Collecting murmurhash<1.1.0,>=0.28.0\n",
      "  Downloading murmurhash-1.0.2-cp37-cp37m-macosx_10_6_intel.macosx_10_9_intel.macosx_10_9_x86_64.macosx_10_10_intel.macosx_10_10_x86_64.whl (34 kB)\n",
      "Collecting preshed<3.1.0,>=3.0.2\n",
      "  Downloading preshed-3.0.2-cp37-cp37m-macosx_10_6_intel.macosx_10_9_intel.macosx_10_9_x86_64.macosx_10_10_intel.macosx_10_10_x86_64.whl (211 kB)\n",
      "\u001b[K     |████████████████████████████████| 211 kB 7.4 MB/s eta 0:00:01\n",
      "\u001b[?25hCollecting blis<0.5.0,>=0.4.0\n",
      "  Downloading blis-0.4.1-cp37-cp37m-macosx_10_6_intel.macosx_10_9_intel.macosx_10_9_x86_64.macosx_10_10_intel.macosx_10_10_x86_64.whl (4.0 MB)\n",
      "\u001b[K     |████████████████████████████████| 4.0 MB 5.1 MB/s eta 0:00:01\n",
      "\u001b[?25hRequirement already satisfied: importlib-metadata>=0.20; python_version < \"3.8\" in /Users/samraykhman/opt/anaconda3/lib/python3.7/site-packages (from catalogue<1.1.0,>=0.0.7->spacy) (0.23)\n",
      "Requirement already satisfied: urllib3!=1.25.0,!=1.25.1,<1.26,>=1.21.1 in /Users/samraykhman/opt/anaconda3/lib/python3.7/site-packages (from requests<3.0.0,>=2.13.0->spacy) (1.24.2)\n",
      "Requirement already satisfied: certifi>=2017.4.17 in /Users/samraykhman/opt/anaconda3/lib/python3.7/site-packages (from requests<3.0.0,>=2.13.0->spacy) (2019.9.11)\n",
      "Requirement already satisfied: idna<2.9,>=2.5 in /Users/samraykhman/opt/anaconda3/lib/python3.7/site-packages (from requests<3.0.0,>=2.13.0->spacy) (2.8)\n",
      "Requirement already satisfied: chardet<3.1.0,>=3.0.2 in /Users/samraykhman/opt/anaconda3/lib/python3.7/site-packages (from requests<3.0.0,>=2.13.0->spacy) (3.0.4)\n",
      "Requirement already satisfied: zipp>=0.5 in /Users/samraykhman/opt/anaconda3/lib/python3.7/site-packages (from importlib-metadata>=0.20; python_version < \"3.8\"->catalogue<1.1.0,>=0.0.7->spacy) (0.6.0)\n",
      "Requirement already satisfied: more-itertools in /Users/samraykhman/opt/anaconda3/lib/python3.7/site-packages (from zipp>=0.5->importlib-metadata>=0.20; python_version < \"3.8\"->catalogue<1.1.0,>=0.0.7->spacy) (7.2.0)\n",
      "Building wheels for collected packages: wasabi\n",
      "  Building wheel for wasabi (setup.py) ... \u001b[?25ldone\n",
      "\u001b[?25h  Created wheel for wasabi: filename=wasabi-0.7.0-py3-none-any.whl size=20831 sha256=eb1558d39a25d2c5b0601957f8245933cade64feae086079c4ad0965554c45cf\n",
      "  Stored in directory: /Users/samraykhman/Library/Caches/pip/wheels/68/38/40/b82a00fbe88220b7fd467c29a0018357066e14466151189e5a\n",
      "Successfully built wasabi\n",
      "Installing collected packages: plac, catalogue, cymem, murmurhash, preshed, wasabi, srsly, blis, tqdm, thinc, spacy\n",
      "  Attempting uninstall: tqdm\n",
      "    Found existing installation: tqdm 4.36.1\n",
      "    Uninstalling tqdm-4.36.1:\n",
      "      Successfully uninstalled tqdm-4.36.1\n",
      "Successfully installed blis-0.4.1 catalogue-1.0.0 cymem-2.0.3 murmurhash-1.0.2 plac-1.1.3 preshed-3.0.2 spacy-2.3.0 srsly-1.0.2 thinc-7.4.1 tqdm-4.46.1 wasabi-0.7.0\n"
     ]
    }
   ],
   "source": [
    "!pip install spacy"
   ]
  },
  {
   "cell_type": "code",
   "execution_count": 19,
   "metadata": {},
   "outputs": [
    {
     "name": "stdout",
     "output_type": "stream",
     "text": [
      "Requirement already satisfied: tqdm in /Users/samraykhman/opt/anaconda3/lib/python3.7/site-packages (4.46.1)\r\n"
     ]
    }
   ],
   "source": [
    "!pip install tqdm"
   ]
  },
  {
   "cell_type": "code",
   "execution_count": 20,
   "metadata": {
    "collapsed": true
   },
   "outputs": [
    {
     "name": "stdout",
     "output_type": "stream",
     "text": [
      "Collecting en_core_web_md==2.3.0\n",
      "  Downloading https://github.com/explosion/spacy-models/releases/download/en_core_web_md-2.3.0/en_core_web_md-2.3.0.tar.gz (50.8 MB)\n",
      "\u001b[K     |████████████████████████████████| 50.8 MB 1.0 MB/s eta 0:00:01    |██▏                             | 3.4 MB 1.6 MB/s eta 0:00:30     |█████▎                          | 8.3 MB 1.6 MB/s eta 0:00:27     |████████▊                       | 13.8 MB 3.5 MB/s eta 0:00:11     |███████████▎                    | 17.9 MB 3.5 MB/s eta 0:00:10     |████████████████████▉           | 33.0 MB 1.0 MB/s eta 0:00:18     |█████████████████████████████   | 45.9 MB 1.0 MB/s eta 0:00:05     |██████████████████████████████▏ | 47.8 MB 1.0 MB/s eta 0:00:03�██████████▏| 49.5 MB 1.0 MB/s eta 0:00:02\n",
      "\u001b[?25hRequirement already satisfied: spacy<2.4.0,>=2.3.0 in /Users/samraykhman/opt/anaconda3/lib/python3.7/site-packages (from en_core_web_md==2.3.0) (2.3.0)\n",
      "Requirement already satisfied: setuptools in /Users/samraykhman/opt/anaconda3/lib/python3.7/site-packages (from spacy<2.4.0,>=2.3.0->en_core_web_md==2.3.0) (41.4.0)\n",
      "Requirement already satisfied: plac<1.2.0,>=0.9.6 in /Users/samraykhman/opt/anaconda3/lib/python3.7/site-packages (from spacy<2.4.0,>=2.3.0->en_core_web_md==2.3.0) (1.1.3)\n",
      "Requirement already satisfied: wasabi<1.1.0,>=0.4.0 in /Users/samraykhman/opt/anaconda3/lib/python3.7/site-packages (from spacy<2.4.0,>=2.3.0->en_core_web_md==2.3.0) (0.7.0)\n",
      "Requirement already satisfied: thinc==7.4.1 in /Users/samraykhman/opt/anaconda3/lib/python3.7/site-packages (from spacy<2.4.0,>=2.3.0->en_core_web_md==2.3.0) (7.4.1)\n",
      "Requirement already satisfied: catalogue<1.1.0,>=0.0.7 in /Users/samraykhman/opt/anaconda3/lib/python3.7/site-packages (from spacy<2.4.0,>=2.3.0->en_core_web_md==2.3.0) (1.0.0)\n",
      "Requirement already satisfied: srsly<1.1.0,>=1.0.2 in /Users/samraykhman/opt/anaconda3/lib/python3.7/site-packages (from spacy<2.4.0,>=2.3.0->en_core_web_md==2.3.0) (1.0.2)\n",
      "Requirement already satisfied: tqdm<5.0.0,>=4.38.0 in /Users/samraykhman/opt/anaconda3/lib/python3.7/site-packages (from spacy<2.4.0,>=2.3.0->en_core_web_md==2.3.0) (4.46.1)\n",
      "Requirement already satisfied: preshed<3.1.0,>=3.0.2 in /Users/samraykhman/opt/anaconda3/lib/python3.7/site-packages (from spacy<2.4.0,>=2.3.0->en_core_web_md==2.3.0) (3.0.2)\n",
      "Requirement already satisfied: requests<3.0.0,>=2.13.0 in /Users/samraykhman/opt/anaconda3/lib/python3.7/site-packages (from spacy<2.4.0,>=2.3.0->en_core_web_md==2.3.0) (2.22.0)\n",
      "Requirement already satisfied: murmurhash<1.1.0,>=0.28.0 in /Users/samraykhman/opt/anaconda3/lib/python3.7/site-packages (from spacy<2.4.0,>=2.3.0->en_core_web_md==2.3.0) (1.0.2)\n",
      "Requirement already satisfied: blis<0.5.0,>=0.4.0 in /Users/samraykhman/opt/anaconda3/lib/python3.7/site-packages (from spacy<2.4.0,>=2.3.0->en_core_web_md==2.3.0) (0.4.1)\n",
      "Requirement already satisfied: numpy>=1.15.0 in /Users/samraykhman/opt/anaconda3/lib/python3.7/site-packages (from spacy<2.4.0,>=2.3.0->en_core_web_md==2.3.0) (1.17.2)\n",
      "Requirement already satisfied: cymem<2.1.0,>=2.0.2 in /Users/samraykhman/opt/anaconda3/lib/python3.7/site-packages (from spacy<2.4.0,>=2.3.0->en_core_web_md==2.3.0) (2.0.3)\n",
      "Requirement already satisfied: importlib-metadata>=0.20; python_version < \"3.8\" in /Users/samraykhman/opt/anaconda3/lib/python3.7/site-packages (from catalogue<1.1.0,>=0.0.7->spacy<2.4.0,>=2.3.0->en_core_web_md==2.3.0) (0.23)\n",
      "Requirement already satisfied: certifi>=2017.4.17 in /Users/samraykhman/opt/anaconda3/lib/python3.7/site-packages (from requests<3.0.0,>=2.13.0->spacy<2.4.0,>=2.3.0->en_core_web_md==2.3.0) (2019.9.11)\n",
      "Requirement already satisfied: urllib3!=1.25.0,!=1.25.1,<1.26,>=1.21.1 in /Users/samraykhman/opt/anaconda3/lib/python3.7/site-packages (from requests<3.0.0,>=2.13.0->spacy<2.4.0,>=2.3.0->en_core_web_md==2.3.0) (1.24.2)\n",
      "Requirement already satisfied: idna<2.9,>=2.5 in /Users/samraykhman/opt/anaconda3/lib/python3.7/site-packages (from requests<3.0.0,>=2.13.0->spacy<2.4.0,>=2.3.0->en_core_web_md==2.3.0) (2.8)\n",
      "Requirement already satisfied: chardet<3.1.0,>=3.0.2 in /Users/samraykhman/opt/anaconda3/lib/python3.7/site-packages (from requests<3.0.0,>=2.13.0->spacy<2.4.0,>=2.3.0->en_core_web_md==2.3.0) (3.0.4)\n",
      "Requirement already satisfied: zipp>=0.5 in /Users/samraykhman/opt/anaconda3/lib/python3.7/site-packages (from importlib-metadata>=0.20; python_version < \"3.8\"->catalogue<1.1.0,>=0.0.7->spacy<2.4.0,>=2.3.0->en_core_web_md==2.3.0) (0.6.0)\n",
      "Requirement already satisfied: more-itertools in /Users/samraykhman/opt/anaconda3/lib/python3.7/site-packages (from zipp>=0.5->importlib-metadata>=0.20; python_version < \"3.8\"->catalogue<1.1.0,>=0.0.7->spacy<2.4.0,>=2.3.0->en_core_web_md==2.3.0) (7.2.0)\n",
      "Building wheels for collected packages: en-core-web-md\n",
      "  Building wheel for en-core-web-md (setup.py) ... \u001b[?25ldone\n",
      "\u001b[?25h  Created wheel for en-core-web-md: filename=en_core_web_md-2.3.0-py3-none-any.whl size=50921514 sha256=47dccba1bceb6ef46c13721a80ed24f376442d91c85fdb28b79bc84f78a30ada\n",
      "  Stored in directory: /private/var/folders/75/2z9kpn5d6mj79sg1n0j19_7w0000gn/T/pip-ephem-wheel-cache-xpjyiqmq/wheels/a9/30/7d/40a0d13f1ddae5b6398c9f407391942152348eb9eae62fa21e\n",
      "Successfully built en-core-web-md\n",
      "Installing collected packages: en-core-web-md\n",
      "Successfully installed en-core-web-md-2.3.0\n",
      "\u001b[38;5;2m✔ Download and installation successful\u001b[0m\n",
      "You can now load the model via spacy.load('en_core_web_md')\n"
     ]
    }
   ],
   "source": [
    "!python -m spacy download en_core_web_md"
   ]
  },
  {
   "cell_type": "code",
   "execution_count": 21,
   "metadata": {},
   "outputs": [],
   "source": [
    "import spacy\n",
    "import pandas as pd\n",
    "import numpy as np\n",
    "from tqdm import tqdm"
   ]
  },
  {
   "cell_type": "code",
   "execution_count": 23,
   "metadata": {},
   "outputs": [],
   "source": [
    "tqdm.pandas()"
   ]
  },
  {
   "cell_type": "code",
   "execution_count": 22,
   "metadata": {},
   "outputs": [],
   "source": [
    "df = pd.read_csv(\"yelp.csv\")"
   ]
  },
  {
   "cell_type": "code",
   "execution_count": 24,
   "metadata": {
    "scrolled": true
   },
   "outputs": [
    {
     "data": {
      "text/html": [
       "<div>\n",
       "<style scoped>\n",
       "    .dataframe tbody tr th:only-of-type {\n",
       "        vertical-align: middle;\n",
       "    }\n",
       "\n",
       "    .dataframe tbody tr th {\n",
       "        vertical-align: top;\n",
       "    }\n",
       "\n",
       "    .dataframe thead th {\n",
       "        text-align: right;\n",
       "    }\n",
       "</style>\n",
       "<table border=\"1\" class=\"dataframe\">\n",
       "  <thead>\n",
       "    <tr style=\"text-align: right;\">\n",
       "      <th></th>\n",
       "      <th>business_id</th>\n",
       "      <th>date</th>\n",
       "      <th>review_id</th>\n",
       "      <th>stars</th>\n",
       "      <th>text</th>\n",
       "      <th>type</th>\n",
       "      <th>user_id</th>\n",
       "      <th>cool</th>\n",
       "      <th>useful</th>\n",
       "      <th>funny</th>\n",
       "    </tr>\n",
       "  </thead>\n",
       "  <tbody>\n",
       "    <tr>\n",
       "      <td>0</td>\n",
       "      <td>9yKzy9PApeiPPOUJEtnvkg</td>\n",
       "      <td>2011-01-26</td>\n",
       "      <td>fWKvX83p0-ka4JS3dc6E5A</td>\n",
       "      <td>5</td>\n",
       "      <td>My wife took me here on my birthday for breakf...</td>\n",
       "      <td>review</td>\n",
       "      <td>rLtl8ZkDX5vH5nAx9C3q5Q</td>\n",
       "      <td>2</td>\n",
       "      <td>5</td>\n",
       "      <td>0</td>\n",
       "    </tr>\n",
       "    <tr>\n",
       "      <td>1</td>\n",
       "      <td>ZRJwVLyzEJq1VAihDhYiow</td>\n",
       "      <td>2011-07-27</td>\n",
       "      <td>IjZ33sJrzXqU-0X6U8NwyA</td>\n",
       "      <td>5</td>\n",
       "      <td>I have no idea why some people give bad review...</td>\n",
       "      <td>review</td>\n",
       "      <td>0a2KyEL0d3Yb1V6aivbIuQ</td>\n",
       "      <td>0</td>\n",
       "      <td>0</td>\n",
       "      <td>0</td>\n",
       "    </tr>\n",
       "    <tr>\n",
       "      <td>2</td>\n",
       "      <td>6oRAC4uyJCsJl1X0WZpVSA</td>\n",
       "      <td>2012-06-14</td>\n",
       "      <td>IESLBzqUCLdSzSqm0eCSxQ</td>\n",
       "      <td>4</td>\n",
       "      <td>love the gyro plate. Rice is so good and I als...</td>\n",
       "      <td>review</td>\n",
       "      <td>0hT2KtfLiobPvh6cDC8JQg</td>\n",
       "      <td>0</td>\n",
       "      <td>1</td>\n",
       "      <td>0</td>\n",
       "    </tr>\n",
       "    <tr>\n",
       "      <td>3</td>\n",
       "      <td>_1QQZuf4zZOyFCvXc0o6Vg</td>\n",
       "      <td>2010-05-27</td>\n",
       "      <td>G-WvGaISbqqaMHlNnByodA</td>\n",
       "      <td>5</td>\n",
       "      <td>Rosie, Dakota, and I LOVE Chaparral Dog Park!!...</td>\n",
       "      <td>review</td>\n",
       "      <td>uZetl9T0NcROGOyFfughhg</td>\n",
       "      <td>1</td>\n",
       "      <td>2</td>\n",
       "      <td>0</td>\n",
       "    </tr>\n",
       "    <tr>\n",
       "      <td>4</td>\n",
       "      <td>6ozycU1RpktNG2-1BroVtw</td>\n",
       "      <td>2012-01-05</td>\n",
       "      <td>1uJFq2r5QfJG_6ExMRCaGw</td>\n",
       "      <td>5</td>\n",
       "      <td>General Manager Scott Petello is a good egg!!!...</td>\n",
       "      <td>review</td>\n",
       "      <td>vYmM4KTsC8ZfQBg-j5MWkw</td>\n",
       "      <td>0</td>\n",
       "      <td>0</td>\n",
       "      <td>0</td>\n",
       "    </tr>\n",
       "  </tbody>\n",
       "</table>\n",
       "</div>"
      ],
      "text/plain": [
       "              business_id        date               review_id  stars  \\\n",
       "0  9yKzy9PApeiPPOUJEtnvkg  2011-01-26  fWKvX83p0-ka4JS3dc6E5A      5   \n",
       "1  ZRJwVLyzEJq1VAihDhYiow  2011-07-27  IjZ33sJrzXqU-0X6U8NwyA      5   \n",
       "2  6oRAC4uyJCsJl1X0WZpVSA  2012-06-14  IESLBzqUCLdSzSqm0eCSxQ      4   \n",
       "3  _1QQZuf4zZOyFCvXc0o6Vg  2010-05-27  G-WvGaISbqqaMHlNnByodA      5   \n",
       "4  6ozycU1RpktNG2-1BroVtw  2012-01-05  1uJFq2r5QfJG_6ExMRCaGw      5   \n",
       "\n",
       "                                                text    type  \\\n",
       "0  My wife took me here on my birthday for breakf...  review   \n",
       "1  I have no idea why some people give bad review...  review   \n",
       "2  love the gyro plate. Rice is so good and I als...  review   \n",
       "3  Rosie, Dakota, and I LOVE Chaparral Dog Park!!...  review   \n",
       "4  General Manager Scott Petello is a good egg!!!...  review   \n",
       "\n",
       "                  user_id  cool  useful  funny  \n",
       "0  rLtl8ZkDX5vH5nAx9C3q5Q     2       5      0  \n",
       "1  0a2KyEL0d3Yb1V6aivbIuQ     0       0      0  \n",
       "2  0hT2KtfLiobPvh6cDC8JQg     0       1      0  \n",
       "3  uZetl9T0NcROGOyFfughhg     1       2      0  \n",
       "4  vYmM4KTsC8ZfQBg-j5MWkw     0       0      0  "
      ]
     },
     "execution_count": 24,
     "metadata": {},
     "output_type": "execute_result"
    }
   ],
   "source": [
    "df.head()\n"
   ]
  },
  {
   "cell_type": "code",
   "execution_count": 25,
   "metadata": {},
   "outputs": [
    {
     "data": {
      "text/plain": [
       "(10000, 10)"
      ]
     },
     "execution_count": 25,
     "metadata": {},
     "output_type": "execute_result"
    }
   ],
   "source": [
    "df.shape"
   ]
  },
  {
   "cell_type": "markdown",
   "metadata": {},
   "source": [
    "## spaCy Pipeline"
   ]
  },
  {
   "cell_type": "code",
   "execution_count": 26,
   "metadata": {},
   "outputs": [],
   "source": [
    "nlp = spacy.load('en_core_web_md')\n",
    "# english core web medium\n",
    "# core data trained medium on the web and in english"
   ]
  },
  {
   "cell_type": "code",
   "execution_count": 27,
   "metadata": {
    "scrolled": true
   },
   "outputs": [
    {
     "name": "stderr",
     "output_type": "stream",
     "text": [
      "100%|██████████| 10000/10000 [05:40<00:00, 29.39it/s]\n"
     ]
    }
   ],
   "source": [
    "df['spacy'] = df.text.progress_apply(lambda x: nlp(x))"
   ]
  },
  {
   "cell_type": "markdown",
   "metadata": {},
   "source": [
    "#### each document in the corpus is a doc object containing individual token objects"
   ]
  },
  {
   "cell_type": "code",
   "execution_count": 30,
   "metadata": {
    "collapsed": true
   },
   "outputs": [
    {
     "data": {
      "text/plain": [
       "My wife took me here on my birthday for breakfast and it was excellent.  The weather was perfect which made sitting outside overlooking their grounds an absolute pleasure.  Our waitress was excellent and our food arrived quickly on the semi-busy Saturday morning.  It looked like the place fills up pretty quickly so the earlier you get here the better.\n",
       "\n",
       "Do yourself a favor and get their Bloody Mary.  It was phenomenal and simply the best I've ever had.  I'm pretty sure they only use ingredients from their garden and blend them fresh when you order it.  It was amazing.\n",
       "\n",
       "While EVERYTHING on the menu looks excellent, I had the white truffle scrambled eggs vegetable skillet and it was tasty and delicious.  It came with 2 pieces of their griddled bread with was amazing and it absolutely made the meal complete.  It was the best \"toast\" I've ever had.\n",
       "\n",
       "Anyway, I can't wait to go back!"
      ]
     },
     "execution_count": 30,
     "metadata": {},
     "output_type": "execute_result"
    }
   ],
   "source": [
    "df.spacy[0]"
   ]
  },
  {
   "cell_type": "code",
   "execution_count": 31,
   "metadata": {},
   "outputs": [
    {
     "data": {
      "text/plain": [
       "My"
      ]
     },
     "execution_count": 31,
     "metadata": {},
     "output_type": "execute_result"
    }
   ],
   "source": [
    "df.spacy[0][0]"
   ]
  },
  {
   "cell_type": "code",
   "execution_count": 32,
   "metadata": {},
   "outputs": [],
   "source": [
    "doc = df.spacy[0]"
   ]
  },
  {
   "cell_type": "code",
   "execution_count": 34,
   "metadata": {
    "collapsed": true
   },
   "outputs": [
    {
     "data": {
      "text/plain": [
       "My wife took me here on my birthday for breakfast and it was excellent.  The weather was perfect which made sitting outside overlooking their grounds an absolute pleasure.  Our waitress was excellent and our food arrived quickly on the semi-busy Saturday morning.  It looked like the place fills up pretty quickly so the earlier you get here the better.\n",
       "\n",
       "Do yourself a favor and get their Bloody Mary.  It was phenomenal and simply the best I've ever had.  I'm pretty sure they only use ingredients from their garden and blend them fresh when you order it.  It was amazing.\n",
       "\n",
       "While EVERYTHING on the menu looks excellent, I had the white truffle scrambled eggs vegetable skillet and it was tasty and delicious.  It came with 2 pieces of their griddled bread with was amazing and it absolutely made the meal complete.  It was the best \"toast\" I've ever had.\n",
       "\n",
       "Anyway, I can't wait to go back!"
      ]
     },
     "execution_count": 34,
     "metadata": {},
     "output_type": "execute_result"
    }
   ],
   "source": [
    "doc"
   ]
  },
  {
   "cell_type": "code",
   "execution_count": 33,
   "metadata": {
    "scrolled": true
   },
   "outputs": [
    {
     "data": {
      "text/plain": [
       "True"
      ]
     },
     "execution_count": 33,
     "metadata": {},
     "output_type": "execute_result"
    }
   ],
   "source": [
    "#weod is me\n",
    "doc[3].is_stop"
   ]
  },
  {
   "cell_type": "code",
   "execution_count": 36,
   "metadata": {
    "collapsed": true
   },
   "outputs": [
    {
     "data": {
      "text/plain": [
       "array([-2.16472726e-02,  1.38191238e-01, -1.06210820e-01, -7.80636594e-02,\n",
       "        5.61806038e-02,  6.08623475e-02, -3.80515819e-03, -1.12673543e-01,\n",
       "       -3.38070281e-02,  2.10151386e+00, -1.73609957e-01,  1.19751193e-01,\n",
       "        3.50309163e-02, -6.69298396e-02, -1.05082646e-01, -1.17402479e-01,\n",
       "       -1.16695091e-01,  1.02826262e+00, -1.57375470e-01, -2.55518742e-02,\n",
       "       -6.61128107e-03, -6.39689639e-02, -2.30317339e-02, -9.03448928e-03,\n",
       "       -2.29081046e-03, -1.33597646e-02, -7.41439983e-02, -9.14439410e-02,\n",
       "        1.05163408e-02, -1.64022028e-01, -4.69215848e-02,  1.09594710e-01,\n",
       "       -1.79926567e-02,  3.67425978e-02,  5.61799668e-03, -6.92143366e-02,\n",
       "        2.06234418e-02,  1.75198819e-02, -6.45311698e-02, -1.49663622e-02,\n",
       "        6.39529200e-03,  3.73507850e-02,  1.52204772e-02, -7.17922077e-02,\n",
       "        1.03556134e-01,  1.43605277e-01, -1.83414057e-01,  1.27725322e-02,\n",
       "        2.50832606e-02,  2.44922079e-02, -4.45213169e-02,  2.43482795e-02,\n",
       "       -1.14679057e-02, -1.34415587e-03,  8.88832659e-02, -4.49697450e-02,\n",
       "       -3.18901800e-02, -7.11183846e-02,  1.01069575e-02, -3.60640325e-02,\n",
       "       -1.59966643e-03, -1.07953712e-01, -3.08407424e-03,  2.05494255e-01,\n",
       "        2.25179531e-02, -9.56916809e-02,  1.85758490e-02,  7.83707723e-02,\n",
       "        7.24024549e-02,  1.42011374e-01,  7.83979818e-02,  1.51397288e-01,\n",
       "        1.94071218e-01,  1.16955368e-02,  1.01941198e-01,  1.97983049e-02,\n",
       "        8.44153836e-02, -4.29848321e-02, -1.45981014e-01,  1.45277873e-01,\n",
       "       -1.34222989e-03,  7.80382380e-02, -6.98099956e-02, -4.77829017e-02,\n",
       "        4.04745303e-02, -2.03981906e-01,  9.50954705e-02, -2.72707511e-02,\n",
       "        1.71403140e-01,  8.37959424e-02, -9.62781310e-02,  1.25786448e-02,\n",
       "       -1.98370796e-02,  8.09933469e-02,  1.51461080e-01,  3.18491533e-02,\n",
       "       -2.39972444e-03, -5.38832135e-02, -5.30457217e-03,  2.46442370e-02,\n",
       "       -2.92384364e-02, -2.38109101e-02, -3.29071321e-02, -8.64832625e-02,\n",
       "        4.53083478e-02, -5.89851618e-01,  2.04472557e-01, -3.39673162e-02,\n",
       "        1.20276757e-01, -5.63761070e-02,  4.68962640e-02, -1.99994028e-01,\n",
       "        8.10624361e-02, -7.30224252e-02,  6.63273707e-02, -7.70672262e-02,\n",
       "       -6.21797564e-03,  3.24645005e-02, -1.14337979e-02, -4.45546396e-02,\n",
       "        8.04617479e-02,  1.05825970e-02,  6.14057528e-04, -7.18702422e-03,\n",
       "       -1.80047494e-03,  3.03531401e-02, -2.63211727e-02, -1.62567750e-01,\n",
       "        3.04898843e-02, -3.66991982e-02, -2.86249686e-02, -1.11500926e-01,\n",
       "       -1.18190706e-01,  6.60909861e-02,  7.73873776e-02,  3.17782275e-02,\n",
       "        4.17082086e-02,  5.16287833e-02, -5.15348569e-04, -3.97994108e-02,\n",
       "       -1.49193156e+00,  1.02772683e-01,  1.85550839e-01,  3.98739651e-02,\n",
       "        3.75153758e-02, -1.42288387e-01, -1.59684882e-01,  9.86961797e-02,\n",
       "        7.70656914e-02, -3.79956700e-02, -5.58916926e-02,  4.80921939e-02,\n",
       "        1.48791775e-01, -1.66093186e-02, -8.49841833e-02, -4.55700047e-02,\n",
       "       -5.62906452e-02, -6.45205900e-02,  3.76811475e-02, -8.34217072e-02,\n",
       "       -1.02628097e-01,  5.26912957e-02,  6.22094935e-03, -9.31172296e-02,\n",
       "       -5.69571517e-02, -2.06784651e-01,  4.97383401e-02, -6.34225085e-02,\n",
       "        1.83357447e-01, -1.31700849e-02, -1.62401572e-02, -2.98261456e-02,\n",
       "        3.31797972e-02, -1.36825636e-01, -1.81931511e-01,  1.13778319e-02,\n",
       "       -5.46160191e-02, -6.84830993e-02, -6.09143153e-02, -8.37759301e-02,\n",
       "       -1.48124592e-02, -1.36200964e-01, -1.47697970e-01, -6.89197034e-02,\n",
       "       -1.74363703e-02, -1.12878315e-01, -4.17977199e-02, -8.65453854e-02,\n",
       "        5.04579097e-02,  6.15918171e-03, -2.86978837e-02,  2.52853725e-02,\n",
       "       -7.92485848e-02,  3.30525488e-02,  1.33348070e-02,  1.40429959e-01,\n",
       "        2.85379663e-02, -6.87305182e-02, -1.16391331e-02,  1.40786082e-01,\n",
       "       -7.59079382e-02, -6.14117868e-02, -5.40102348e-02,  1.14505775e-02,\n",
       "        2.10391611e-01,  8.88700783e-02,  3.44017372e-02,  3.62903886e-02,\n",
       "        7.44789913e-02,  3.30458774e-04, -4.83545102e-02, -4.46056351e-02,\n",
       "       -3.94461118e-02, -1.26261011e-01,  4.30457853e-02,  1.60340101e-01,\n",
       "       -5.00722835e-03, -8.39354843e-02, -1.74452513e-01,  5.89504130e-02,\n",
       "       -5.09009548e-02, -1.38340583e-02, -6.82408512e-02,  1.20298535e-01,\n",
       "        4.30710316e-02, -5.99162318e-02, -5.01450673e-02,  1.03047818e-01,\n",
       "       -2.04319917e-02,  4.65345383e-02, -8.85456651e-02, -1.83122717e-02,\n",
       "        6.59040064e-02,  7.62158781e-02,  2.41146907e-02, -1.04611024e-01,\n",
       "       -1.46620590e-02, -1.22531019e-01, -6.96631819e-02,  7.15705156e-02,\n",
       "       -2.07046722e-03,  7.04990998e-02, -8.35697576e-02,  8.35453123e-02,\n",
       "        1.19046211e-01, -1.03892177e-01, -1.26009703e-01, -1.37757316e-01,\n",
       "       -1.37988701e-01,  9.20612365e-02, -3.57012334e-03, -7.72535279e-02,\n",
       "       -7.38137215e-02, -2.70520747e-02,  6.10805638e-02,  2.35150889e-01,\n",
       "        1.45176962e-01, -9.91215091e-03, -8.04688931e-02,  4.64397073e-02,\n",
       "        1.19840249e-01,  1.25035807e-01,  2.58997902e-02,  1.00410695e-03,\n",
       "        1.01799071e-01,  5.10348065e-04, -6.43950626e-02,  1.27105406e-02,\n",
       "        1.46022752e-01,  4.04921584e-02,  4.77672890e-02, -2.42062025e-02,\n",
       "       -1.14446841e-01, -1.56842604e-01, -1.37502551e-01,  5.77849485e-02,\n",
       "        1.22084999e-02,  2.74261925e-02,  4.82187271e-02,  2.76082456e-01,\n",
       "        2.29598761e-01, -1.73978098e-02, -1.11689540e-02, -9.85286608e-02,\n",
       "       -4.08407785e-02, -2.25192960e-02,  1.69913471e-01, -1.29924510e-02,\n",
       "        6.41593710e-02, -2.00370960e-02, -1.36959046e-01,  5.13969772e-02,\n",
       "        1.86417121e-02, -2.30691005e-02,  2.31272876e-02, -4.42283750e-02,\n",
       "        4.94655259e-02, -5.46648614e-02,  4.28696945e-02,  8.64299238e-02],\n",
       "      dtype=float32)"
      ]
     },
     "execution_count": 36,
     "metadata": {},
     "output_type": "execute_result"
    }
   ],
   "source": [
    "doc.vector"
   ]
  },
  {
   "cell_type": "markdown",
   "metadata": {},
   "source": [
    "#### part of speach tagging"
   ]
  },
  {
   "cell_type": "code",
   "execution_count": 40,
   "metadata": {},
   "outputs": [
    {
     "data": {
      "text/plain": [
       "'PRON'"
      ]
     },
     "execution_count": 40,
     "metadata": {},
     "output_type": "execute_result"
    }
   ],
   "source": [
    "doc[3].pos_"
   ]
  },
  {
   "cell_type": "markdown",
   "metadata": {},
   "source": [
    "#### vector from loaded language model"
   ]
  },
  {
   "cell_type": "code",
   "execution_count": null,
   "metadata": {},
   "outputs": [],
   "source": [
    "#stop words HAVE a vector representation\n",
    "doc[3].vector"
   ]
  },
  {
   "cell_type": "markdown",
   "metadata": {},
   "source": [
    "#### vector representation of document (avg of all word vectors in doc)"
   ]
  },
  {
   "cell_type": "code",
   "execution_count": 41,
   "metadata": {},
   "outputs": [
    {
     "data": {
      "text/plain": [
       "3.2036364011442964"
      ]
     },
     "execution_count": 41,
     "metadata": {},
     "output_type": "execute_result"
    }
   ],
   "source": [
    "doc.vector_norm"
   ]
  },
  {
   "cell_type": "markdown",
   "metadata": {},
   "source": [
    "#### sentance splitting in document"
   ]
  },
  {
   "cell_type": "code",
   "execution_count": 42,
   "metadata": {
    "collapsed": true
   },
   "outputs": [
    {
     "data": {
      "text/plain": [
       "[My wife took me here on my birthday for breakfast and it was excellent.  ,\n",
       " The weather was perfect which made sitting outside overlooking their grounds an absolute pleasure.  ,\n",
       " Our waitress was excellent and our food arrived quickly on the semi-busy Saturday morning.  ,\n",
       " It looked like the place fills up pretty quickly,\n",
       " so the earlier you get here the better.\n",
       " ,\n",
       " Do yourself a favor and get their Bloody Mary.  ,\n",
       " It was phenomenal and simply the best I've ever had.  ,\n",
       " I'm pretty sure they only use ingredients from their garden and blend them fresh when you order it.  ,\n",
       " It was amazing.\n",
       " ,\n",
       " While EVERYTHING on the menu looks excellent, I had the white truffle scrambled eggs vegetable skillet,\n",
       " and it was tasty and delicious.  ,\n",
       " It came with 2 pieces of their griddled bread with was amazing and it absolutely made the meal complete.  ,\n",
       " It was the best \"toast\" I've ever had.\n",
       " ,\n",
       " Anyway, I can't wait to go back!]"
      ]
     },
     "execution_count": 42,
     "metadata": {},
     "output_type": "execute_result"
    }
   ],
   "source": [
    "[sents for sents in doc.sents]"
   ]
  },
  {
   "cell_type": "markdown",
   "metadata": {},
   "source": [
    "#### document similarity"
   ]
  },
  {
   "cell_type": "code",
   "execution_count": 43,
   "metadata": {},
   "outputs": [
    {
     "data": {
      "text/plain": [
       "0.9821754392705216"
      ]
     },
     "execution_count": 43,
     "metadata": {},
     "output_type": "execute_result"
    }
   ],
   "source": [
    "doc_2 = df.spacy[1]\n",
    "doc.similarity(doc_2)"
   ]
  },
  {
   "cell_type": "code",
   "execution_count": null,
   "metadata": {},
   "outputs": [],
   "source": [
    "doc"
   ]
  },
  {
   "cell_type": "markdown",
   "metadata": {},
   "source": [
    "### see documentation for all you can do\n",
    "* https://spacy.io/api/token\n",
    "* https://spacy.io/api/doc"
   ]
  },
  {
   "cell_type": "code",
   "execution_count": 44,
   "metadata": {},
   "outputs": [
    {
     "data": {
      "text/html": [
       "<div>\n",
       "<style scoped>\n",
       "    .dataframe tbody tr th:only-of-type {\n",
       "        vertical-align: middle;\n",
       "    }\n",
       "\n",
       "    .dataframe tbody tr th {\n",
       "        vertical-align: top;\n",
       "    }\n",
       "\n",
       "    .dataframe thead th {\n",
       "        text-align: right;\n",
       "    }\n",
       "</style>\n",
       "<table border=\"1\" class=\"dataframe\">\n",
       "  <thead>\n",
       "    <tr style=\"text-align: right;\">\n",
       "      <th></th>\n",
       "      <th>0</th>\n",
       "      <th>1</th>\n",
       "      <th>2</th>\n",
       "      <th>3</th>\n",
       "      <th>4</th>\n",
       "      <th>5</th>\n",
       "      <th>6</th>\n",
       "      <th>7</th>\n",
       "      <th>8</th>\n",
       "      <th>9</th>\n",
       "      <th>...</th>\n",
       "      <th>290</th>\n",
       "      <th>291</th>\n",
       "      <th>292</th>\n",
       "      <th>293</th>\n",
       "      <th>294</th>\n",
       "      <th>295</th>\n",
       "      <th>296</th>\n",
       "      <th>297</th>\n",
       "      <th>298</th>\n",
       "      <th>299</th>\n",
       "    </tr>\n",
       "  </thead>\n",
       "  <tbody>\n",
       "    <tr>\n",
       "      <td>0</td>\n",
       "      <td>-0.021647</td>\n",
       "      <td>0.138191</td>\n",
       "      <td>-0.106211</td>\n",
       "      <td>-0.078064</td>\n",
       "      <td>0.056181</td>\n",
       "      <td>0.060862</td>\n",
       "      <td>-0.003805</td>\n",
       "      <td>-0.112674</td>\n",
       "      <td>-0.033807</td>\n",
       "      <td>2.101514</td>\n",
       "      <td>...</td>\n",
       "      <td>-0.136959</td>\n",
       "      <td>0.051397</td>\n",
       "      <td>0.018642</td>\n",
       "      <td>-0.023069</td>\n",
       "      <td>0.023127</td>\n",
       "      <td>-0.044228</td>\n",
       "      <td>0.049466</td>\n",
       "      <td>-0.054665</td>\n",
       "      <td>0.042870</td>\n",
       "      <td>0.086430</td>\n",
       "    </tr>\n",
       "    <tr>\n",
       "      <td>1</td>\n",
       "      <td>-0.051446</td>\n",
       "      <td>0.174888</td>\n",
       "      <td>-0.162487</td>\n",
       "      <td>-0.085476</td>\n",
       "      <td>0.075221</td>\n",
       "      <td>0.077776</td>\n",
       "      <td>0.023618</td>\n",
       "      <td>-0.094539</td>\n",
       "      <td>0.011515</td>\n",
       "      <td>2.291694</td>\n",
       "      <td>...</td>\n",
       "      <td>-0.185593</td>\n",
       "      <td>0.048113</td>\n",
       "      <td>-0.003736</td>\n",
       "      <td>-0.029323</td>\n",
       "      <td>0.014807</td>\n",
       "      <td>-0.067929</td>\n",
       "      <td>-0.012392</td>\n",
       "      <td>-0.065273</td>\n",
       "      <td>0.063565</td>\n",
       "      <td>0.102081</td>\n",
       "    </tr>\n",
       "    <tr>\n",
       "      <td>2</td>\n",
       "      <td>0.017356</td>\n",
       "      <td>0.126895</td>\n",
       "      <td>-0.039717</td>\n",
       "      <td>-0.133329</td>\n",
       "      <td>0.094522</td>\n",
       "      <td>0.094641</td>\n",
       "      <td>0.031455</td>\n",
       "      <td>-0.209612</td>\n",
       "      <td>-0.031536</td>\n",
       "      <td>1.723231</td>\n",
       "      <td>...</td>\n",
       "      <td>-0.226321</td>\n",
       "      <td>0.145408</td>\n",
       "      <td>-0.109102</td>\n",
       "      <td>-0.080141</td>\n",
       "      <td>0.077363</td>\n",
       "      <td>-0.122503</td>\n",
       "      <td>0.094507</td>\n",
       "      <td>-0.145394</td>\n",
       "      <td>0.001237</td>\n",
       "      <td>0.178629</td>\n",
       "    </tr>\n",
       "    <tr>\n",
       "      <td>3</td>\n",
       "      <td>0.060860</td>\n",
       "      <td>0.164606</td>\n",
       "      <td>-0.154045</td>\n",
       "      <td>-0.168020</td>\n",
       "      <td>0.138500</td>\n",
       "      <td>0.092502</td>\n",
       "      <td>-0.002123</td>\n",
       "      <td>-0.076254</td>\n",
       "      <td>-0.074994</td>\n",
       "      <td>1.953031</td>\n",
       "      <td>...</td>\n",
       "      <td>-0.180692</td>\n",
       "      <td>-0.032520</td>\n",
       "      <td>0.012061</td>\n",
       "      <td>-0.062361</td>\n",
       "      <td>-0.013487</td>\n",
       "      <td>0.018939</td>\n",
       "      <td>0.078037</td>\n",
       "      <td>-0.067532</td>\n",
       "      <td>-0.028504</td>\n",
       "      <td>0.090960</td>\n",
       "    </tr>\n",
       "    <tr>\n",
       "      <td>4</td>\n",
       "      <td>-0.095067</td>\n",
       "      <td>0.196053</td>\n",
       "      <td>-0.222208</td>\n",
       "      <td>-0.049087</td>\n",
       "      <td>0.052358</td>\n",
       "      <td>-0.010961</td>\n",
       "      <td>0.008600</td>\n",
       "      <td>-0.170744</td>\n",
       "      <td>-0.042944</td>\n",
       "      <td>2.149826</td>\n",
       "      <td>...</td>\n",
       "      <td>-0.194802</td>\n",
       "      <td>0.040638</td>\n",
       "      <td>-0.044806</td>\n",
       "      <td>-0.043795</td>\n",
       "      <td>0.094823</td>\n",
       "      <td>-0.067053</td>\n",
       "      <td>-0.022288</td>\n",
       "      <td>-0.071459</td>\n",
       "      <td>0.071956</td>\n",
       "      <td>0.073355</td>\n",
       "    </tr>\n",
       "    <tr>\n",
       "      <td>...</td>\n",
       "      <td>...</td>\n",
       "      <td>...</td>\n",
       "      <td>...</td>\n",
       "      <td>...</td>\n",
       "      <td>...</td>\n",
       "      <td>...</td>\n",
       "      <td>...</td>\n",
       "      <td>...</td>\n",
       "      <td>...</td>\n",
       "      <td>...</td>\n",
       "      <td>...</td>\n",
       "      <td>...</td>\n",
       "      <td>...</td>\n",
       "      <td>...</td>\n",
       "      <td>...</td>\n",
       "      <td>...</td>\n",
       "      <td>...</td>\n",
       "      <td>...</td>\n",
       "      <td>...</td>\n",
       "      <td>...</td>\n",
       "      <td>...</td>\n",
       "    </tr>\n",
       "    <tr>\n",
       "      <td>9995</td>\n",
       "      <td>-0.075224</td>\n",
       "      <td>0.134890</td>\n",
       "      <td>-0.089058</td>\n",
       "      <td>-0.109522</td>\n",
       "      <td>0.056692</td>\n",
       "      <td>0.149972</td>\n",
       "      <td>-0.031459</td>\n",
       "      <td>-0.069323</td>\n",
       "      <td>-0.004701</td>\n",
       "      <td>1.914595</td>\n",
       "      <td>...</td>\n",
       "      <td>-0.112275</td>\n",
       "      <td>0.041639</td>\n",
       "      <td>-0.041451</td>\n",
       "      <td>-0.033929</td>\n",
       "      <td>-0.055093</td>\n",
       "      <td>-0.020203</td>\n",
       "      <td>0.021392</td>\n",
       "      <td>-0.192331</td>\n",
       "      <td>0.043283</td>\n",
       "      <td>0.105996</td>\n",
       "    </tr>\n",
       "    <tr>\n",
       "      <td>9996</td>\n",
       "      <td>-0.021209</td>\n",
       "      <td>0.151835</td>\n",
       "      <td>-0.112525</td>\n",
       "      <td>-0.122594</td>\n",
       "      <td>0.096538</td>\n",
       "      <td>0.058507</td>\n",
       "      <td>0.037832</td>\n",
       "      <td>-0.138415</td>\n",
       "      <td>-0.004357</td>\n",
       "      <td>2.119311</td>\n",
       "      <td>...</td>\n",
       "      <td>-0.134819</td>\n",
       "      <td>0.032786</td>\n",
       "      <td>-0.051842</td>\n",
       "      <td>-0.048212</td>\n",
       "      <td>0.020107</td>\n",
       "      <td>-0.043680</td>\n",
       "      <td>0.014316</td>\n",
       "      <td>-0.068673</td>\n",
       "      <td>0.009537</td>\n",
       "      <td>0.125834</td>\n",
       "    </tr>\n",
       "    <tr>\n",
       "      <td>9997</td>\n",
       "      <td>-0.030904</td>\n",
       "      <td>0.165316</td>\n",
       "      <td>-0.102100</td>\n",
       "      <td>-0.127558</td>\n",
       "      <td>0.130750</td>\n",
       "      <td>0.056111</td>\n",
       "      <td>0.000408</td>\n",
       "      <td>-0.088597</td>\n",
       "      <td>0.021815</td>\n",
       "      <td>2.139497</td>\n",
       "      <td>...</td>\n",
       "      <td>-0.178942</td>\n",
       "      <td>0.070853</td>\n",
       "      <td>-0.077041</td>\n",
       "      <td>-0.035782</td>\n",
       "      <td>-0.026700</td>\n",
       "      <td>-0.029504</td>\n",
       "      <td>0.013137</td>\n",
       "      <td>-0.100683</td>\n",
       "      <td>0.024946</td>\n",
       "      <td>0.108802</td>\n",
       "    </tr>\n",
       "    <tr>\n",
       "      <td>9998</td>\n",
       "      <td>-0.026898</td>\n",
       "      <td>0.144509</td>\n",
       "      <td>-0.164131</td>\n",
       "      <td>-0.081958</td>\n",
       "      <td>0.082170</td>\n",
       "      <td>-0.037320</td>\n",
       "      <td>0.030681</td>\n",
       "      <td>-0.165972</td>\n",
       "      <td>-0.023817</td>\n",
       "      <td>2.318492</td>\n",
       "      <td>...</td>\n",
       "      <td>-0.177542</td>\n",
       "      <td>-0.039687</td>\n",
       "      <td>0.011728</td>\n",
       "      <td>-0.033147</td>\n",
       "      <td>0.080831</td>\n",
       "      <td>-0.011535</td>\n",
       "      <td>-0.033406</td>\n",
       "      <td>-0.053590</td>\n",
       "      <td>0.045518</td>\n",
       "      <td>0.094528</td>\n",
       "    </tr>\n",
       "    <tr>\n",
       "      <td>9999</td>\n",
       "      <td>-0.015508</td>\n",
       "      <td>0.211870</td>\n",
       "      <td>-0.094921</td>\n",
       "      <td>-0.030358</td>\n",
       "      <td>0.081555</td>\n",
       "      <td>0.067068</td>\n",
       "      <td>-0.024868</td>\n",
       "      <td>-0.101762</td>\n",
       "      <td>0.035391</td>\n",
       "      <td>1.742677</td>\n",
       "      <td>...</td>\n",
       "      <td>-0.119300</td>\n",
       "      <td>0.041961</td>\n",
       "      <td>-0.053012</td>\n",
       "      <td>-0.018483</td>\n",
       "      <td>-0.040071</td>\n",
       "      <td>-0.047681</td>\n",
       "      <td>-0.007709</td>\n",
       "      <td>-0.189017</td>\n",
       "      <td>-0.013659</td>\n",
       "      <td>0.126552</td>\n",
       "    </tr>\n",
       "  </tbody>\n",
       "</table>\n",
       "<p>10000 rows × 300 columns</p>\n",
       "</div>"
      ],
      "text/plain": [
       "           0         1         2         3         4         5         6    \\\n",
       "0    -0.021647  0.138191 -0.106211 -0.078064  0.056181  0.060862 -0.003805   \n",
       "1    -0.051446  0.174888 -0.162487 -0.085476  0.075221  0.077776  0.023618   \n",
       "2     0.017356  0.126895 -0.039717 -0.133329  0.094522  0.094641  0.031455   \n",
       "3     0.060860  0.164606 -0.154045 -0.168020  0.138500  0.092502 -0.002123   \n",
       "4    -0.095067  0.196053 -0.222208 -0.049087  0.052358 -0.010961  0.008600   \n",
       "...        ...       ...       ...       ...       ...       ...       ...   \n",
       "9995 -0.075224  0.134890 -0.089058 -0.109522  0.056692  0.149972 -0.031459   \n",
       "9996 -0.021209  0.151835 -0.112525 -0.122594  0.096538  0.058507  0.037832   \n",
       "9997 -0.030904  0.165316 -0.102100 -0.127558  0.130750  0.056111  0.000408   \n",
       "9998 -0.026898  0.144509 -0.164131 -0.081958  0.082170 -0.037320  0.030681   \n",
       "9999 -0.015508  0.211870 -0.094921 -0.030358  0.081555  0.067068 -0.024868   \n",
       "\n",
       "           7         8         9    ...       290       291       292  \\\n",
       "0    -0.112674 -0.033807  2.101514  ... -0.136959  0.051397  0.018642   \n",
       "1    -0.094539  0.011515  2.291694  ... -0.185593  0.048113 -0.003736   \n",
       "2    -0.209612 -0.031536  1.723231  ... -0.226321  0.145408 -0.109102   \n",
       "3    -0.076254 -0.074994  1.953031  ... -0.180692 -0.032520  0.012061   \n",
       "4    -0.170744 -0.042944  2.149826  ... -0.194802  0.040638 -0.044806   \n",
       "...        ...       ...       ...  ...       ...       ...       ...   \n",
       "9995 -0.069323 -0.004701  1.914595  ... -0.112275  0.041639 -0.041451   \n",
       "9996 -0.138415 -0.004357  2.119311  ... -0.134819  0.032786 -0.051842   \n",
       "9997 -0.088597  0.021815  2.139497  ... -0.178942  0.070853 -0.077041   \n",
       "9998 -0.165972 -0.023817  2.318492  ... -0.177542 -0.039687  0.011728   \n",
       "9999 -0.101762  0.035391  1.742677  ... -0.119300  0.041961 -0.053012   \n",
       "\n",
       "           293       294       295       296       297       298       299  \n",
       "0    -0.023069  0.023127 -0.044228  0.049466 -0.054665  0.042870  0.086430  \n",
       "1    -0.029323  0.014807 -0.067929 -0.012392 -0.065273  0.063565  0.102081  \n",
       "2    -0.080141  0.077363 -0.122503  0.094507 -0.145394  0.001237  0.178629  \n",
       "3    -0.062361 -0.013487  0.018939  0.078037 -0.067532 -0.028504  0.090960  \n",
       "4    -0.043795  0.094823 -0.067053 -0.022288 -0.071459  0.071956  0.073355  \n",
       "...        ...       ...       ...       ...       ...       ...       ...  \n",
       "9995 -0.033929 -0.055093 -0.020203  0.021392 -0.192331  0.043283  0.105996  \n",
       "9996 -0.048212  0.020107 -0.043680  0.014316 -0.068673  0.009537  0.125834  \n",
       "9997 -0.035782 -0.026700 -0.029504  0.013137 -0.100683  0.024946  0.108802  \n",
       "9998 -0.033147  0.080831 -0.011535 -0.033406 -0.053590  0.045518  0.094528  \n",
       "9999 -0.018483 -0.040071 -0.047681 -0.007709 -0.189017 -0.013659  0.126552  \n",
       "\n",
       "[10000 rows x 300 columns]"
      ]
     },
     "execution_count": 44,
     "metadata": {},
     "output_type": "execute_result"
    }
   ],
   "source": [
    "pd.DataFrame(np.vstack([x.vector for x in df.spacy]))"
   ]
  }
 ],
 "metadata": {
  "kernelspec": {
   "display_name": "Python 3",
   "language": "python",
   "name": "python3"
  },
  "language_info": {
   "codemirror_mode": {
    "name": "ipython",
    "version": 3
   },
   "file_extension": ".py",
   "mimetype": "text/x-python",
   "name": "python",
   "nbconvert_exporter": "python",
   "pygments_lexer": "ipython3",
   "version": "3.7.4"
  }
 },
 "nbformat": 4,
 "nbformat_minor": 4
}
